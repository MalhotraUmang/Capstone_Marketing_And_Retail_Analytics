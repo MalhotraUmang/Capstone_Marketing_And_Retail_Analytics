{
 "cells": [
  {
   "cell_type": "markdown",
   "id": "ee48c2a6-327e-4dde-848a-1ed4f52cf2a5",
   "metadata": {},
   "source": [
    "# **Capstone: Marketing and Retail Analytics**\n",
    "\n",
    "## *Background and Problem Statement:*\n",
    "OList, an e-commerce company has faced some losses recently and they want to reduce any unnecessary inventory costs.\n",
    "\n",
    "To manage the inventory cost of the company OList, it is required to <br> \n",
    "identify top products contributing to the revenue, <br> \n",
    "identify items that are more likely to be purchased individually or in combination with some other products, <br> \n",
    "identify the product categories which they can get rid of without significantly impacting business.\n",
    "\n",
    "Disclaimer: <br>\n",
    "Only the cases having order status as 'delivered' are considered. <br>\n",
    "EDA is performed to treat outliers and missing values carefully before making any inferences from the dataset."
   ]
  },
  {
   "cell_type": "markdown",
   "id": "ccdf231c-8c89-4233-9a37-1de835906512",
   "metadata": {},
   "source": [
    "### Steps to follow:\n",
    "\n",
    "1. Read the dataset (orders, order_items, customers, payments, products).\n",
    "2. Merge all the tables to make one data table.\n",
    "3. Filter for only 'delivered' orders.\n",
    "4. Understand the data (Shape, Data types, High level Statistics/Distribution, Unique Values etc).\n",
    "5. Clean the dataset for Missing values, Duplicate values, Outliers and Consistencies.\n",
    "6. Analyze the data: Univariate, Bivariate, Multivariate, Business specific.\n",
    "7. Document Insights.\n",
    "8. Export the cleaned and preprocessed dataset to a new table for Tableau Visualization & Dashboarding."
   ]
  },
  {
   "attachments": {
    "0405bc43-c4e0-4e2b-91f4-70f5aed4586d.jpg": {
     "image/jpeg": "[encoded data removed]"
    }
   },
   "cell_type": "markdown",
   "id": "b10114d9-6125-41ca-9a16-b5c050fea5d3",
   "metadata": {},
   "source": [
    "### Retail Dataset ERD\n",
    "\n",
    "This is how the various tables in the dataset are associated with each other.\n",
    "\n",
    "![Retail_dataset_ERD.jpg](attachment:0405bc43-c4e0-4e2b-91f4-70f5aed4586d.jpg)"
   ]
  },
  {
   "cell_type": "markdown",
   "id": "002955e1-281b-41f7-bc10-c6b53c7789b0",
   "metadata": {},
   "source": [
    "## 0. Import required libraries"
   ]
  },
  {
   "cell_type": "code",
   "execution_count": 34,
   "id": "c6aab6bc-f456-4bd6-970a-afac166403fa",
   "metadata": {},
   "outputs": [],
   "source": [
    "# libaries for numerical operations and handling dataframes\n",
    "import numpy as np, pandas as pd\n",
    "\n",
    "# libraries to plot various graphs for data analysis\n",
    "import matplotlib.pyplot as plt, seaborn as sns\n",
    "\n",
    "# to plot and save graphs within jupyter notebook\n",
    "%matplotlib inline\n",
    "\n",
    "# disable warnings\n",
    "import warnings\n",
    "warnings.filterwarnings('ignore')\n"
   ]
  },
  {
   "cell_type": "markdown",
   "id": "06f1e93d-cfd7-4e12-954e-db8bab2db42f",
   "metadata": {},
   "source": [
    "## 1. Read the dataset (orders, order_items, customers, payments, products)\n",
    "orders:   \n",
    "order_items:   \n",
    "customers:   \n",
    "payments:   \n",
    "products:   "
   ]
  },
  {
   "cell_type": "markdown",
   "id": "9a855411-8f97-4e06-95dd-ecb716f6e775",
   "metadata": {
    "jp-MarkdownHeadingCollapsed": true
   },
   "source": [
    "### orders"
   ]
  },
  {
   "cell_type": "code",
   "execution_count": 87,
   "id": "b97a0afb-a4a3-4ce9-ac57-03e1791eb4a8",
   "metadata": {},
   "outputs": [
    {
     "data": {
      "text/html": [
       "<div>\n",
       "<style scoped>\n",
       "    .dataframe tbody tr th:only-of-type {\n",
       "        vertical-align: middle;\n",
       "    }\n",
       "\n",
       "    .dataframe tbody tr th {\n",
       "        vertical-align: top;\n",
       "    }\n",
       "\n",
       "    .dataframe thead th {\n",
       "        text-align: right;\n",
       "    }\n",
       "</style>\n",
       "<table border=\"1\" class=\"dataframe\">\n",
       "  <thead>\n",
       "    <tr style=\"text-align: right;\">\n",
       "      <th></th>\n",
       "      <th>order_id</th>\n",
       "      <th>customer_id</th>\n",
       "      <th>order_status</th>\n",
       "      <th>order_purchase_timestamp</th>\n",
       "      <th>order_approved_at</th>\n",
       "      <th>order_delivered_timestamp</th>\n",
       "      <th>order_estimated_delivery_date</th>\n",
       "    </tr>\n",
       "  </thead>\n",
       "  <tbody>\n",
       "    <tr>\n",
       "      <th>0</th>\n",
       "      <td>e481f51cbdc54678b7cc49136f2d6af7</td>\n",
       "      <td>7c396fd4830fd04220f754e42b4e5bff</td>\n",
       "      <td>delivered</td>\n",
       "      <td>2017-10-02 10:56:33</td>\n",
       "      <td>2017-10-02 11:07:15</td>\n",
       "      <td>2017-10-10 21:25:13</td>\n",
       "      <td>2017-10-18</td>\n",
       "    </tr>\n",
       "    <tr>\n",
       "      <th>1</th>\n",
       "      <td>53cdb2fc8bc7dce0b6741e2150273451</td>\n",
       "      <td>af07308b275d755c9edb36a90c618231</td>\n",
       "      <td>delivered</td>\n",
       "      <td>2018-07-24 20:41:37</td>\n",
       "      <td>2018-07-26 03:24:27</td>\n",
       "      <td>2018-08-07 15:27:45</td>\n",
       "      <td>2018-08-13</td>\n",
       "    </tr>\n",
       "    <tr>\n",
       "      <th>2</th>\n",
       "      <td>47770eb9100c2d0c44946d9cf07ec65d</td>\n",
       "      <td>3a653a41f6f9fc3d2a113cf8398680e8</td>\n",
       "      <td>delivered</td>\n",
       "      <td>2018-08-08 08:38:49</td>\n",
       "      <td>2018-08-08 08:55:23</td>\n",
       "      <td>2018-08-17 18:06:29</td>\n",
       "      <td>2018-09-04</td>\n",
       "    </tr>\n",
       "    <tr>\n",
       "      <th>3</th>\n",
       "      <td>949d5b44dbf5de918fe9c16f97b45f8a</td>\n",
       "      <td>7c142cf63193a1473d2e66489a9ae977</td>\n",
       "      <td>delivered</td>\n",
       "      <td>2017-11-18 19:28:06</td>\n",
       "      <td>2017-11-18 19:45:59</td>\n",
       "      <td>2017-12-02 00:28:42</td>\n",
       "      <td>2017-12-15</td>\n",
       "    </tr>\n",
       "    <tr>\n",
       "      <th>4</th>\n",
       "      <td>ad21c59c0840e6cb83a9ceb5573f8159</td>\n",
       "      <td>72632f0f9dd73dfee390c9b22eb56dd6</td>\n",
       "      <td>delivered</td>\n",
       "      <td>2018-02-13 21:18:39</td>\n",
       "      <td>2018-02-13 22:20:29</td>\n",
       "      <td>2018-02-16 18:17:02</td>\n",
       "      <td>2018-02-26</td>\n",
       "    </tr>\n",
       "  </tbody>\n",
       "</table>\n",
       "</div>"
      ],
      "text/plain": [
       "                           order_id                       customer_id  \\\n",
       "0  e481f51cbdc54678b7cc49136f2d6af7  7c396fd4830fd04220f754e42b4e5bff   \n",
       "1  53cdb2fc8bc7dce0b6741e2150273451  af07308b275d755c9edb36a90c618231   \n",
       "2  47770eb9100c2d0c44946d9cf07ec65d  3a653a41f6f9fc3d2a113cf8398680e8   \n",
       "3  949d5b44dbf5de918fe9c16f97b45f8a  7c142cf63193a1473d2e66489a9ae977   \n",
       "4  ad21c59c0840e6cb83a9ceb5573f8159  72632f0f9dd73dfee390c9b22eb56dd6   \n",
       "\n",
       "  order_status order_purchase_timestamp   order_approved_at  \\\n",
       "0    delivered      2017-10-02 10:56:33 2017-10-02 11:07:15   \n",
       "1    delivered      2018-07-24 20:41:37 2018-07-26 03:24:27   \n",
       "2    delivered      2018-08-08 08:38:49 2018-08-08 08:55:23   \n",
       "3    delivered      2017-11-18 19:28:06 2017-11-18 19:45:59   \n",
       "4    delivered      2018-02-13 21:18:39 2018-02-13 22:20:29   \n",
       "\n",
       "  order_delivered_timestamp order_estimated_delivery_date  \n",
       "0       2017-10-10 21:25:13                    2017-10-18  \n",
       "1       2018-08-07 15:27:45                    2018-08-13  \n",
       "2       2018-08-17 18:06:29                    2018-09-04  \n",
       "3       2017-12-02 00:28:42                    2017-12-15  \n",
       "4       2018-02-16 18:17:02                    2018-02-26  "
      ]
     },
     "execution_count": 87,
     "metadata": {},
     "output_type": "execute_result"
    }
   ],
   "source": [
    "# read orders table from the retail dataset\n",
    "orders = pd.read_excel('Retail_dataset.xlsx', sheet_name='orders')\n",
    "orders.head()"
   ]
  },
  {
   "cell_type": "code",
   "execution_count": 88,
   "id": "8437fb1e-b04f-4a42-84ba-7e1637623404",
   "metadata": {},
   "outputs": [
    {
     "name": "stdout",
     "output_type": "stream",
     "text": [
      "Records: 99441\n",
      "Features: 7\n"
     ]
    }
   ],
   "source": [
    "# check number of records and features in orders table\n",
    "print('Records: {}\\nFeatures: {}'.format(orders.shape[0], orders.shape[1]))"
   ]
  },
  {
   "cell_type": "code",
   "execution_count": 89,
   "id": "de23ee24-1735-4f48-b953-c6d9f308ec62",
   "metadata": {},
   "outputs": [
    {
     "data": {
      "text/plain": [
       "(2963, 7)"
      ]
     },
     "execution_count": 89,
     "metadata": {},
     "output_type": "execute_result"
    }
   ],
   "source": [
    "# Check how many records in orders table have order_status other than 'delivered'\n",
    "orders[orders.order_status != 'delivered'].shape"
   ]
  },
  {
   "cell_type": "code",
   "execution_count": 90,
   "id": "f83ecffe-4620-4c66-aeaf-6c7534e8c2b3",
   "metadata": {},
   "outputs": [
    {
     "data": {
      "text/html": [
       "<div>\n",
       "<style scoped>\n",
       "    .dataframe tbody tr th:only-of-type {\n",
       "        vertical-align: middle;\n",
       "    }\n",
       "\n",
       "    .dataframe tbody tr th {\n",
       "        vertical-align: top;\n",
       "    }\n",
       "\n",
       "    .dataframe thead th {\n",
       "        text-align: right;\n",
       "    }\n",
       "</style>\n",
       "<table border=\"1\" class=\"dataframe\">\n",
       "  <thead>\n",
       "    <tr style=\"text-align: right;\">\n",
       "      <th></th>\n",
       "      <th>order_id</th>\n",
       "      <th>customer_id</th>\n",
       "      <th>order_status</th>\n",
       "      <th>order_purchase_timestamp</th>\n",
       "      <th>order_approved_at</th>\n",
       "      <th>order_delivered_timestamp</th>\n",
       "      <th>order_estimated_delivery_date</th>\n",
       "    </tr>\n",
       "  </thead>\n",
       "  <tbody>\n",
       "    <tr>\n",
       "      <th>0</th>\n",
       "      <td>e481f51cbdc54678b7cc49136f2d6af7</td>\n",
       "      <td>7c396fd4830fd04220f754e42b4e5bff</td>\n",
       "      <td>delivered</td>\n",
       "      <td>2017-10-02 10:56:33</td>\n",
       "      <td>2017-10-02 11:07:15</td>\n",
       "      <td>2017-10-10 21:25:13</td>\n",
       "      <td>2017-10-18</td>\n",
       "    </tr>\n",
       "    <tr>\n",
       "      <th>1</th>\n",
       "      <td>53cdb2fc8bc7dce0b6741e2150273451</td>\n",
       "      <td>af07308b275d755c9edb36a90c618231</td>\n",
       "      <td>delivered</td>\n",
       "      <td>2018-07-24 20:41:37</td>\n",
       "      <td>2018-07-26 03:24:27</td>\n",
       "      <td>2018-08-07 15:27:45</td>\n",
       "      <td>2018-08-13</td>\n",
       "    </tr>\n",
       "    <tr>\n",
       "      <th>2</th>\n",
       "      <td>47770eb9100c2d0c44946d9cf07ec65d</td>\n",
       "      <td>3a653a41f6f9fc3d2a113cf8398680e8</td>\n",
       "      <td>delivered</td>\n",
       "      <td>2018-08-08 08:38:49</td>\n",
       "      <td>2018-08-08 08:55:23</td>\n",
       "      <td>2018-08-17 18:06:29</td>\n",
       "      <td>2018-09-04</td>\n",
       "    </tr>\n",
       "    <tr>\n",
       "      <th>3</th>\n",
       "      <td>949d5b44dbf5de918fe9c16f97b45f8a</td>\n",
       "      <td>7c142cf63193a1473d2e66489a9ae977</td>\n",
       "      <td>delivered</td>\n",
       "      <td>2017-11-18 19:28:06</td>\n",
       "      <td>2017-11-18 19:45:59</td>\n",
       "      <td>2017-12-02 00:28:42</td>\n",
       "      <td>2017-12-15</td>\n",
       "    </tr>\n",
       "    <tr>\n",
       "      <th>4</th>\n",
       "      <td>ad21c59c0840e6cb83a9ceb5573f8159</td>\n",
       "      <td>72632f0f9dd73dfee390c9b22eb56dd6</td>\n",
       "      <td>delivered</td>\n",
       "      <td>2018-02-13 21:18:39</td>\n",
       "      <td>2018-02-13 22:20:29</td>\n",
       "      <td>2018-02-16 18:17:02</td>\n",
       "      <td>2018-02-26</td>\n",
       "    </tr>\n",
       "  </tbody>\n",
       "</table>\n",
       "</div>"
      ],
      "text/plain": [
       "                           order_id                       customer_id  \\\n",
       "0  e481f51cbdc54678b7cc49136f2d6af7  7c396fd4830fd04220f754e42b4e5bff   \n",
       "1  53cdb2fc8bc7dce0b6741e2150273451  af07308b275d755c9edb36a90c618231   \n",
       "2  47770eb9100c2d0c44946d9cf07ec65d  3a653a41f6f9fc3d2a113cf8398680e8   \n",
       "3  949d5b44dbf5de918fe9c16f97b45f8a  7c142cf63193a1473d2e66489a9ae977   \n",
       "4  ad21c59c0840e6cb83a9ceb5573f8159  72632f0f9dd73dfee390c9b22eb56dd6   \n",
       "\n",
       "  order_status order_purchase_timestamp   order_approved_at  \\\n",
       "0    delivered      2017-10-02 10:56:33 2017-10-02 11:07:15   \n",
       "1    delivered      2018-07-24 20:41:37 2018-07-26 03:24:27   \n",
       "2    delivered      2018-08-08 08:38:49 2018-08-08 08:55:23   \n",
       "3    delivered      2017-11-18 19:28:06 2017-11-18 19:45:59   \n",
       "4    delivered      2018-02-13 21:18:39 2018-02-13 22:20:29   \n",
       "\n",
       "  order_delivered_timestamp order_estimated_delivery_date  \n",
       "0       2017-10-10 21:25:13                    2017-10-18  \n",
       "1       2018-08-07 15:27:45                    2018-08-13  \n",
       "2       2018-08-17 18:06:29                    2018-09-04  \n",
       "3       2017-12-02 00:28:42                    2017-12-15  \n",
       "4       2018-02-16 18:17:02                    2018-02-26  "
      ]
     },
     "execution_count": 90,
     "metadata": {},
     "output_type": "execute_result"
    }
   ],
   "source": [
    "# Only the 'delivered' orders need to be considered according to the problem statement\n",
    "orders = orders[orders.order_status == 'delivered']\n",
    "orders.head()"
   ]
  },
  {
   "cell_type": "code",
   "execution_count": 91,
   "id": "ad4c135f-d20a-404b-9311-6e0dc2848f7c",
   "metadata": {},
   "outputs": [
    {
     "name": "stdout",
     "output_type": "stream",
     "text": [
      "Records: 96478\n",
      "Features: 7\n"
     ]
    }
   ],
   "source": [
    "# check number of records and features in orders table, with only 'delivered' orders\n",
    "print('Records: {}\\nFeatures: {}'.format(orders.shape[0], orders.shape[1]))"
   ]
  },
  {
   "cell_type": "code",
   "execution_count": 92,
   "id": "08d146a7-bcfa-4f6d-b09d-f42a3c337a25",
   "metadata": {},
   "outputs": [],
   "source": [
    "# no more orders other than 'delivered'\n",
    "# orders[orders.order_status != 'delivered']"
   ]
  },
  {
   "cell_type": "code",
   "execution_count": 93,
   "id": "463d50c1-02c2-48e6-9203-fca4543fdbe8",
   "metadata": {},
   "outputs": [
    {
     "data": {
      "text/html": [
       "<div>\n",
       "<style scoped>\n",
       "    .dataframe tbody tr th:only-of-type {\n",
       "        vertical-align: middle;\n",
       "    }\n",
       "\n",
       "    .dataframe tbody tr th {\n",
       "        vertical-align: top;\n",
       "    }\n",
       "\n",
       "    .dataframe thead th {\n",
       "        text-align: right;\n",
       "    }\n",
       "</style>\n",
       "<table border=\"1\" class=\"dataframe\">\n",
       "  <thead>\n",
       "    <tr style=\"text-align: right;\">\n",
       "      <th></th>\n",
       "      <th>order_id</th>\n",
       "      <th>customer_id</th>\n",
       "      <th>order_purchase_timestamp</th>\n",
       "      <th>order_approved_at</th>\n",
       "      <th>order_delivered_timestamp</th>\n",
       "      <th>order_estimated_delivery_date</th>\n",
       "    </tr>\n",
       "  </thead>\n",
       "  <tbody>\n",
       "    <tr>\n",
       "      <th>0</th>\n",
       "      <td>e481f51cbdc54678b7cc49136f2d6af7</td>\n",
       "      <td>7c396fd4830fd04220f754e42b4e5bff</td>\n",
       "      <td>2017-10-02 10:56:33</td>\n",
       "      <td>2017-10-02 11:07:15</td>\n",
       "      <td>2017-10-10 21:25:13</td>\n",
       "      <td>2017-10-18</td>\n",
       "    </tr>\n",
       "    <tr>\n",
       "      <th>1</th>\n",
       "      <td>53cdb2fc8bc7dce0b6741e2150273451</td>\n",
       "      <td>af07308b275d755c9edb36a90c618231</td>\n",
       "      <td>2018-07-24 20:41:37</td>\n",
       "      <td>2018-07-26 03:24:27</td>\n",
       "      <td>2018-08-07 15:27:45</td>\n",
       "      <td>2018-08-13</td>\n",
       "    </tr>\n",
       "    <tr>\n",
       "      <th>2</th>\n",
       "      <td>47770eb9100c2d0c44946d9cf07ec65d</td>\n",
       "      <td>3a653a41f6f9fc3d2a113cf8398680e8</td>\n",
       "      <td>2018-08-08 08:38:49</td>\n",
       "      <td>2018-08-08 08:55:23</td>\n",
       "      <td>2018-08-17 18:06:29</td>\n",
       "      <td>2018-09-04</td>\n",
       "    </tr>\n",
       "    <tr>\n",
       "      <th>3</th>\n",
       "      <td>949d5b44dbf5de918fe9c16f97b45f8a</td>\n",
       "      <td>7c142cf63193a1473d2e66489a9ae977</td>\n",
       "      <td>2017-11-18 19:28:06</td>\n",
       "      <td>2017-11-18 19:45:59</td>\n",
       "      <td>2017-12-02 00:28:42</td>\n",
       "      <td>2017-12-15</td>\n",
       "    </tr>\n",
       "    <tr>\n",
       "      <th>4</th>\n",
       "      <td>ad21c59c0840e6cb83a9ceb5573f8159</td>\n",
       "      <td>72632f0f9dd73dfee390c9b22eb56dd6</td>\n",
       "      <td>2018-02-13 21:18:39</td>\n",
       "      <td>2018-02-13 22:20:29</td>\n",
       "      <td>2018-02-16 18:17:02</td>\n",
       "      <td>2018-02-26</td>\n",
       "    </tr>\n",
       "  </tbody>\n",
       "</table>\n",
       "</div>"
      ],
      "text/plain": [
       "                           order_id                       customer_id  \\\n",
       "0  e481f51cbdc54678b7cc49136f2d6af7  7c396fd4830fd04220f754e42b4e5bff   \n",
       "1  53cdb2fc8bc7dce0b6741e2150273451  af07308b275d755c9edb36a90c618231   \n",
       "2  47770eb9100c2d0c44946d9cf07ec65d  3a653a41f6f9fc3d2a113cf8398680e8   \n",
       "3  949d5b44dbf5de918fe9c16f97b45f8a  7c142cf63193a1473d2e66489a9ae977   \n",
       "4  ad21c59c0840e6cb83a9ceb5573f8159  72632f0f9dd73dfee390c9b22eb56dd6   \n",
       "\n",
       "  order_purchase_timestamp   order_approved_at order_delivered_timestamp  \\\n",
       "0      2017-10-02 10:56:33 2017-10-02 11:07:15       2017-10-10 21:25:13   \n",
       "1      2018-07-24 20:41:37 2018-07-26 03:24:27       2018-08-07 15:27:45   \n",
       "2      2018-08-08 08:38:49 2018-08-08 08:55:23       2018-08-17 18:06:29   \n",
       "3      2017-11-18 19:28:06 2017-11-18 19:45:59       2017-12-02 00:28:42   \n",
       "4      2018-02-13 21:18:39 2018-02-13 22:20:29       2018-02-16 18:17:02   \n",
       "\n",
       "  order_estimated_delivery_date  \n",
       "0                    2017-10-18  \n",
       "1                    2018-08-13  \n",
       "2                    2018-09-04  \n",
       "3                    2017-12-15  \n",
       "4                    2018-02-26  "
      ]
     },
     "execution_count": 93,
     "metadata": {},
     "output_type": "execute_result"
    }
   ],
   "source": [
    "# drop order_status column as it is no more relevant\n",
    "orders.drop(columns=['order_status'], axis=1, inplace=True)\n",
    "orders = orders.reset_index(drop=True)\n",
    "orders.head()"
   ]
  },
  {
   "cell_type": "code",
   "execution_count": 94,
   "id": "35af013c-25a2-4ffe-a65d-b4c4ad5295e8",
   "metadata": {},
   "outputs": [
    {
     "name": "stdout",
     "output_type": "stream",
     "text": [
      "Records: 96478\n",
      "Features: 6\n"
     ]
    }
   ],
   "source": [
    "# check number of records and features in orders table, excluding order_status column\n",
    "print('Records: {}\\nFeatures: {}'.format(orders.shape[0], orders.shape[1]))"
   ]
  },
  {
   "cell_type": "code",
   "execution_count": 95,
   "id": "39c488a5-942d-4881-a80a-5b67cc382c65",
   "metadata": {},
   "outputs": [
    {
     "name": "stdout",
     "output_type": "stream",
     "text": [
      "<class 'pandas.core.frame.DataFrame'>\n",
      "RangeIndex: 96478 entries, 0 to 96477\n",
      "Data columns (total 6 columns):\n",
      " #   Column                         Non-Null Count  Dtype         \n",
      "---  ------                         --------------  -----         \n",
      " 0   order_id                       96478 non-null  object        \n",
      " 1   customer_id                    96478 non-null  object        \n",
      " 2   order_purchase_timestamp       96478 non-null  datetime64[ns]\n",
      " 3   order_approved_at              96464 non-null  datetime64[ns]\n",
      " 4   order_delivered_timestamp      96470 non-null  datetime64[ns]\n",
      " 5   order_estimated_delivery_date  96478 non-null  datetime64[ns]\n",
      "dtypes: datetime64[ns](4), object(2)\n",
      "memory usage: 4.4+ MB\n"
     ]
    }
   ],
   "source": [
    "# Look at basic information of orders table\n",
    "orders.info()"
   ]
  },
  {
   "cell_type": "code",
   "execution_count": 96,
   "id": "189f470e-4782-4697-b30b-8d1f5c6d9de1",
   "metadata": {},
   "outputs": [],
   "source": [
    "# Observations:\n",
    "# 1. The order_id and customer_id columns have object datatype which seems correct.\n",
    "# 2. The timestamp related columns have datetime64[ns] datatype which also seems fine.\n",
    "# 3. There are two timestamp columns with some null values."
   ]
  },
  {
   "cell_type": "code",
   "execution_count": 97,
   "id": "0d99a831-0117-4791-b519-a9890da48932",
   "metadata": {},
   "outputs": [],
   "source": [
    "# Look at basic numerical statistics of orders table\n",
    "# Only numeric columns are datetime columns, and dates statistics is not relevant\n",
    "# orders.describe()"
   ]
  },
  {
   "cell_type": "code",
   "execution_count": 98,
   "id": "ebfda81e-8f78-4e41-bd51-339209ea164b",
   "metadata": {},
   "outputs": [
    {
     "data": {
      "text/plain": [
       "order_id                         0.000000\n",
       "customer_id                      0.000000\n",
       "order_purchase_timestamp         0.000000\n",
       "order_approved_at                0.002419\n",
       "order_delivered_timestamp        0.001382\n",
       "order_estimated_delivery_date    0.000000\n",
       "dtype: float64"
      ]
     },
     "execution_count": 98,
     "metadata": {},
     "output_type": "execute_result"
    }
   ],
   "source": [
    "# Check null values in orders table\n",
    "(orders.isna().sum() / orders.size) * 100"
   ]
  },
  {
   "cell_type": "code",
   "execution_count": 99,
   "id": "8c8a488d-300d-4331-9bd1-79a6ea99d8a9",
   "metadata": {},
   "outputs": [],
   "source": [
    "# Look at the null value records in 'order_approved_at' column\n",
    "# orders[orders.order_approved_at.isna()].size"
   ]
  },
  {
   "cell_type": "code",
   "execution_count": 100,
   "id": "f9581416-92c7-471c-9c29-158942be5eb9",
   "metadata": {},
   "outputs": [],
   "source": [
    "# Look at the null value records in 'order_delivered_timestamp' column\n",
    "# orders[orders.order_delivered_timestamp.isna()].size"
   ]
  },
  {
   "cell_type": "code",
   "execution_count": 101,
   "id": "16ebbafe-cd90-4953-af45-c208b5338956",
   "metadata": {},
   "outputs": [],
   "source": [
    "# Very low percentage of records in 'order_approved_at' and 'order_delivered_timestamp' have null values (NaT)\n",
    "# These records can be discarded\n",
    "\n",
    "# Remove missing value records column-by-column\n",
    "# orders.order_approved_at.dropna(ignore_index=True, inplace=True)\n",
    "# orders.order_delivered_timestamp.dropna(ignore_index=True, inplace=True)\n",
    "\n",
    "# OR\n",
    "# Remove missing value records in the whole table\n",
    "orders.dropna(ignore_index=True, inplace=True)"
   ]
  },
  {
   "cell_type": "code",
   "execution_count": 102,
   "id": "5f79ea30-28ee-473b-9c2d-852667e3b32a",
   "metadata": {},
   "outputs": [
    {
     "data": {
      "text/plain": [
       "order_id                         0\n",
       "customer_id                      0\n",
       "order_purchase_timestamp         0\n",
       "order_approved_at                0\n",
       "order_delivered_timestamp        0\n",
       "order_estimated_delivery_date    0\n",
       "dtype: int64"
      ]
     },
     "execution_count": 102,
     "metadata": {},
     "output_type": "execute_result"
    }
   ],
   "source": [
    "# Check null values in orders table, after treating null value records in 2 columns\n",
    "orders.isna().sum()"
   ]
  },
  {
   "cell_type": "code",
   "execution_count": 103,
   "id": "9950e567-c83a-4713-96a8-71de4b78eac8",
   "metadata": {},
   "outputs": [
    {
     "name": "stdout",
     "output_type": "stream",
     "text": [
      "Records: 96456\n",
      "Features: 6\n"
     ]
    }
   ],
   "source": [
    "# check number of records and features in orders table, after treating null values in 2 columns\n",
    "print('Records: {}\\nFeatures: {}'.format(orders.shape[0], orders.shape[1]))"
   ]
  },
  {
   "cell_type": "code",
   "execution_count": 155,
   "id": "683d2702-752b-4e15-99c9-5b4a70945218",
   "metadata": {},
   "outputs": [
    {
     "data": {
      "text/html": [
       "<div>\n",
       "<style scoped>\n",
       "    .dataframe tbody tr th:only-of-type {\n",
       "        vertical-align: middle;\n",
       "    }\n",
       "\n",
       "    .dataframe tbody tr th {\n",
       "        vertical-align: top;\n",
       "    }\n",
       "\n",
       "    .dataframe thead th {\n",
       "        text-align: right;\n",
       "    }\n",
       "</style>\n",
       "<table border=\"1\" class=\"dataframe\">\n",
       "  <thead>\n",
       "    <tr style=\"text-align: right;\">\n",
       "      <th></th>\n",
       "      <th>order_id</th>\n",
       "      <th>customer_id</th>\n",
       "      <th>order_purchase_timestamp</th>\n",
       "      <th>order_approved_at</th>\n",
       "      <th>order_delivered_timestamp</th>\n",
       "      <th>order_estimated_delivery_date</th>\n",
       "    </tr>\n",
       "  </thead>\n",
       "  <tbody>\n",
       "  </tbody>\n",
       "</table>\n",
       "</div>"
      ],
      "text/plain": [
       "Empty DataFrame\n",
       "Columns: [order_id, customer_id, order_purchase_timestamp, order_approved_at, order_delivered_timestamp, order_estimated_delivery_date]\n",
       "Index: []"
      ]
     },
     "execution_count": 155,
     "metadata": {},
     "output_type": "execute_result"
    }
   ],
   "source": [
    "# Look for any duplicate records in orders table\n",
    "orders[orders.duplicated()]\n",
    "\n",
    "# Remove duplicates\n",
    "# orders.drop_duplicates()"
   ]
  },
  {
   "cell_type": "code",
   "execution_count": 182,
   "id": "9a99af9a-a01f-428a-98fa-6fe2252e220a",
   "metadata": {},
   "outputs": [
    {
     "data": {
      "text/plain": [
       "0"
      ]
     },
     "execution_count": 182,
     "metadata": {},
     "output_type": "execute_result"
    }
   ],
   "source": [
    "# Check if purchase dates are appearing after the delivery dates\n",
    "orders[orders.order_purchase_timestamp > orders.order_delivered_timestamp].size"
   ]
  },
  {
   "cell_type": "code",
   "execution_count": 183,
   "id": "8ed1114a-c680-45cf-b483-ac1a2a38ba96",
   "metadata": {},
   "outputs": [
    {
     "data": {
      "text/plain": [
       "0"
      ]
     },
     "execution_count": 183,
     "metadata": {},
     "output_type": "execute_result"
    }
   ],
   "source": [
    "# Check if purchase dates are appearing after the approval dates\n",
    "orders[orders.order_purchase_timestamp > orders.order_approved_at].size"
   ]
  },
  {
   "cell_type": "code",
   "execution_count": 195,
   "id": "f07ff4df-57ac-4f42-a0d0-03f66f5aa767",
   "metadata": {},
   "outputs": [
    {
     "name": "stdout",
     "output_type": "stream",
     "text": [
      "%age of Fast Deliveries:  91.88645600066351\n"
     ]
    }
   ],
   "source": [
    "# Any Deliveries faster than Estimation?\n",
    "FastDeliveries = orders[orders.order_delivered_timestamp < orders.order_estimated_delivery_date].size\n",
    "print('%age of Fast Deliveries: ', (FastDeliveries / orders.size)*100)"
   ]
  },
  {
   "cell_type": "code",
   "execution_count": 194,
   "id": "25f353b5-f72c-4134-b34a-ef9dc762b96d",
   "metadata": {},
   "outputs": [
    {
     "name": "stdout",
     "output_type": "stream",
     "text": [
      "%age of Slow Deliveries:  8.113543999336486\n"
     ]
    }
   ],
   "source": [
    "# Any Deliveries slower than Estimation?\n",
    "SlowDeliveries = orders[orders.order_delivered_timestamp > orders.order_estimated_delivery_date].size\n",
    "print('%age of Slow Deliveries: ', (SlowDeliveries / orders.size)*100)"
   ]
  },
  {
   "cell_type": "code",
   "execution_count": 186,
   "id": "0d6d9b9e-7fd7-40fc-9e02-50a703c330d9",
   "metadata": {},
   "outputs": [
    {
     "data": {
      "text/plain": [
       "0"
      ]
     },
     "execution_count": 186,
     "metadata": {},
     "output_type": "execute_result"
    }
   ],
   "source": [
    "# Any Deliveries macthing Estimation?\n",
    "orders[orders.order_delivered_timestamp == orders.order_estimated_delivery_date].size"
   ]
  },
  {
   "cell_type": "code",
   "execution_count": 197,
   "id": "259640d1-6da8-4f43-88b6-f56081cc0508",
   "metadata": {},
   "outputs": [],
   "source": [
    "# Observations:\n",
    "# 1. Purchase, Approval and Delivery dates are consistent with each other\n",
    "# 2. No order is delivered as estimated\n",
    "# 3. In approx 92% orders, the deliveries are done before the estimations"
   ]
  },
  {
   "cell_type": "code",
   "execution_count": 383,
   "id": "d21f0870-197a-4128-b854-169471e9b70e",
   "metadata": {},
   "outputs": [
    {
     "data": {
      "text/plain": [
       "True"
      ]
     },
     "execution_count": 383,
     "metadata": {},
     "output_type": "execute_result"
    }
   ],
   "source": [
    "# Check if all order_id values are unique in the orders table\n",
    "orders.order_id.nunique() == orders.shape[0]"
   ]
  },
  {
   "cell_type": "code",
   "execution_count": 104,
   "id": "8064c8dd-f8de-41da-af0a-d16c516efef8",
   "metadata": {},
   "outputs": [],
   "source": [
    "###############################################################################"
   ]
  },
  {
   "cell_type": "markdown",
   "id": "d355517b-7bca-4870-b98e-fe89b42a151a",
   "metadata": {
    "jp-MarkdownHeadingCollapsed": true
   },
   "source": [
    "### order_items"
   ]
  },
  {
   "cell_type": "code",
   "execution_count": 105,
   "id": "67f962c9-1161-4285-b7fc-a9bb1e62b63c",
   "metadata": {},
   "outputs": [
    {
     "data": {
      "text/html": [
       "<div>\n",
       "<style scoped>\n",
       "    .dataframe tbody tr th:only-of-type {\n",
       "        vertical-align: middle;\n",
       "    }\n",
       "\n",
       "    .dataframe tbody tr th {\n",
       "        vertical-align: top;\n",
       "    }\n",
       "\n",
       "    .dataframe thead th {\n",
       "        text-align: right;\n",
       "    }\n",
       "</style>\n",
       "<table border=\"1\" class=\"dataframe\">\n",
       "  <thead>\n",
       "    <tr style=\"text-align: right;\">\n",
       "      <th></th>\n",
       "      <th>order_id</th>\n",
       "      <th>order_item_id</th>\n",
       "      <th>product_id</th>\n",
       "      <th>seller_id</th>\n",
       "      <th>price</th>\n",
       "      <th>shipping_charges</th>\n",
       "    </tr>\n",
       "  </thead>\n",
       "  <tbody>\n",
       "    <tr>\n",
       "      <th>0</th>\n",
       "      <td>00010242fe8c5a6d1ba2dd792cb16214</td>\n",
       "      <td>1</td>\n",
       "      <td>4244733e06e7ecb4970a6e2683c13e61</td>\n",
       "      <td>48436dade18ac8b2bce089ec2a041202</td>\n",
       "      <td>58.90</td>\n",
       "      <td>13.29</td>\n",
       "    </tr>\n",
       "    <tr>\n",
       "      <th>1</th>\n",
       "      <td>00018f77f2f0320c557190d7a144bdd3</td>\n",
       "      <td>1</td>\n",
       "      <td>e5f2d52b802189ee658865ca93d83a8f</td>\n",
       "      <td>dd7ddc04e1b6c2c614352b383efe2d36</td>\n",
       "      <td>239.90</td>\n",
       "      <td>19.93</td>\n",
       "    </tr>\n",
       "    <tr>\n",
       "      <th>2</th>\n",
       "      <td>000229ec398224ef6ca0657da4fc703e</td>\n",
       "      <td>1</td>\n",
       "      <td>c777355d18b72b67abbeef9df44fd0fd</td>\n",
       "      <td>5b51032eddd242adc84c38acab88f23d</td>\n",
       "      <td>199.00</td>\n",
       "      <td>17.87</td>\n",
       "    </tr>\n",
       "    <tr>\n",
       "      <th>3</th>\n",
       "      <td>00024acbcdf0a6daa1e931b038114c75</td>\n",
       "      <td>1</td>\n",
       "      <td>7634da152a4610f1595efa32f14722fc</td>\n",
       "      <td>9d7a1d34a5052409006425275ba1c2b4</td>\n",
       "      <td>12.99</td>\n",
       "      <td>12.79</td>\n",
       "    </tr>\n",
       "    <tr>\n",
       "      <th>4</th>\n",
       "      <td>00042b26cf59d7ce69dfabb4e55b4fd9</td>\n",
       "      <td>1</td>\n",
       "      <td>ac6c3623068f30de03045865e4e10089</td>\n",
       "      <td>df560393f3a51e74553ab94004ba5c87</td>\n",
       "      <td>199.90</td>\n",
       "      <td>18.14</td>\n",
       "    </tr>\n",
       "  </tbody>\n",
       "</table>\n",
       "</div>"
      ],
      "text/plain": [
       "                           order_id  order_item_id  \\\n",
       "0  00010242fe8c5a6d1ba2dd792cb16214              1   \n",
       "1  00018f77f2f0320c557190d7a144bdd3              1   \n",
       "2  000229ec398224ef6ca0657da4fc703e              1   \n",
       "3  00024acbcdf0a6daa1e931b038114c75              1   \n",
       "4  00042b26cf59d7ce69dfabb4e55b4fd9              1   \n",
       "\n",
       "                         product_id                         seller_id   price  \\\n",
       "0  4244733e06e7ecb4970a6e2683c13e61  48436dade18ac8b2bce089ec2a041202   58.90   \n",
       "1  e5f2d52b802189ee658865ca93d83a8f  dd7ddc04e1b6c2c614352b383efe2d36  239.90   \n",
       "2  c777355d18b72b67abbeef9df44fd0fd  5b51032eddd242adc84c38acab88f23d  199.00   \n",
       "3  7634da152a4610f1595efa32f14722fc  9d7a1d34a5052409006425275ba1c2b4   12.99   \n",
       "4  ac6c3623068f30de03045865e4e10089  df560393f3a51e74553ab94004ba5c87  199.90   \n",
       "\n",
       "   shipping_charges  \n",
       "0             13.29  \n",
       "1             19.93  \n",
       "2             17.87  \n",
       "3             12.79  \n",
       "4             18.14  "
      ]
     },
     "execution_count": 105,
     "metadata": {},
     "output_type": "execute_result"
    }
   ],
   "source": [
    "# read order_items table from the retail dataset\n",
    "items = pd.read_excel('Retail_dataset.xlsx', sheet_name='order_items')\n",
    "items.head()"
   ]
  },
  {
   "cell_type": "code",
   "execution_count": 106,
   "id": "628adce8-611a-4bc1-82a3-28f2d9d92dac",
   "metadata": {},
   "outputs": [
    {
     "name": "stdout",
     "output_type": "stream",
     "text": [
      "Records: 112650\n",
      "Features: 6\n"
     ]
    }
   ],
   "source": [
    "# check number of records and features in order_items table\n",
    "print('Records: {}\\nFeatures: {}'.format(items.shape[0], items.shape[1]))"
   ]
  },
  {
   "cell_type": "code",
   "execution_count": 107,
   "id": "67bb1a69-7e74-4f98-841f-75138bbb05f6",
   "metadata": {},
   "outputs": [
    {
     "name": "stdout",
     "output_type": "stream",
     "text": [
      "<class 'pandas.core.frame.DataFrame'>\n",
      "RangeIndex: 112650 entries, 0 to 112649\n",
      "Data columns (total 6 columns):\n",
      " #   Column            Non-Null Count   Dtype  \n",
      "---  ------            --------------   -----  \n",
      " 0   order_id          112650 non-null  object \n",
      " 1   order_item_id     112650 non-null  int64  \n",
      " 2   product_id        112650 non-null  object \n",
      " 3   seller_id         112650 non-null  object \n",
      " 4   price             112650 non-null  float64\n",
      " 5   shipping_charges  112650 non-null  float64\n",
      "dtypes: float64(2), int64(1), object(3)\n",
      "memory usage: 5.2+ MB\n"
     ]
    }
   ],
   "source": [
    "# Look at basic information of order_items table\n",
    "items.info()"
   ]
  },
  {
   "cell_type": "code",
   "execution_count": 108,
   "id": "9eb3a4c2-3b1b-4e95-b8f0-b7d6ba79d9a0",
   "metadata": {},
   "outputs": [],
   "source": [
    "# Observations:\n",
    "# 1. The order_id, product_id and seller_id columns have object datatype which seems correct.\n",
    "# 2. The order_item_id column has integer datatype which is fine too.\n",
    "# 3. The price and shipping_charges columns have float datatype which is also correct.\n",
    "# 4. There are no columns with null values."
   ]
  },
  {
   "cell_type": "code",
   "execution_count": 113,
   "id": "36739417-63aa-43b9-87e4-6f673b76aa99",
   "metadata": {},
   "outputs": [
    {
     "data": {
      "text/html": [
       "<div>\n",
       "<style scoped>\n",
       "    .dataframe tbody tr th:only-of-type {\n",
       "        vertical-align: middle;\n",
       "    }\n",
       "\n",
       "    .dataframe tbody tr th {\n",
       "        vertical-align: top;\n",
       "    }\n",
       "\n",
       "    .dataframe thead th {\n",
       "        text-align: right;\n",
       "    }\n",
       "</style>\n",
       "<table border=\"1\" class=\"dataframe\">\n",
       "  <thead>\n",
       "    <tr style=\"text-align: right;\">\n",
       "      <th></th>\n",
       "      <th>order_item_id</th>\n",
       "      <th>price</th>\n",
       "      <th>shipping_charges</th>\n",
       "    </tr>\n",
       "  </thead>\n",
       "  <tbody>\n",
       "    <tr>\n",
       "      <th>count</th>\n",
       "      <td>112650.000000</td>\n",
       "      <td>112650.000000</td>\n",
       "      <td>112650.000000</td>\n",
       "    </tr>\n",
       "    <tr>\n",
       "      <th>mean</th>\n",
       "      <td>1.197834</td>\n",
       "      <td>120.653739</td>\n",
       "      <td>19.990320</td>\n",
       "    </tr>\n",
       "    <tr>\n",
       "      <th>std</th>\n",
       "      <td>0.705124</td>\n",
       "      <td>183.633928</td>\n",
       "      <td>15.806405</td>\n",
       "    </tr>\n",
       "    <tr>\n",
       "      <th>min</th>\n",
       "      <td>1.000000</td>\n",
       "      <td>0.850000</td>\n",
       "      <td>0.000000</td>\n",
       "    </tr>\n",
       "    <tr>\n",
       "      <th>50%</th>\n",
       "      <td>1.000000</td>\n",
       "      <td>74.990000</td>\n",
       "      <td>16.260000</td>\n",
       "    </tr>\n",
       "    <tr>\n",
       "      <th>75%</th>\n",
       "      <td>1.000000</td>\n",
       "      <td>134.900000</td>\n",
       "      <td>21.150000</td>\n",
       "    </tr>\n",
       "    <tr>\n",
       "      <th>80%</th>\n",
       "      <td>1.000000</td>\n",
       "      <td>150.000000</td>\n",
       "      <td>23.280000</td>\n",
       "    </tr>\n",
       "    <tr>\n",
       "      <th>85%</th>\n",
       "      <td>1.000000</td>\n",
       "      <td>179.990000</td>\n",
       "      <td>26.576500</td>\n",
       "    </tr>\n",
       "    <tr>\n",
       "      <th>90%</th>\n",
       "      <td>2.000000</td>\n",
       "      <td>229.800000</td>\n",
       "      <td>34.041000</td>\n",
       "    </tr>\n",
       "    <tr>\n",
       "      <th>95%</th>\n",
       "      <td>2.000000</td>\n",
       "      <td>349.900000</td>\n",
       "      <td>45.120000</td>\n",
       "    </tr>\n",
       "    <tr>\n",
       "      <th>99%</th>\n",
       "      <td>4.000000</td>\n",
       "      <td>890.000000</td>\n",
       "      <td>84.520000</td>\n",
       "    </tr>\n",
       "    <tr>\n",
       "      <th>max</th>\n",
       "      <td>21.000000</td>\n",
       "      <td>6735.000000</td>\n",
       "      <td>409.680000</td>\n",
       "    </tr>\n",
       "  </tbody>\n",
       "</table>\n",
       "</div>"
      ],
      "text/plain": [
       "       order_item_id          price  shipping_charges\n",
       "count  112650.000000  112650.000000     112650.000000\n",
       "mean        1.197834     120.653739         19.990320\n",
       "std         0.705124     183.633928         15.806405\n",
       "min         1.000000       0.850000          0.000000\n",
       "50%         1.000000      74.990000         16.260000\n",
       "75%         1.000000     134.900000         21.150000\n",
       "80%         1.000000     150.000000         23.280000\n",
       "85%         1.000000     179.990000         26.576500\n",
       "90%         2.000000     229.800000         34.041000\n",
       "95%         2.000000     349.900000         45.120000\n",
       "99%         4.000000     890.000000         84.520000\n",
       "max        21.000000    6735.000000        409.680000"
      ]
     },
     "execution_count": 113,
     "metadata": {},
     "output_type": "execute_result"
    }
   ],
   "source": [
    "# Look at basic numerical statistics of order_items table\n",
    "items.describe(percentiles=[0.75, 0.8, 0.85, 0.9, 0.95, 0.99])"
   ]
  },
  {
   "cell_type": "code",
   "execution_count": 201,
   "id": "7f0d8d0a-a80f-4302-84a5-25bd19706760",
   "metadata": {},
   "outputs": [],
   "source": [
    "# Observations:\n",
    "# 1. There are order IDs with as many as 21 items ordered, which is a possible scenario\n",
    "# 2. The price and shipping charges also varying as per the number of items in orders"
   ]
  },
  {
   "cell_type": "code",
   "execution_count": 174,
   "id": "840cc3b8-005a-4ce7-85a3-3c5f6d195cb6",
   "metadata": {},
   "outputs": [],
   "source": [
    "# Check the order ID for item id 21\n",
    "# items.loc[items.order_item_id==21, 'order_id']"
   ]
  },
  {
   "cell_type": "code",
   "execution_count": 175,
   "id": "1afb4cce-1307-4019-a950-f0814ad12b35",
   "metadata": {},
   "outputs": [],
   "source": [
    "# Check if there are consistent number of items in that order\n",
    "# items.loc[items.order_id=='8272b63d03f5f79c56e9e4120aec44ef']"
   ]
  },
  {
   "cell_type": "code",
   "execution_count": 177,
   "id": "b025446e-3bfb-4429-bb49-d21dc125f29e",
   "metadata": {},
   "outputs": [
    {
     "data": {
      "text/plain": [
       "order_id            0.0\n",
       "order_item_id       0.0\n",
       "product_id          0.0\n",
       "seller_id           0.0\n",
       "price               0.0\n",
       "shipping_charges    0.0\n",
       "dtype: float64"
      ]
     },
     "execution_count": 177,
     "metadata": {},
     "output_type": "execute_result"
    }
   ],
   "source": [
    "# Check null values in order_items table\n",
    "(items.isna().sum() / items.size) * 100"
   ]
  },
  {
   "cell_type": "code",
   "execution_count": null,
   "id": "8859c385-92e8-49b3-bce1-f3d5340a4e79",
   "metadata": {},
   "outputs": [],
   "source": [
    "# Observations:\n",
    "# 1. No columns with null values"
   ]
  },
  {
   "cell_type": "code",
   "execution_count": 179,
   "id": "713ee842-a20b-4595-ad9c-0860460d5e1b",
   "metadata": {},
   "outputs": [
    {
     "data": {
      "text/html": [
       "<div>\n",
       "<style scoped>\n",
       "    .dataframe tbody tr th:only-of-type {\n",
       "        vertical-align: middle;\n",
       "    }\n",
       "\n",
       "    .dataframe tbody tr th {\n",
       "        vertical-align: top;\n",
       "    }\n",
       "\n",
       "    .dataframe thead th {\n",
       "        text-align: right;\n",
       "    }\n",
       "</style>\n",
       "<table border=\"1\" class=\"dataframe\">\n",
       "  <thead>\n",
       "    <tr style=\"text-align: right;\">\n",
       "      <th></th>\n",
       "      <th>order_id</th>\n",
       "      <th>order_item_id</th>\n",
       "      <th>product_id</th>\n",
       "      <th>seller_id</th>\n",
       "      <th>price</th>\n",
       "      <th>shipping_charges</th>\n",
       "    </tr>\n",
       "  </thead>\n",
       "  <tbody>\n",
       "  </tbody>\n",
       "</table>\n",
       "</div>"
      ],
      "text/plain": [
       "Empty DataFrame\n",
       "Columns: [order_id, order_item_id, product_id, seller_id, price, shipping_charges]\n",
       "Index: []"
      ]
     },
     "execution_count": 179,
     "metadata": {},
     "output_type": "execute_result"
    }
   ],
   "source": [
    "# Look for any duplicate records in order_items table\n",
    "items[items.duplicated()]\n",
    "\n",
    "# Remove duplicates\n",
    "# items.drop_duplicates()"
   ]
  },
  {
   "cell_type": "code",
   "execution_count": 199,
   "id": "9aa43425-5846-481e-ae67-6750ec25a393",
   "metadata": {},
   "outputs": [
    {
     "name": "stdout",
     "output_type": "stream",
     "text": [
      "%age of Higher Shippings:  3.6608965823346646\n"
     ]
    }
   ],
   "source": [
    "# Any orders with shipping cost more than the product price?\n",
    "HigherShipping = items[items.shipping_charges > items.price].size\n",
    "print('%age of Higher Shippings: ', (HigherShipping / items.size)*100)"
   ]
  },
  {
   "cell_type": "code",
   "execution_count": 200,
   "id": "bda73d68-86c9-4629-b247-82dfd54b2222",
   "metadata": {},
   "outputs": [],
   "source": [
    "# Observations:\n",
    "# 1. A little less than 4% of the orders had shipping charge more than the order price"
   ]
  },
  {
   "cell_type": "code",
   "execution_count": 395,
   "id": "60353340-ee7c-419a-b0a6-46e3264b10af",
   "metadata": {},
   "outputs": [
    {
     "data": {
      "text/html": [
       "<div>\n",
       "<style scoped>\n",
       "    .dataframe tbody tr th:only-of-type {\n",
       "        vertical-align: middle;\n",
       "    }\n",
       "\n",
       "    .dataframe tbody tr th {\n",
       "        vertical-align: top;\n",
       "    }\n",
       "\n",
       "    .dataframe thead th {\n",
       "        text-align: right;\n",
       "    }\n",
       "</style>\n",
       "<table border=\"1\" class=\"dataframe\">\n",
       "  <thead>\n",
       "    <tr style=\"text-align: right;\">\n",
       "      <th></th>\n",
       "      <th>order_id</th>\n",
       "      <th>order_item_id</th>\n",
       "      <th>product_id</th>\n",
       "      <th>seller_id</th>\n",
       "      <th>price</th>\n",
       "      <th>shipping_charges</th>\n",
       "    </tr>\n",
       "  </thead>\n",
       "  <tbody>\n",
       "  </tbody>\n",
       "</table>\n",
       "</div>"
      ],
      "text/plain": [
       "Empty DataFrame\n",
       "Columns: [order_id, order_item_id, product_id, seller_id, price, shipping_charges]\n",
       "Index: []"
      ]
     },
     "execution_count": 395,
     "metadata": {},
     "output_type": "execute_result"
    }
   ],
   "source": [
    "# Check uniqueness in the primary key that's composed of order_id and order_item_id features\n",
    "items[items.duplicated(subset=['order_id', 'order_item_id'])]"
   ]
  },
  {
   "cell_type": "code",
   "execution_count": 202,
   "id": "6763fd64-c620-4fe4-84e4-761ebb8378e7",
   "metadata": {},
   "outputs": [],
   "source": [
    "###############################################################################"
   ]
  },
  {
   "cell_type": "markdown",
   "id": "6db852bc-d1e9-4640-9ff1-14dcbdb9451b",
   "metadata": {
    "jp-MarkdownHeadingCollapsed": true
   },
   "source": [
    "### customers"
   ]
  },
  {
   "cell_type": "code",
   "execution_count": 215,
   "id": "b4a5399c-2a2b-4014-a69d-46a2535ee073",
   "metadata": {},
   "outputs": [
    {
     "data": {
      "text/html": [
       "<div>\n",
       "<style scoped>\n",
       "    .dataframe tbody tr th:only-of-type {\n",
       "        vertical-align: middle;\n",
       "    }\n",
       "\n",
       "    .dataframe tbody tr th {\n",
       "        vertical-align: top;\n",
       "    }\n",
       "\n",
       "    .dataframe thead th {\n",
       "        text-align: right;\n",
       "    }\n",
       "</style>\n",
       "<table border=\"1\" class=\"dataframe\">\n",
       "  <thead>\n",
       "    <tr style=\"text-align: right;\">\n",
       "      <th></th>\n",
       "      <th>customer_id</th>\n",
       "      <th>customer_zip_code_prefix</th>\n",
       "      <th>customer_city</th>\n",
       "      <th>customer_state</th>\n",
       "    </tr>\n",
       "  </thead>\n",
       "  <tbody>\n",
       "    <tr>\n",
       "      <th>0</th>\n",
       "      <td>861eff4711a542e4b93843c6dd7febb0</td>\n",
       "      <td>14409</td>\n",
       "      <td>franca</td>\n",
       "      <td>SP</td>\n",
       "    </tr>\n",
       "    <tr>\n",
       "      <th>1</th>\n",
       "      <td>290c77bc529b7ac935b93aa66c333dc3</td>\n",
       "      <td>9790</td>\n",
       "      <td>sao bernardo do campo</td>\n",
       "      <td>SP</td>\n",
       "    </tr>\n",
       "    <tr>\n",
       "      <th>2</th>\n",
       "      <td>060e732b5b29e8181a18229c7b0b2b5e</td>\n",
       "      <td>1151</td>\n",
       "      <td>sao paulo</td>\n",
       "      <td>SP</td>\n",
       "    </tr>\n",
       "    <tr>\n",
       "      <th>3</th>\n",
       "      <td>259dac757896d24d7702b9acbbff3f3c</td>\n",
       "      <td>8775</td>\n",
       "      <td>mogi das cruzes</td>\n",
       "      <td>SP</td>\n",
       "    </tr>\n",
       "    <tr>\n",
       "      <th>4</th>\n",
       "      <td>345ecd01c38d18a9036ed96c73b8d066</td>\n",
       "      <td>13056</td>\n",
       "      <td>campinas</td>\n",
       "      <td>SP</td>\n",
       "    </tr>\n",
       "  </tbody>\n",
       "</table>\n",
       "</div>"
      ],
      "text/plain": [
       "                        customer_id  customer_zip_code_prefix  \\\n",
       "0  861eff4711a542e4b93843c6dd7febb0                     14409   \n",
       "1  290c77bc529b7ac935b93aa66c333dc3                      9790   \n",
       "2  060e732b5b29e8181a18229c7b0b2b5e                      1151   \n",
       "3  259dac757896d24d7702b9acbbff3f3c                      8775   \n",
       "4  345ecd01c38d18a9036ed96c73b8d066                     13056   \n",
       "\n",
       "           customer_city customer_state  \n",
       "0                 franca             SP  \n",
       "1  sao bernardo do campo             SP  \n",
       "2              sao paulo             SP  \n",
       "3        mogi das cruzes             SP  \n",
       "4               campinas             SP  "
      ]
     },
     "execution_count": 215,
     "metadata": {},
     "output_type": "execute_result"
    }
   ],
   "source": [
    "# read customers table from the retail dataset\n",
    "customers = pd.read_excel('Retail_dataset.xlsx', sheet_name='customers')\n",
    "customers.head()"
   ]
  },
  {
   "cell_type": "code",
   "execution_count": 216,
   "id": "5c5fb095-030e-4a1b-9b74-a282fdd75f73",
   "metadata": {},
   "outputs": [
    {
     "name": "stdout",
     "output_type": "stream",
     "text": [
      "Records: 99441\n",
      "Features: 4\n"
     ]
    }
   ],
   "source": [
    "# check number of records and features in customers table\n",
    "print('Records: {}\\nFeatures: {}'.format(customers.shape[0], customers.shape[1]))"
   ]
  },
  {
   "cell_type": "code",
   "execution_count": 217,
   "id": "dbe7ade8-ec97-4574-b338-8e89637d01d1",
   "metadata": {},
   "outputs": [
    {
     "name": "stdout",
     "output_type": "stream",
     "text": [
      "<class 'pandas.core.frame.DataFrame'>\n",
      "RangeIndex: 99441 entries, 0 to 99440\n",
      "Data columns (total 4 columns):\n",
      " #   Column                    Non-Null Count  Dtype \n",
      "---  ------                    --------------  ----- \n",
      " 0   customer_id               99441 non-null  object\n",
      " 1   customer_zip_code_prefix  99441 non-null  int64 \n",
      " 2   customer_city             99441 non-null  object\n",
      " 3   customer_state            99441 non-null  object\n",
      "dtypes: int64(1), object(3)\n",
      "memory usage: 3.0+ MB\n"
     ]
    }
   ],
   "source": [
    "# Look at basic information of customers table\n",
    "customers.info()"
   ]
  },
  {
   "cell_type": "code",
   "execution_count": null,
   "id": "618e9418-cde2-42ee-b657-86f59b8abdbf",
   "metadata": {},
   "outputs": [],
   "source": [
    "# Insights:\n",
    "# 1. All datatypes seem correct.\n",
    "# 2. There is no column with null values."
   ]
  },
  {
   "cell_type": "code",
   "execution_count": 207,
   "id": "38bea3e8-b96c-4f1f-a9d8-43fd69c4a191",
   "metadata": {},
   "outputs": [],
   "source": [
    "# Look at basic numerical statistics of customers table\n",
    "# Only numeric column is 'customer_zip_code_prefix' for which numeric description is not necessary.\n",
    "# customers.describe(percentiles=[0.75, 0.8, 0.85, 0.9, 0.95, 0.99])"
   ]
  },
  {
   "cell_type": "code",
   "execution_count": 218,
   "id": "7de5b9f9-59bc-4a02-bf20-5ebd02b9ddb4",
   "metadata": {},
   "outputs": [],
   "source": [
    "# Check null values in customers table\n",
    "# (customers.isna().sum() / customers.size) * 100"
   ]
  },
  {
   "cell_type": "code",
   "execution_count": null,
   "id": "2f3309b8-ae96-4281-8084-783365dc6b80",
   "metadata": {},
   "outputs": [],
   "source": [
    "# Remove missing value records in the whole table\n",
    "# customers.dropna(ignore_index=True, inplace=True)"
   ]
  },
  {
   "cell_type": "code",
   "execution_count": null,
   "id": "ee4f4399-151e-44c7-a91e-2779dec8b17a",
   "metadata": {},
   "outputs": [],
   "source": [
    "# Check null values in customers table, after treating null value records in 2 columns\n",
    "# customers.isna().sum()"
   ]
  },
  {
   "cell_type": "code",
   "execution_count": 209,
   "id": "760479f0-94cd-4671-9582-cc573012b207",
   "metadata": {},
   "outputs": [
    {
     "data": {
      "text/html": [
       "<div>\n",
       "<style scoped>\n",
       "    .dataframe tbody tr th:only-of-type {\n",
       "        vertical-align: middle;\n",
       "    }\n",
       "\n",
       "    .dataframe tbody tr th {\n",
       "        vertical-align: top;\n",
       "    }\n",
       "\n",
       "    .dataframe thead th {\n",
       "        text-align: right;\n",
       "    }\n",
       "</style>\n",
       "<table border=\"1\" class=\"dataframe\">\n",
       "  <thead>\n",
       "    <tr style=\"text-align: right;\">\n",
       "      <th></th>\n",
       "      <th>customer_id</th>\n",
       "      <th>customer_zip_code_prefix</th>\n",
       "      <th>customer_city</th>\n",
       "      <th>customer_state</th>\n",
       "    </tr>\n",
       "  </thead>\n",
       "  <tbody>\n",
       "    <tr>\n",
       "      <th>679</th>\n",
       "      <td>b6c083700ca8c135ba9f0f132930d4e8</td>\n",
       "      <td>8686</td>\n",
       "      <td>suzano</td>\n",
       "      <td>SP</td>\n",
       "    </tr>\n",
       "    <tr>\n",
       "      <th>1463</th>\n",
       "      <td>a40096fc0a3862e9e12bc55b5f8e6ab2</td>\n",
       "      <td>20561</td>\n",
       "      <td>rio de janeiro</td>\n",
       "      <td>RJ</td>\n",
       "    </tr>\n",
       "    <tr>\n",
       "      <th>1607</th>\n",
       "      <td>b8b3c435a58aebd788a477bed8342910</td>\n",
       "      <td>95585</td>\n",
       "      <td>arroio do sal</td>\n",
       "      <td>RS</td>\n",
       "    </tr>\n",
       "    <tr>\n",
       "      <th>2811</th>\n",
       "      <td>66980c3775537536f77b434d74e520f5</td>\n",
       "      <td>30290</td>\n",
       "      <td>belo horizonte</td>\n",
       "      <td>MG</td>\n",
       "    </tr>\n",
       "    <tr>\n",
       "      <th>3198</th>\n",
       "      <td>788313d21c3507fe890921f6e17aa679</td>\n",
       "      <td>11070</td>\n",
       "      <td>santos</td>\n",
       "      <td>SP</td>\n",
       "    </tr>\n",
       "    <tr>\n",
       "      <th>...</th>\n",
       "      <td>...</td>\n",
       "      <td>...</td>\n",
       "      <td>...</td>\n",
       "      <td>...</td>\n",
       "    </tr>\n",
       "    <tr>\n",
       "      <th>99318</th>\n",
       "      <td>4c116f8ddec984371284ab7bc860001a</td>\n",
       "      <td>79500</td>\n",
       "      <td>paranaiba</td>\n",
       "      <td>MS</td>\n",
       "    </tr>\n",
       "    <tr>\n",
       "      <th>99320</th>\n",
       "      <td>08f7cf00ed9ff3e0a08fc136ec272974</td>\n",
       "      <td>71900</td>\n",
       "      <td>brasilia</td>\n",
       "      <td>DF</td>\n",
       "    </tr>\n",
       "    <tr>\n",
       "      <th>99324</th>\n",
       "      <td>8bab3162259edfaadd1ea2e1fe7f58dc</td>\n",
       "      <td>31565</td>\n",
       "      <td>belo horizonte</td>\n",
       "      <td>MG</td>\n",
       "    </tr>\n",
       "    <tr>\n",
       "      <th>99327</th>\n",
       "      <td>12ab9334b1240d6d037f2b0102a49571</td>\n",
       "      <td>38050</td>\n",
       "      <td>uberaba</td>\n",
       "      <td>MG</td>\n",
       "    </tr>\n",
       "    <tr>\n",
       "      <th>99336</th>\n",
       "      <td>0ee57f62666561b72f2ceacad0230cbf</td>\n",
       "      <td>9530</td>\n",
       "      <td>sao caetano do sul</td>\n",
       "      <td>SP</td>\n",
       "    </tr>\n",
       "  </tbody>\n",
       "</table>\n",
       "<p>3089 rows × 4 columns</p>\n",
       "</div>"
      ],
      "text/plain": [
       "                            customer_id  customer_zip_code_prefix  \\\n",
       "679    b6c083700ca8c135ba9f0f132930d4e8                      8686   \n",
       "1463   a40096fc0a3862e9e12bc55b5f8e6ab2                     20561   \n",
       "1607   b8b3c435a58aebd788a477bed8342910                     95585   \n",
       "2811   66980c3775537536f77b434d74e520f5                     30290   \n",
       "3198   788313d21c3507fe890921f6e17aa679                     11070   \n",
       "...                                 ...                       ...   \n",
       "99318  4c116f8ddec984371284ab7bc860001a                     79500   \n",
       "99320  08f7cf00ed9ff3e0a08fc136ec272974                     71900   \n",
       "99324  8bab3162259edfaadd1ea2e1fe7f58dc                     31565   \n",
       "99327  12ab9334b1240d6d037f2b0102a49571                     38050   \n",
       "99336  0ee57f62666561b72f2ceacad0230cbf                      9530   \n",
       "\n",
       "            customer_city customer_state  \n",
       "679                suzano             SP  \n",
       "1463       rio de janeiro             RJ  \n",
       "1607        arroio do sal             RS  \n",
       "2811       belo horizonte             MG  \n",
       "3198               santos             SP  \n",
       "...                   ...            ...  \n",
       "99318           paranaiba             MS  \n",
       "99320            brasilia             DF  \n",
       "99324      belo horizonte             MG  \n",
       "99327             uberaba             MG  \n",
       "99336  sao caetano do sul             SP  \n",
       "\n",
       "[3089 rows x 4 columns]"
      ]
     },
     "execution_count": 209,
     "metadata": {},
     "output_type": "execute_result"
    }
   ],
   "source": [
    "# Look for any duplicate records in customers table\n",
    "customers[customers.duplicated()]"
   ]
  },
  {
   "cell_type": "code",
   "execution_count": null,
   "id": "e621fb36-f0e6-4035-a1e6-de13007c491b",
   "metadata": {},
   "outputs": [],
   "source": [
    "# Insights:\n",
    "# 1. More than 3000 records have some duplicacy that needs to be checked and fixed."
   ]
  },
  {
   "cell_type": "code",
   "execution_count": 228,
   "id": "444ea4d0-4d55-4dcd-917f-0b6d6b8696c8",
   "metadata": {},
   "outputs": [],
   "source": [
    "# Remove duplicates while adjusting the index\n",
    "customers.drop_duplicates(inplace=True, ignore_index=True)"
   ]
  },
  {
   "cell_type": "code",
   "execution_count": 229,
   "id": "c6709ba0-4c83-4f4a-b562-c3220ec624a3",
   "metadata": {},
   "outputs": [
    {
     "data": {
      "text/html": [
       "<div>\n",
       "<style scoped>\n",
       "    .dataframe tbody tr th:only-of-type {\n",
       "        vertical-align: middle;\n",
       "    }\n",
       "\n",
       "    .dataframe tbody tr th {\n",
       "        vertical-align: top;\n",
       "    }\n",
       "\n",
       "    .dataframe thead th {\n",
       "        text-align: right;\n",
       "    }\n",
       "</style>\n",
       "<table border=\"1\" class=\"dataframe\">\n",
       "  <thead>\n",
       "    <tr style=\"text-align: right;\">\n",
       "      <th></th>\n",
       "      <th>customer_id</th>\n",
       "      <th>customer_zip_code_prefix</th>\n",
       "      <th>customer_city</th>\n",
       "      <th>customer_state</th>\n",
       "    </tr>\n",
       "  </thead>\n",
       "  <tbody>\n",
       "  </tbody>\n",
       "</table>\n",
       "</div>"
      ],
      "text/plain": [
       "Empty DataFrame\n",
       "Columns: [customer_id, customer_zip_code_prefix, customer_city, customer_state]\n",
       "Index: []"
      ]
     },
     "execution_count": 229,
     "metadata": {},
     "output_type": "execute_result"
    }
   ],
   "source": [
    "# Look for any duplicate records left\n",
    "customers[customers.duplicated()]"
   ]
  },
  {
   "cell_type": "code",
   "execution_count": 265,
   "id": "498e845d-bfd3-4b17-9747-bf1d76fee379",
   "metadata": {},
   "outputs": [
    {
     "name": "stdout",
     "output_type": "stream",
     "text": [
      "Records: 96352\n",
      "Features: 4\n"
     ]
    }
   ],
   "source": [
    "# check number of records and features in customers table, after duplicates treatment\n",
    "print('Records: {}\\nFeatures: {}'.format(customers.shape[0], customers.shape[1]))"
   ]
  },
  {
   "cell_type": "code",
   "execution_count": 263,
   "id": "4ffbf747-e36f-4661-a06a-2f63153f5eef",
   "metadata": {},
   "outputs": [
    {
     "data": {
      "text/html": [
       "<div>\n",
       "<style scoped>\n",
       "    .dataframe tbody tr th:only-of-type {\n",
       "        vertical-align: middle;\n",
       "    }\n",
       "\n",
       "    .dataframe tbody tr th {\n",
       "        vertical-align: top;\n",
       "    }\n",
       "\n",
       "    .dataframe thead th {\n",
       "        text-align: right;\n",
       "    }\n",
       "</style>\n",
       "<table border=\"1\" class=\"dataframe\">\n",
       "  <thead>\n",
       "    <tr style=\"text-align: right;\">\n",
       "      <th></th>\n",
       "      <th>customer_id</th>\n",
       "      <th>customer_zip_code_prefix</th>\n",
       "      <th>customer_city</th>\n",
       "      <th>customer_state</th>\n",
       "    </tr>\n",
       "  </thead>\n",
       "  <tbody>\n",
       "    <tr>\n",
       "      <th>6120</th>\n",
       "      <td>3e43e6105506432c953e165fb2acf44c</td>\n",
       "      <td>11700</td>\n",
       "      <td>praia grande</td>\n",
       "      <td>SP</td>\n",
       "    </tr>\n",
       "    <tr>\n",
       "      <th>8339</th>\n",
       "      <td>b26fa76ddf33e534491e4ec46f51bc64</td>\n",
       "      <td>29010</td>\n",
       "      <td>vitoria</td>\n",
       "      <td>ES</td>\n",
       "    </tr>\n",
       "    <tr>\n",
       "      <th>11149</th>\n",
       "      <td>2b952792a20f6076f6e7a9c6a27ade02</td>\n",
       "      <td>13315</td>\n",
       "      <td>cabreuva</td>\n",
       "      <td>SP</td>\n",
       "    </tr>\n",
       "    <tr>\n",
       "      <th>14994</th>\n",
       "      <td>340d924858c395848c127b3e772b6bfd</td>\n",
       "      <td>31560</td>\n",
       "      <td>belo horizonte</td>\n",
       "      <td>MG</td>\n",
       "    </tr>\n",
       "    <tr>\n",
       "      <th>15192</th>\n",
       "      <td>1291474366a550ebc251d9187e763d62</td>\n",
       "      <td>12239</td>\n",
       "      <td>sao jose dos campos</td>\n",
       "      <td>SP</td>\n",
       "    </tr>\n",
       "    <tr>\n",
       "      <th>...</th>\n",
       "      <td>...</td>\n",
       "      <td>...</td>\n",
       "      <td>...</td>\n",
       "      <td>...</td>\n",
       "    </tr>\n",
       "    <tr>\n",
       "      <th>96108</th>\n",
       "      <td>408aee96c75632a92e5079eee61da399</td>\n",
       "      <td>22260</td>\n",
       "      <td>rio de janeiro</td>\n",
       "      <td>RJ</td>\n",
       "    </tr>\n",
       "    <tr>\n",
       "      <th>96148</th>\n",
       "      <td>13abc50b97af7425b5066e405d7cd760</td>\n",
       "      <td>7793</td>\n",
       "      <td>cajamar</td>\n",
       "      <td>SP</td>\n",
       "    </tr>\n",
       "    <tr>\n",
       "      <th>96214</th>\n",
       "      <td>bc7b9e0d078c0c01f622b38cfcd7ee9c</td>\n",
       "      <td>20521</td>\n",
       "      <td>rio de janeiro</td>\n",
       "      <td>RJ</td>\n",
       "    </tr>\n",
       "    <tr>\n",
       "      <th>96264</th>\n",
       "      <td>0ceb502fc33a2ad327b08288c5310e2e</td>\n",
       "      <td>29134</td>\n",
       "      <td>viana</td>\n",
       "      <td>ES</td>\n",
       "    </tr>\n",
       "    <tr>\n",
       "      <th>96317</th>\n",
       "      <td>5cbfdb85ec130898108b32c50d619c39</td>\n",
       "      <td>74980</td>\n",
       "      <td>aparecida de goiania</td>\n",
       "      <td>GO</td>\n",
       "    </tr>\n",
       "  </tbody>\n",
       "</table>\n",
       "<p>256 rows × 4 columns</p>\n",
       "</div>"
      ],
      "text/plain": [
       "                            customer_id  customer_zip_code_prefix  \\\n",
       "6120   3e43e6105506432c953e165fb2acf44c                     11700   \n",
       "8339   b26fa76ddf33e534491e4ec46f51bc64                     29010   \n",
       "11149  2b952792a20f6076f6e7a9c6a27ade02                     13315   \n",
       "14994  340d924858c395848c127b3e772b6bfd                     31560   \n",
       "15192  1291474366a550ebc251d9187e763d62                     12239   \n",
       "...                                 ...                       ...   \n",
       "96108  408aee96c75632a92e5079eee61da399                     22260   \n",
       "96148  13abc50b97af7425b5066e405d7cd760                      7793   \n",
       "96214  bc7b9e0d078c0c01f622b38cfcd7ee9c                     20521   \n",
       "96264  0ceb502fc33a2ad327b08288c5310e2e                     29134   \n",
       "96317  5cbfdb85ec130898108b32c50d619c39                     74980   \n",
       "\n",
       "              customer_city customer_state  \n",
       "6120           praia grande             SP  \n",
       "8339                vitoria             ES  \n",
       "11149              cabreuva             SP  \n",
       "14994        belo horizonte             MG  \n",
       "15192   sao jose dos campos             SP  \n",
       "...                     ...            ...  \n",
       "96108        rio de janeiro             RJ  \n",
       "96148               cajamar             SP  \n",
       "96214        rio de janeiro             RJ  \n",
       "96264                 viana             ES  \n",
       "96317  aparecida de goiania             GO  \n",
       "\n",
       "[256 rows x 4 columns]"
      ]
     },
     "execution_count": 263,
     "metadata": {},
     "output_type": "execute_result"
    }
   ],
   "source": [
    "# Check if duplicates present in customer_id field\n",
    "customers[customers.duplicated(subset='customer_id')]"
   ]
  },
  {
   "cell_type": "code",
   "execution_count": 264,
   "id": "76571f4b-5adb-45df-9e08-8aabc8cdeb12",
   "metadata": {},
   "outputs": [],
   "source": [
    "# Insights:\n",
    "# 1. There are more than 250 records where customer_id is duplicated\n",
    "# Note: Other features might not be duplicated"
   ]
  },
  {
   "cell_type": "code",
   "execution_count": 271,
   "id": "5581fae4-de45-4fe7-b56a-e27001aae538",
   "metadata": {},
   "outputs": [
    {
     "data": {
      "text/html": [
       "<div>\n",
       "<style scoped>\n",
       "    .dataframe tbody tr th:only-of-type {\n",
       "        vertical-align: middle;\n",
       "    }\n",
       "\n",
       "    .dataframe tbody tr th {\n",
       "        vertical-align: top;\n",
       "    }\n",
       "\n",
       "    .dataframe thead th {\n",
       "        text-align: right;\n",
       "    }\n",
       "</style>\n",
       "<table border=\"1\" class=\"dataframe\">\n",
       "  <thead>\n",
       "    <tr style=\"text-align: right;\">\n",
       "      <th></th>\n",
       "      <th>customer_id</th>\n",
       "      <th>customer_zip_code_prefix</th>\n",
       "      <th>customer_city</th>\n",
       "      <th>customer_state</th>\n",
       "    </tr>\n",
       "  </thead>\n",
       "  <tbody>\n",
       "    <tr>\n",
       "      <th>4603</th>\n",
       "      <td>2b952792a20f6076f6e7a9c6a27ade02</td>\n",
       "      <td>13250</td>\n",
       "      <td>itatiba</td>\n",
       "      <td>SP</td>\n",
       "    </tr>\n",
       "    <tr>\n",
       "      <th>5105</th>\n",
       "      <td>3e43e6105506432c953e165fb2acf44c</td>\n",
       "      <td>11701</td>\n",
       "      <td>praia grande</td>\n",
       "      <td>SP</td>\n",
       "    </tr>\n",
       "    <tr>\n",
       "      <th>5936</th>\n",
       "      <td>b26fa76ddf33e534491e4ec46f51bc64</td>\n",
       "      <td>29043</td>\n",
       "      <td>vitoria</td>\n",
       "      <td>ES</td>\n",
       "    </tr>\n",
       "    <tr>\n",
       "      <th>6120</th>\n",
       "      <td>3e43e6105506432c953e165fb2acf44c</td>\n",
       "      <td>11700</td>\n",
       "      <td>praia grande</td>\n",
       "      <td>SP</td>\n",
       "    </tr>\n",
       "    <tr>\n",
       "      <th>8230</th>\n",
       "      <td>340d924858c395848c127b3e772b6bfd</td>\n",
       "      <td>31995</td>\n",
       "      <td>belo horizonte</td>\n",
       "      <td>MG</td>\n",
       "    </tr>\n",
       "    <tr>\n",
       "      <th>8339</th>\n",
       "      <td>b26fa76ddf33e534491e4ec46f51bc64</td>\n",
       "      <td>29010</td>\n",
       "      <td>vitoria</td>\n",
       "      <td>ES</td>\n",
       "    </tr>\n",
       "    <tr>\n",
       "      <th>11149</th>\n",
       "      <td>2b952792a20f6076f6e7a9c6a27ade02</td>\n",
       "      <td>13315</td>\n",
       "      <td>cabreuva</td>\n",
       "      <td>SP</td>\n",
       "    </tr>\n",
       "    <tr>\n",
       "      <th>14994</th>\n",
       "      <td>340d924858c395848c127b3e772b6bfd</td>\n",
       "      <td>31560</td>\n",
       "      <td>belo horizonte</td>\n",
       "      <td>MG</td>\n",
       "    </tr>\n",
       "  </tbody>\n",
       "</table>\n",
       "</div>"
      ],
      "text/plain": [
       "                            customer_id  customer_zip_code_prefix  \\\n",
       "4603   2b952792a20f6076f6e7a9c6a27ade02                     13250   \n",
       "5105   3e43e6105506432c953e165fb2acf44c                     11701   \n",
       "5936   b26fa76ddf33e534491e4ec46f51bc64                     29043   \n",
       "6120   3e43e6105506432c953e165fb2acf44c                     11700   \n",
       "8230   340d924858c395848c127b3e772b6bfd                     31995   \n",
       "8339   b26fa76ddf33e534491e4ec46f51bc64                     29010   \n",
       "11149  2b952792a20f6076f6e7a9c6a27ade02                     13315   \n",
       "14994  340d924858c395848c127b3e772b6bfd                     31560   \n",
       "\n",
       "        customer_city customer_state  \n",
       "4603          itatiba             SP  \n",
       "5105     praia grande             SP  \n",
       "5936          vitoria             ES  \n",
       "6120     praia grande             SP  \n",
       "8230   belo horizonte             MG  \n",
       "8339          vitoria             ES  \n",
       "11149        cabreuva             SP  \n",
       "14994  belo horizonte             MG  "
      ]
     },
     "execution_count": 271,
     "metadata": {},
     "output_type": "execute_result"
    }
   ],
   "source": [
    "# Check duplicate customer ids for a random subset of customers table\n",
    "cusDuplSubset = customers.iloc[0:15000, :]\n",
    "cusDuplSubset[cusDuplSubset.duplicated(subset='customer_id', keep=False)] # exclude no duplicates"
   ]
  },
  {
   "cell_type": "code",
   "execution_count": null,
   "id": "42fe62a6-7a8b-46bd-83ba-7af30cb8b5bf",
   "metadata": {},
   "outputs": [],
   "source": [
    "# Insights:\n",
    "# 1. customer_id is supposed to be the primary key for the customers table, but there are some duplicate records found.\n",
    "# 2. Any 2 records with same customer_id seem to have same state, but city and zip code might vary"
   ]
  },
  {
   "cell_type": "code",
   "execution_count": 272,
   "id": "eb5d6c0e-6408-4f59-afba-78d248e07d65",
   "metadata": {},
   "outputs": [],
   "source": [
    "# As customer_id is primary key for  customers table, duplicates can be removed\n",
    "# Remove duplicates w.r.t customer_id column while adjusting the index\n",
    "customers.drop_duplicates(subset='customer_id', inplace=True, ignore_index=True)"
   ]
  },
  {
   "cell_type": "code",
   "execution_count": 274,
   "id": "3f1d59c6-8f0c-4d73-98bd-8cef32337ca3",
   "metadata": {},
   "outputs": [
    {
     "data": {
      "text/html": [
       "<div>\n",
       "<style scoped>\n",
       "    .dataframe tbody tr th:only-of-type {\n",
       "        vertical-align: middle;\n",
       "    }\n",
       "\n",
       "    .dataframe tbody tr th {\n",
       "        vertical-align: top;\n",
       "    }\n",
       "\n",
       "    .dataframe thead th {\n",
       "        text-align: right;\n",
       "    }\n",
       "</style>\n",
       "<table border=\"1\" class=\"dataframe\">\n",
       "  <thead>\n",
       "    <tr style=\"text-align: right;\">\n",
       "      <th></th>\n",
       "      <th>customer_id</th>\n",
       "      <th>customer_zip_code_prefix</th>\n",
       "      <th>customer_city</th>\n",
       "      <th>customer_state</th>\n",
       "    </tr>\n",
       "  </thead>\n",
       "  <tbody>\n",
       "  </tbody>\n",
       "</table>\n",
       "</div>"
      ],
      "text/plain": [
       "Empty DataFrame\n",
       "Columns: [customer_id, customer_zip_code_prefix, customer_city, customer_state]\n",
       "Index: []"
      ]
     },
     "execution_count": 274,
     "metadata": {},
     "output_type": "execute_result"
    }
   ],
   "source": [
    "# Check if still any duplicates present in customer_id field\n",
    "customers[customers.duplicated(subset='customer_id')]"
   ]
  },
  {
   "cell_type": "code",
   "execution_count": 387,
   "id": "a0412e87-ef72-4dbf-9c04-e57dd6d4386c",
   "metadata": {},
   "outputs": [
    {
     "data": {
      "text/plain": [
       "True"
      ]
     },
     "execution_count": 387,
     "metadata": {},
     "output_type": "execute_result"
    }
   ],
   "source": [
    "# Check if all customer_id values are unique in the customers table\n",
    "customers.customer_id.nunique() == customers.shape[0]"
   ]
  },
  {
   "cell_type": "code",
   "execution_count": null,
   "id": "89354a8a-2032-4e03-b630-3e7aa933d697",
   "metadata": {},
   "outputs": [],
   "source": [
    "###############################################################################"
   ]
  },
  {
   "cell_type": "markdown",
   "id": "ab15b9d1-5d27-4584-a613-bfc881f80f73",
   "metadata": {
    "jp-MarkdownHeadingCollapsed": true
   },
   "source": [
    "### payments"
   ]
  },
  {
   "cell_type": "code",
   "execution_count": 275,
   "id": "530eb801-d6c8-4466-bf97-6202fe80a96e",
   "metadata": {},
   "outputs": [
    {
     "data": {
      "text/html": [
       "<div>\n",
       "<style scoped>\n",
       "    .dataframe tbody tr th:only-of-type {\n",
       "        vertical-align: middle;\n",
       "    }\n",
       "\n",
       "    .dataframe tbody tr th {\n",
       "        vertical-align: top;\n",
       "    }\n",
       "\n",
       "    .dataframe thead th {\n",
       "        text-align: right;\n",
       "    }\n",
       "</style>\n",
       "<table border=\"1\" class=\"dataframe\">\n",
       "  <thead>\n",
       "    <tr style=\"text-align: right;\">\n",
       "      <th></th>\n",
       "      <th>order_id</th>\n",
       "      <th>payment_sequential</th>\n",
       "      <th>payment_type</th>\n",
       "      <th>payment_installments</th>\n",
       "      <th>payment_value</th>\n",
       "    </tr>\n",
       "  </thead>\n",
       "  <tbody>\n",
       "    <tr>\n",
       "      <th>0</th>\n",
       "      <td>b81ef226f3fe1789b1e8b2acac839d17</td>\n",
       "      <td>1</td>\n",
       "      <td>credit_card</td>\n",
       "      <td>8</td>\n",
       "      <td>99.33</td>\n",
       "    </tr>\n",
       "    <tr>\n",
       "      <th>1</th>\n",
       "      <td>a9810da82917af2d9aefd1278f1dcfa0</td>\n",
       "      <td>1</td>\n",
       "      <td>credit_card</td>\n",
       "      <td>1</td>\n",
       "      <td>24.39</td>\n",
       "    </tr>\n",
       "    <tr>\n",
       "      <th>2</th>\n",
       "      <td>25e8ea4e93396b6fa0d3dd708e76c1bd</td>\n",
       "      <td>1</td>\n",
       "      <td>credit_card</td>\n",
       "      <td>1</td>\n",
       "      <td>65.71</td>\n",
       "    </tr>\n",
       "    <tr>\n",
       "      <th>3</th>\n",
       "      <td>ba78997921bbcdc1373bb41e913ab953</td>\n",
       "      <td>1</td>\n",
       "      <td>credit_card</td>\n",
       "      <td>8</td>\n",
       "      <td>107.78</td>\n",
       "    </tr>\n",
       "    <tr>\n",
       "      <th>4</th>\n",
       "      <td>42fdf880ba16b47b59251dd489d4441a</td>\n",
       "      <td>1</td>\n",
       "      <td>credit_card</td>\n",
       "      <td>2</td>\n",
       "      <td>128.45</td>\n",
       "    </tr>\n",
       "  </tbody>\n",
       "</table>\n",
       "</div>"
      ],
      "text/plain": [
       "                           order_id  payment_sequential payment_type  \\\n",
       "0  b81ef226f3fe1789b1e8b2acac839d17                   1  credit_card   \n",
       "1  a9810da82917af2d9aefd1278f1dcfa0                   1  credit_card   \n",
       "2  25e8ea4e93396b6fa0d3dd708e76c1bd                   1  credit_card   \n",
       "3  ba78997921bbcdc1373bb41e913ab953                   1  credit_card   \n",
       "4  42fdf880ba16b47b59251dd489d4441a                   1  credit_card   \n",
       "\n",
       "   payment_installments  payment_value  \n",
       "0                     8          99.33  \n",
       "1                     1          24.39  \n",
       "2                     1          65.71  \n",
       "3                     8         107.78  \n",
       "4                     2         128.45  "
      ]
     },
     "execution_count": 275,
     "metadata": {},
     "output_type": "execute_result"
    }
   ],
   "source": [
    "# read payments table from the retail dataset\n",
    "payments = pd.read_excel('Retail_dataset.xlsx', sheet_name='payments')\n",
    "payments.head()"
   ]
  },
  {
   "cell_type": "code",
   "execution_count": 276,
   "id": "642731f5-0094-4586-9c48-024d98ca9a01",
   "metadata": {},
   "outputs": [
    {
     "name": "stdout",
     "output_type": "stream",
     "text": [
      "Records: 103886\n",
      "Features: 5\n"
     ]
    }
   ],
   "source": [
    "# check number of records and features in payments table\n",
    "print('Records: {}\\nFeatures: {}'.format(payments.shape[0], payments.shape[1]))"
   ]
  },
  {
   "cell_type": "code",
   "execution_count": 277,
   "id": "0b5a4696-4a67-44ac-ac2d-174adad7d8ea",
   "metadata": {},
   "outputs": [
    {
     "name": "stdout",
     "output_type": "stream",
     "text": [
      "<class 'pandas.core.frame.DataFrame'>\n",
      "RangeIndex: 103886 entries, 0 to 103885\n",
      "Data columns (total 5 columns):\n",
      " #   Column                Non-Null Count   Dtype  \n",
      "---  ------                --------------   -----  \n",
      " 0   order_id              103886 non-null  object \n",
      " 1   payment_sequential    103886 non-null  int64  \n",
      " 2   payment_type          103886 non-null  object \n",
      " 3   payment_installments  103886 non-null  int64  \n",
      " 4   payment_value         103886 non-null  float64\n",
      "dtypes: float64(1), int64(2), object(2)\n",
      "memory usage: 4.0+ MB\n"
     ]
    }
   ],
   "source": [
    "# Look at basic information of payments table\n",
    "payments.info()"
   ]
  },
  {
   "cell_type": "code",
   "execution_count": 280,
   "id": "1d7ea24b-22cf-4ebc-bc98-9f8f4b48db04",
   "metadata": {},
   "outputs": [],
   "source": [
    "# Insights:\n",
    "# 1. All datatypes seem correct.\n",
    "# 2. There is no column with null values."
   ]
  },
  {
   "cell_type": "code",
   "execution_count": 295,
   "id": "000b5adf-dfd9-4a81-ad60-5d549a64a9ea",
   "metadata": {},
   "outputs": [
    {
     "data": {
      "text/plain": [
       "count    103886.000000\n",
       "mean        154.100380\n",
       "std         217.494064\n",
       "min           0.000000\n",
       "50%         100.000000\n",
       "75%         171.837500\n",
       "80%         196.360000\n",
       "85%         231.120000\n",
       "90%         297.270000\n",
       "95%         437.635000\n",
       "99%        1039.916500\n",
       "99.5%      1410.275750\n",
       "99.9%      2339.233250\n",
       "max       13664.080000\n",
       "Name: payment_value, dtype: float64"
      ]
     },
     "execution_count": 295,
     "metadata": {},
     "output_type": "execute_result"
    }
   ],
   "source": [
    "# Look at basic numerical statistics of payments table\n",
    "# There is no relevance to look at numeric description of payment_sequential and payment_installments columns.\n",
    "payments.payment_value.describe(percentiles=[0.75, 0.8, 0.85, 0.9, 0.95, 0.99, 0.995, 0.999])"
   ]
  },
  {
   "cell_type": "code",
   "execution_count": null,
   "id": "d69d2895-2600-4ebc-801f-092daf91312a",
   "metadata": {},
   "outputs": [],
   "source": [
    "# Insights:\n",
    "# 1. There are some orders with payment_value 0, which doesn't seem right.\n",
    "# 2. The highest payment_value is greater than 13000 where as 99.9% of orders have payment_value within 2340."
   ]
  },
  {
   "cell_type": "code",
   "execution_count": 297,
   "id": "67236bf7-9570-4cf9-b398-6360c1149de2",
   "metadata": {},
   "outputs": [
    {
     "data": {
      "text/html": [
       "<div>\n",
       "<style scoped>\n",
       "    .dataframe tbody tr th:only-of-type {\n",
       "        vertical-align: middle;\n",
       "    }\n",
       "\n",
       "    .dataframe tbody tr th {\n",
       "        vertical-align: top;\n",
       "    }\n",
       "\n",
       "    .dataframe thead th {\n",
       "        text-align: right;\n",
       "    }\n",
       "</style>\n",
       "<table border=\"1\" class=\"dataframe\">\n",
       "  <thead>\n",
       "    <tr style=\"text-align: right;\">\n",
       "      <th></th>\n",
       "      <th>order_id</th>\n",
       "      <th>payment_sequential</th>\n",
       "      <th>payment_type</th>\n",
       "      <th>payment_installments</th>\n",
       "      <th>payment_value</th>\n",
       "    </tr>\n",
       "  </thead>\n",
       "  <tbody>\n",
       "    <tr>\n",
       "      <th>19922</th>\n",
       "      <td>8bcbe01d44d147f901cd3192671144db</td>\n",
       "      <td>4</td>\n",
       "      <td>voucher</td>\n",
       "      <td>1</td>\n",
       "      <td>0.0</td>\n",
       "    </tr>\n",
       "    <tr>\n",
       "      <th>36822</th>\n",
       "      <td>fa65dad1b0e818e3ccc5cb0e39231352</td>\n",
       "      <td>14</td>\n",
       "      <td>voucher</td>\n",
       "      <td>1</td>\n",
       "      <td>0.0</td>\n",
       "    </tr>\n",
       "    <tr>\n",
       "      <th>43744</th>\n",
       "      <td>6ccb433e00daae1283ccc956189c82ae</td>\n",
       "      <td>4</td>\n",
       "      <td>voucher</td>\n",
       "      <td>1</td>\n",
       "      <td>0.0</td>\n",
       "    </tr>\n",
       "    <tr>\n",
       "      <th>51280</th>\n",
       "      <td>4637ca194b6387e2d538dc89b124b0ee</td>\n",
       "      <td>1</td>\n",
       "      <td>not_defined</td>\n",
       "      <td>1</td>\n",
       "      <td>0.0</td>\n",
       "    </tr>\n",
       "    <tr>\n",
       "      <th>57411</th>\n",
       "      <td>00b1cb0320190ca0daa2c88b35206009</td>\n",
       "      <td>1</td>\n",
       "      <td>not_defined</td>\n",
       "      <td>1</td>\n",
       "      <td>0.0</td>\n",
       "    </tr>\n",
       "    <tr>\n",
       "      <th>62674</th>\n",
       "      <td>45ed6e85398a87c253db47c2d9f48216</td>\n",
       "      <td>3</td>\n",
       "      <td>voucher</td>\n",
       "      <td>1</td>\n",
       "      <td>0.0</td>\n",
       "    </tr>\n",
       "    <tr>\n",
       "      <th>77885</th>\n",
       "      <td>fa65dad1b0e818e3ccc5cb0e39231352</td>\n",
       "      <td>13</td>\n",
       "      <td>voucher</td>\n",
       "      <td>1</td>\n",
       "      <td>0.0</td>\n",
       "    </tr>\n",
       "    <tr>\n",
       "      <th>94427</th>\n",
       "      <td>c8c528189310eaa44a745b8d9d26908b</td>\n",
       "      <td>1</td>\n",
       "      <td>not_defined</td>\n",
       "      <td>1</td>\n",
       "      <td>0.0</td>\n",
       "    </tr>\n",
       "    <tr>\n",
       "      <th>100766</th>\n",
       "      <td>b23878b3e8eb4d25a158f57d96331b18</td>\n",
       "      <td>4</td>\n",
       "      <td>voucher</td>\n",
       "      <td>1</td>\n",
       "      <td>0.0</td>\n",
       "    </tr>\n",
       "  </tbody>\n",
       "</table>\n",
       "</div>"
      ],
      "text/plain": [
       "                                order_id  payment_sequential payment_type  \\\n",
       "19922   8bcbe01d44d147f901cd3192671144db                   4      voucher   \n",
       "36822   fa65dad1b0e818e3ccc5cb0e39231352                  14      voucher   \n",
       "43744   6ccb433e00daae1283ccc956189c82ae                   4      voucher   \n",
       "51280   4637ca194b6387e2d538dc89b124b0ee                   1  not_defined   \n",
       "57411   00b1cb0320190ca0daa2c88b35206009                   1  not_defined   \n",
       "62674   45ed6e85398a87c253db47c2d9f48216                   3      voucher   \n",
       "77885   fa65dad1b0e818e3ccc5cb0e39231352                  13      voucher   \n",
       "94427   c8c528189310eaa44a745b8d9d26908b                   1  not_defined   \n",
       "100766  b23878b3e8eb4d25a158f57d96331b18                   4      voucher   \n",
       "\n",
       "        payment_installments  payment_value  \n",
       "19922                      1            0.0  \n",
       "36822                      1            0.0  \n",
       "43744                      1            0.0  \n",
       "51280                      1            0.0  \n",
       "57411                      1            0.0  \n",
       "62674                      1            0.0  \n",
       "77885                      1            0.0  \n",
       "94427                      1            0.0  \n",
       "100766                     1            0.0  "
      ]
     },
     "execution_count": 297,
     "metadata": {},
     "output_type": "execute_result"
    }
   ],
   "source": [
    "# Look at orders with payment_value 0\n",
    "payments[payments.payment_value==float(0)]"
   ]
  },
  {
   "cell_type": "code",
   "execution_count": 299,
   "id": "4b628770-847a-4fcd-8252-8d59a166c7f1",
   "metadata": {},
   "outputs": [],
   "source": [
    "# Insights:\n",
    "# 1. There are only 9 such orders where payment_value is 0."
   ]
  },
  {
   "cell_type": "code",
   "execution_count": 298,
   "id": "9da7d73a-21c8-4301-82e9-8489dbf3ed62",
   "metadata": {},
   "outputs": [
    {
     "data": {
      "text/html": [
       "<div>\n",
       "<style scoped>\n",
       "    .dataframe tbody tr th:only-of-type {\n",
       "        vertical-align: middle;\n",
       "    }\n",
       "\n",
       "    .dataframe tbody tr th {\n",
       "        vertical-align: top;\n",
       "    }\n",
       "\n",
       "    .dataframe thead th {\n",
       "        text-align: right;\n",
       "    }\n",
       "</style>\n",
       "<table border=\"1\" class=\"dataframe\">\n",
       "  <thead>\n",
       "    <tr style=\"text-align: right;\">\n",
       "      <th></th>\n",
       "      <th>order_id</th>\n",
       "      <th>payment_sequential</th>\n",
       "      <th>payment_type</th>\n",
       "      <th>payment_installments</th>\n",
       "      <th>payment_value</th>\n",
       "    </tr>\n",
       "  </thead>\n",
       "  <tbody>\n",
       "    <tr>\n",
       "      <th>1139</th>\n",
       "      <td>80d49171762a51f500bf6b774aa24617</td>\n",
       "      <td>1</td>\n",
       "      <td>credit_card</td>\n",
       "      <td>1</td>\n",
       "      <td>2787.87</td>\n",
       "    </tr>\n",
       "    <tr>\n",
       "      <th>2161</th>\n",
       "      <td>0f924038b00d1f102e4d09bea4fa666a</td>\n",
       "      <td>1</td>\n",
       "      <td>credit_card</td>\n",
       "      <td>10</td>\n",
       "      <td>2759.95</td>\n",
       "    </tr>\n",
       "    <tr>\n",
       "      <th>2405</th>\n",
       "      <td>79d3522a0854c853a4979ff2691abd91</td>\n",
       "      <td>1</td>\n",
       "      <td>credit_card</td>\n",
       "      <td>10</td>\n",
       "      <td>3048.27</td>\n",
       "    </tr>\n",
       "    <tr>\n",
       "      <th>3251</th>\n",
       "      <td>66b9c991ee308f9342f6a7f63bb68251</td>\n",
       "      <td>1</td>\n",
       "      <td>credit_card</td>\n",
       "      <td>5</td>\n",
       "      <td>3358.24</td>\n",
       "    </tr>\n",
       "    <tr>\n",
       "      <th>3607</th>\n",
       "      <td>078f6a01964ee122ef20881df839af31</td>\n",
       "      <td>1</td>\n",
       "      <td>credit_card</td>\n",
       "      <td>10</td>\n",
       "      <td>2419.20</td>\n",
       "    </tr>\n",
       "    <tr>\n",
       "      <th>...</th>\n",
       "      <td>...</td>\n",
       "      <td>...</td>\n",
       "      <td>...</td>\n",
       "      <td>...</td>\n",
       "      <td>...</td>\n",
       "    </tr>\n",
       "    <tr>\n",
       "      <th>99960</th>\n",
       "      <td>9de73f3e6157169ad6c32b9f313c7dcb</td>\n",
       "      <td>1</td>\n",
       "      <td>credit_card</td>\n",
       "      <td>10</td>\n",
       "      <td>3899.00</td>\n",
       "    </tr>\n",
       "    <tr>\n",
       "      <th>102030</th>\n",
       "      <td>028558cddca332b40b4ac4cb77407edf</td>\n",
       "      <td>1</td>\n",
       "      <td>credit_card</td>\n",
       "      <td>10</td>\n",
       "      <td>2784.16</td>\n",
       "    </tr>\n",
       "    <tr>\n",
       "      <th>102654</th>\n",
       "      <td>acf01c9262ddb5d9adae8daa34e31568</td>\n",
       "      <td>1</td>\n",
       "      <td>credit_card</td>\n",
       "      <td>10</td>\n",
       "      <td>2416.00</td>\n",
       "    </tr>\n",
       "    <tr>\n",
       "      <th>103622</th>\n",
       "      <td>b0b0d3285e59abf2f6c9d7e1bf761323</td>\n",
       "      <td>1</td>\n",
       "      <td>credit_card</td>\n",
       "      <td>10</td>\n",
       "      <td>3044.12</td>\n",
       "    </tr>\n",
       "    <tr>\n",
       "      <th>103718</th>\n",
       "      <td>fc20b8e282da6f3fbcdd3a3cedecb723</td>\n",
       "      <td>1</td>\n",
       "      <td>credit_card</td>\n",
       "      <td>10</td>\n",
       "      <td>3782.19</td>\n",
       "    </tr>\n",
       "  </tbody>\n",
       "</table>\n",
       "<p>104 rows × 5 columns</p>\n",
       "</div>"
      ],
      "text/plain": [
       "                                order_id  payment_sequential payment_type  \\\n",
       "1139    80d49171762a51f500bf6b774aa24617                   1  credit_card   \n",
       "2161    0f924038b00d1f102e4d09bea4fa666a                   1  credit_card   \n",
       "2405    79d3522a0854c853a4979ff2691abd91                   1  credit_card   \n",
       "3251    66b9c991ee308f9342f6a7f63bb68251                   1  credit_card   \n",
       "3607    078f6a01964ee122ef20881df839af31                   1  credit_card   \n",
       "...                                  ...                 ...          ...   \n",
       "99960   9de73f3e6157169ad6c32b9f313c7dcb                   1  credit_card   \n",
       "102030  028558cddca332b40b4ac4cb77407edf                   1  credit_card   \n",
       "102654  acf01c9262ddb5d9adae8daa34e31568                   1  credit_card   \n",
       "103622  b0b0d3285e59abf2f6c9d7e1bf761323                   1  credit_card   \n",
       "103718  fc20b8e282da6f3fbcdd3a3cedecb723                   1  credit_card   \n",
       "\n",
       "        payment_installments  payment_value  \n",
       "1139                       1        2787.87  \n",
       "2161                      10        2759.95  \n",
       "2405                      10        3048.27  \n",
       "3251                       5        3358.24  \n",
       "3607                      10        2419.20  \n",
       "...                      ...            ...  \n",
       "99960                     10        3899.00  \n",
       "102030                    10        2784.16  \n",
       "102654                    10        2416.00  \n",
       "103622                    10        3044.12  \n",
       "103718                    10        3782.19  \n",
       "\n",
       "[104 rows x 5 columns]"
      ]
     },
     "execution_count": 298,
     "metadata": {},
     "output_type": "execute_result"
    }
   ],
   "source": [
    "# Look at orders with payment_value greater than 2340\n",
    "payments[payments.payment_value>2340]"
   ]
  },
  {
   "cell_type": "code",
   "execution_count": null,
   "id": "9ee7dbbb-db09-4edd-b996-4761a75056af",
   "metadata": {},
   "outputs": [],
   "source": [
    "# Insights:\n",
    "# 1. There are nearly 100 orders with payment_value greater than 2340."
   ]
  },
  {
   "cell_type": "code",
   "execution_count": 301,
   "id": "beda5108-56d3-48c4-a628-eb7508c2301a",
   "metadata": {},
   "outputs": [],
   "source": [
    "# Check null values in payments table\n",
    "# (payments.isna().sum() / payments.size) * 100"
   ]
  },
  {
   "cell_type": "code",
   "execution_count": 303,
   "id": "caecf77f-1cd6-401c-be7f-6fdd0c14c7b4",
   "metadata": {},
   "outputs": [
    {
     "data": {
      "text/html": [
       "<div>\n",
       "<style scoped>\n",
       "    .dataframe tbody tr th:only-of-type {\n",
       "        vertical-align: middle;\n",
       "    }\n",
       "\n",
       "    .dataframe tbody tr th {\n",
       "        vertical-align: top;\n",
       "    }\n",
       "\n",
       "    .dataframe thead th {\n",
       "        text-align: right;\n",
       "    }\n",
       "</style>\n",
       "<table border=\"1\" class=\"dataframe\">\n",
       "  <thead>\n",
       "    <tr style=\"text-align: right;\">\n",
       "      <th></th>\n",
       "      <th>order_id</th>\n",
       "      <th>payment_sequential</th>\n",
       "      <th>payment_type</th>\n",
       "      <th>payment_installments</th>\n",
       "      <th>payment_value</th>\n",
       "    </tr>\n",
       "  </thead>\n",
       "  <tbody>\n",
       "  </tbody>\n",
       "</table>\n",
       "</div>"
      ],
      "text/plain": [
       "Empty DataFrame\n",
       "Columns: [order_id, payment_sequential, payment_type, payment_installments, payment_value]\n",
       "Index: []"
      ]
     },
     "execution_count": 303,
     "metadata": {},
     "output_type": "execute_result"
    }
   ],
   "source": [
    "# Look for any duplicate records in payments table\n",
    "payments[payments.duplicated()]\n",
    "\n",
    "# Remove duplicates\n",
    "# payments.drop_duplicates()"
   ]
  },
  {
   "cell_type": "code",
   "execution_count": 385,
   "id": "ad110d3c-9396-4cdf-b674-3bb15b3acfb4",
   "metadata": {},
   "outputs": [],
   "source": [
    "# There is no field to check unique values for as there is no primary key"
   ]
  },
  {
   "cell_type": "code",
   "execution_count": null,
   "id": "ef83c92c-abb1-4ac8-8a45-753edeb510d3",
   "metadata": {},
   "outputs": [],
   "source": [
    "###############################################################################"
   ]
  },
  {
   "cell_type": "markdown",
   "id": "27503c46-651c-4d96-a926-8b51310aa56a",
   "metadata": {
    "jp-MarkdownHeadingCollapsed": true
   },
   "source": [
    "### products"
   ]
  },
  {
   "cell_type": "code",
   "execution_count": 359,
   "id": "9014cf93-66a5-4548-b5fd-b5d550623b78",
   "metadata": {},
   "outputs": [
    {
     "data": {
      "text/html": [
       "<div>\n",
       "<style scoped>\n",
       "    .dataframe tbody tr th:only-of-type {\n",
       "        vertical-align: middle;\n",
       "    }\n",
       "\n",
       "    .dataframe tbody tr th {\n",
       "        vertical-align: top;\n",
       "    }\n",
       "\n",
       "    .dataframe thead th {\n",
       "        text-align: right;\n",
       "    }\n",
       "</style>\n",
       "<table border=\"1\" class=\"dataframe\">\n",
       "  <thead>\n",
       "    <tr style=\"text-align: right;\">\n",
       "      <th></th>\n",
       "      <th>product_id</th>\n",
       "      <th>product_category_name</th>\n",
       "      <th>product_weight_g</th>\n",
       "      <th>product_length_cm</th>\n",
       "      <th>product_height_cm</th>\n",
       "      <th>product_width_cm</th>\n",
       "    </tr>\n",
       "  </thead>\n",
       "  <tbody>\n",
       "    <tr>\n",
       "      <th>0</th>\n",
       "      <td>1e9e8ef04dbcff4541ed26657ea517e5</td>\n",
       "      <td>perfumery</td>\n",
       "      <td>225.0</td>\n",
       "      <td>16.0</td>\n",
       "      <td>10.0</td>\n",
       "      <td>14.0</td>\n",
       "    </tr>\n",
       "    <tr>\n",
       "      <th>1</th>\n",
       "      <td>3aa071139cb16b67ca9e5dea641aaa2f</td>\n",
       "      <td>art</td>\n",
       "      <td>1000.0</td>\n",
       "      <td>30.0</td>\n",
       "      <td>18.0</td>\n",
       "      <td>20.0</td>\n",
       "    </tr>\n",
       "    <tr>\n",
       "      <th>2</th>\n",
       "      <td>96bd76ec8810374ed1b65e291975717f</td>\n",
       "      <td>sports_leisure</td>\n",
       "      <td>154.0</td>\n",
       "      <td>18.0</td>\n",
       "      <td>9.0</td>\n",
       "      <td>15.0</td>\n",
       "    </tr>\n",
       "    <tr>\n",
       "      <th>3</th>\n",
       "      <td>cef67bcfe19066a932b7673e239eb23d</td>\n",
       "      <td>baby</td>\n",
       "      <td>371.0</td>\n",
       "      <td>26.0</td>\n",
       "      <td>4.0</td>\n",
       "      <td>26.0</td>\n",
       "    </tr>\n",
       "    <tr>\n",
       "      <th>4</th>\n",
       "      <td>9dc1a7de274444849c219cff195d0b71</td>\n",
       "      <td>housewares</td>\n",
       "      <td>625.0</td>\n",
       "      <td>20.0</td>\n",
       "      <td>17.0</td>\n",
       "      <td>13.0</td>\n",
       "    </tr>\n",
       "  </tbody>\n",
       "</table>\n",
       "</div>"
      ],
      "text/plain": [
       "                         product_id product_category_name  product_weight_g  \\\n",
       "0  1e9e8ef04dbcff4541ed26657ea517e5             perfumery             225.0   \n",
       "1  3aa071139cb16b67ca9e5dea641aaa2f                   art            1000.0   \n",
       "2  96bd76ec8810374ed1b65e291975717f        sports_leisure             154.0   \n",
       "3  cef67bcfe19066a932b7673e239eb23d                  baby             371.0   \n",
       "4  9dc1a7de274444849c219cff195d0b71            housewares             625.0   \n",
       "\n",
       "   product_length_cm  product_height_cm  product_width_cm  \n",
       "0               16.0               10.0              14.0  \n",
       "1               30.0               18.0              20.0  \n",
       "2               18.0                9.0              15.0  \n",
       "3               26.0                4.0              26.0  \n",
       "4               20.0               17.0              13.0  "
      ]
     },
     "execution_count": 359,
     "metadata": {},
     "output_type": "execute_result"
    }
   ],
   "source": [
    "# read products table from the retail dataset\n",
    "products = pd.read_excel('Retail_dataset.xlsx', sheet_name='products')\n",
    "products.head()"
   ]
  },
  {
   "cell_type": "code",
   "execution_count": 360,
   "id": "57aabc03-6495-4df4-ab74-0414705d0987",
   "metadata": {},
   "outputs": [
    {
     "name": "stdout",
     "output_type": "stream",
     "text": [
      "Records: 32951\n",
      "Features: 6\n"
     ]
    }
   ],
   "source": [
    "# check number of records and features in products table\n",
    "print('Records: {}\\nFeatures: {}'.format(products.shape[0], products.shape[1]))"
   ]
  },
  {
   "cell_type": "code",
   "execution_count": 361,
   "id": "ab479027-9350-424b-97ba-2ba5ff423806",
   "metadata": {},
   "outputs": [
    {
     "name": "stdout",
     "output_type": "stream",
     "text": [
      "<class 'pandas.core.frame.DataFrame'>\n",
      "RangeIndex: 32951 entries, 0 to 32950\n",
      "Data columns (total 6 columns):\n",
      " #   Column                 Non-Null Count  Dtype  \n",
      "---  ------                 --------------  -----  \n",
      " 0   product_id             32951 non-null  object \n",
      " 1   product_category_name  32781 non-null  object \n",
      " 2   product_weight_g       32949 non-null  float64\n",
      " 3   product_length_cm      32949 non-null  float64\n",
      " 4   product_height_cm      32949 non-null  float64\n",
      " 5   product_width_cm       32949 non-null  float64\n",
      "dtypes: float64(4), object(2)\n",
      "memory usage: 1.5+ MB\n"
     ]
    }
   ],
   "source": [
    "# Look at basic information of products table\n",
    "products.info()"
   ]
  },
  {
   "cell_type": "code",
   "execution_count": 362,
   "id": "62628951-886a-4d39-b90d-586999ae4e74",
   "metadata": {},
   "outputs": [],
   "source": [
    "# Insights:\n",
    "# 1. All datatypes are fine.\n",
    "# 2. Most of the columns have some or more null values."
   ]
  },
  {
   "cell_type": "code",
   "execution_count": 363,
   "id": "223c9fc9-e99a-4449-85f8-d6c84a94aadc",
   "metadata": {},
   "outputs": [
    {
     "data": {
      "text/html": [
       "<div>\n",
       "<style scoped>\n",
       "    .dataframe tbody tr th:only-of-type {\n",
       "        vertical-align: middle;\n",
       "    }\n",
       "\n",
       "    .dataframe tbody tr th {\n",
       "        vertical-align: top;\n",
       "    }\n",
       "\n",
       "    .dataframe thead th {\n",
       "        text-align: right;\n",
       "    }\n",
       "</style>\n",
       "<table border=\"1\" class=\"dataframe\">\n",
       "  <thead>\n",
       "    <tr style=\"text-align: right;\">\n",
       "      <th></th>\n",
       "      <th>product_weight_g</th>\n",
       "      <th>product_length_cm</th>\n",
       "      <th>product_height_cm</th>\n",
       "      <th>product_width_cm</th>\n",
       "    </tr>\n",
       "  </thead>\n",
       "  <tbody>\n",
       "    <tr>\n",
       "      <th>count</th>\n",
       "      <td>32949.000000</td>\n",
       "      <td>32949.000000</td>\n",
       "      <td>32949.000000</td>\n",
       "      <td>32949.000000</td>\n",
       "    </tr>\n",
       "    <tr>\n",
       "      <th>mean</th>\n",
       "      <td>2276.472488</td>\n",
       "      <td>30.815078</td>\n",
       "      <td>16.937661</td>\n",
       "      <td>23.196728</td>\n",
       "    </tr>\n",
       "    <tr>\n",
       "      <th>std</th>\n",
       "      <td>4282.038731</td>\n",
       "      <td>16.914458</td>\n",
       "      <td>13.637554</td>\n",
       "      <td>12.079047</td>\n",
       "    </tr>\n",
       "    <tr>\n",
       "      <th>min</th>\n",
       "      <td>0.000000</td>\n",
       "      <td>7.000000</td>\n",
       "      <td>2.000000</td>\n",
       "      <td>6.000000</td>\n",
       "    </tr>\n",
       "    <tr>\n",
       "      <th>1%</th>\n",
       "      <td>60.000000</td>\n",
       "      <td>16.000000</td>\n",
       "      <td>2.000000</td>\n",
       "      <td>11.000000</td>\n",
       "    </tr>\n",
       "    <tr>\n",
       "      <th>25%</th>\n",
       "      <td>300.000000</td>\n",
       "      <td>18.000000</td>\n",
       "      <td>8.000000</td>\n",
       "      <td>15.000000</td>\n",
       "    </tr>\n",
       "    <tr>\n",
       "      <th>50%</th>\n",
       "      <td>700.000000</td>\n",
       "      <td>25.000000</td>\n",
       "      <td>13.000000</td>\n",
       "      <td>20.000000</td>\n",
       "    </tr>\n",
       "    <tr>\n",
       "      <th>75%</th>\n",
       "      <td>1900.000000</td>\n",
       "      <td>38.000000</td>\n",
       "      <td>21.000000</td>\n",
       "      <td>30.000000</td>\n",
       "    </tr>\n",
       "    <tr>\n",
       "      <th>80%</th>\n",
       "      <td>2500.000000</td>\n",
       "      <td>41.000000</td>\n",
       "      <td>25.000000</td>\n",
       "      <td>32.000000</td>\n",
       "    </tr>\n",
       "    <tr>\n",
       "      <th>85%</th>\n",
       "      <td>3800.000000</td>\n",
       "      <td>46.000000</td>\n",
       "      <td>29.000000</td>\n",
       "      <td>35.000000</td>\n",
       "    </tr>\n",
       "    <tr>\n",
       "      <th>90%</th>\n",
       "      <td>6300.000000</td>\n",
       "      <td>53.000000</td>\n",
       "      <td>33.000000</td>\n",
       "      <td>40.000000</td>\n",
       "    </tr>\n",
       "    <tr>\n",
       "      <th>95%</th>\n",
       "      <td>10850.000000</td>\n",
       "      <td>65.000000</td>\n",
       "      <td>44.000000</td>\n",
       "      <td>47.000000</td>\n",
       "    </tr>\n",
       "    <tr>\n",
       "      <th>99%</th>\n",
       "      <td>22538.000000</td>\n",
       "      <td>100.000000</td>\n",
       "      <td>69.000000</td>\n",
       "      <td>63.000000</td>\n",
       "    </tr>\n",
       "    <tr>\n",
       "      <th>99.5%</th>\n",
       "      <td>28500.000000</td>\n",
       "      <td>104.000000</td>\n",
       "      <td>79.000000</td>\n",
       "      <td>70.000000</td>\n",
       "    </tr>\n",
       "    <tr>\n",
       "      <th>99.9%</th>\n",
       "      <td>30000.000000</td>\n",
       "      <td>105.000000</td>\n",
       "      <td>102.052000</td>\n",
       "      <td>92.000000</td>\n",
       "    </tr>\n",
       "    <tr>\n",
       "      <th>max</th>\n",
       "      <td>40425.000000</td>\n",
       "      <td>105.000000</td>\n",
       "      <td>105.000000</td>\n",
       "      <td>118.000000</td>\n",
       "    </tr>\n",
       "  </tbody>\n",
       "</table>\n",
       "</div>"
      ],
      "text/plain": [
       "       product_weight_g  product_length_cm  product_height_cm  \\\n",
       "count      32949.000000       32949.000000       32949.000000   \n",
       "mean        2276.472488          30.815078          16.937661   \n",
       "std         4282.038731          16.914458          13.637554   \n",
       "min            0.000000           7.000000           2.000000   \n",
       "1%            60.000000          16.000000           2.000000   \n",
       "25%          300.000000          18.000000           8.000000   \n",
       "50%          700.000000          25.000000          13.000000   \n",
       "75%         1900.000000          38.000000          21.000000   \n",
       "80%         2500.000000          41.000000          25.000000   \n",
       "85%         3800.000000          46.000000          29.000000   \n",
       "90%         6300.000000          53.000000          33.000000   \n",
       "95%        10850.000000          65.000000          44.000000   \n",
       "99%        22538.000000         100.000000          69.000000   \n",
       "99.5%      28500.000000         104.000000          79.000000   \n",
       "99.9%      30000.000000         105.000000         102.052000   \n",
       "max        40425.000000         105.000000         105.000000   \n",
       "\n",
       "       product_width_cm  \n",
       "count      32949.000000  \n",
       "mean          23.196728  \n",
       "std           12.079047  \n",
       "min            6.000000  \n",
       "1%            11.000000  \n",
       "25%           15.000000  \n",
       "50%           20.000000  \n",
       "75%           30.000000  \n",
       "80%           32.000000  \n",
       "85%           35.000000  \n",
       "90%           40.000000  \n",
       "95%           47.000000  \n",
       "99%           63.000000  \n",
       "99.5%         70.000000  \n",
       "99.9%         92.000000  \n",
       "max          118.000000  "
      ]
     },
     "execution_count": 363,
     "metadata": {},
     "output_type": "execute_result"
    }
   ],
   "source": [
    "# Look at basic numerical statistics of products table\n",
    "products.describe(percentiles=[0.01, 0.25, 0.75, 0.8, 0.85, 0.9, 0.95, 0.99, 0.995, 0.999])"
   ]
  },
  {
   "cell_type": "code",
   "execution_count": 364,
   "id": "6c91742e-189a-4b0d-89b1-5c144eeb1b5c",
   "metadata": {},
   "outputs": [],
   "source": [
    "# Insights:\n",
    "# 1. The numeric distributions in columns product_length_cm, product_height_cm and product_width_cm seem fine.\n",
    "# 2. There are cases with 0 product_weight_g which doesn;t seem right."
   ]
  },
  {
   "cell_type": "code",
   "execution_count": 365,
   "id": "0a131c21-6923-4655-acfc-18d9b14190a3",
   "metadata": {},
   "outputs": [
    {
     "data": {
      "text/plain": [
       "product_id               0.000000\n",
       "product_category_name    0.085986\n",
       "product_weight_g         0.001012\n",
       "product_length_cm        0.001012\n",
       "product_height_cm        0.001012\n",
       "product_width_cm         0.001012\n",
       "dtype: float64"
      ]
     },
     "execution_count": 365,
     "metadata": {},
     "output_type": "execute_result"
    }
   ],
   "source": [
    "# Check null values in products table\n",
    "(products.isna().sum() / products.size) * 100"
   ]
  },
  {
   "cell_type": "code",
   "execution_count": 366,
   "id": "3488d8b4-56c2-414b-8740-844e75b73bf7",
   "metadata": {},
   "outputs": [],
   "source": [
    "# Insights:\n",
    "# 1. Most of the missing values are in product_category_name column and that's approx 8.6%.\n",
    "# 2. In columns related to product dimensions and weight have very low number of missing values."
   ]
  },
  {
   "cell_type": "code",
   "execution_count": 367,
   "id": "93a9dc4c-d94c-480e-8a27-4d030f2fc4d8",
   "metadata": {},
   "outputs": [
    {
     "data": {
      "text/html": [
       "<div>\n",
       "<style scoped>\n",
       "    .dataframe tbody tr th:only-of-type {\n",
       "        vertical-align: middle;\n",
       "    }\n",
       "\n",
       "    .dataframe tbody tr th {\n",
       "        vertical-align: top;\n",
       "    }\n",
       "\n",
       "    .dataframe thead th {\n",
       "        text-align: right;\n",
       "    }\n",
       "</style>\n",
       "<table border=\"1\" class=\"dataframe\">\n",
       "  <thead>\n",
       "    <tr style=\"text-align: right;\">\n",
       "      <th></th>\n",
       "      <th>product_id</th>\n",
       "      <th>product_category_name</th>\n",
       "      <th>product_weight_g</th>\n",
       "      <th>product_length_cm</th>\n",
       "      <th>product_height_cm</th>\n",
       "      <th>product_width_cm</th>\n",
       "    </tr>\n",
       "  </thead>\n",
       "  <tbody>\n",
       "    <tr>\n",
       "      <th>8578</th>\n",
       "      <td>09ff539a621711667c43eba6a3bd8466</td>\n",
       "      <td>toys</td>\n",
       "      <td>NaN</td>\n",
       "      <td>NaN</td>\n",
       "      <td>NaN</td>\n",
       "      <td>NaN</td>\n",
       "    </tr>\n",
       "    <tr>\n",
       "      <th>18851</th>\n",
       "      <td>5eb564652db742ff8f28759cd8d2652a</td>\n",
       "      <td>toys</td>\n",
       "      <td>NaN</td>\n",
       "      <td>NaN</td>\n",
       "      <td>NaN</td>\n",
       "      <td>NaN</td>\n",
       "    </tr>\n",
       "  </tbody>\n",
       "</table>\n",
       "</div>"
      ],
      "text/plain": [
       "                             product_id product_category_name  \\\n",
       "8578   09ff539a621711667c43eba6a3bd8466                  toys   \n",
       "18851  5eb564652db742ff8f28759cd8d2652a                  toys   \n",
       "\n",
       "       product_weight_g  product_length_cm  product_height_cm  \\\n",
       "8578                NaN                NaN                NaN   \n",
       "18851               NaN                NaN                NaN   \n",
       "\n",
       "       product_width_cm  \n",
       "8578                NaN  \n",
       "18851               NaN  "
      ]
     },
     "execution_count": 367,
     "metadata": {},
     "output_type": "execute_result"
    }
   ],
   "source": [
    "# Check null values in column product_weight_g\n",
    "products[products.product_weight_g.isna()]"
   ]
  },
  {
   "cell_type": "code",
   "execution_count": 368,
   "id": "2e470a6b-f421-46ac-a317-26dedfb61e75",
   "metadata": {},
   "outputs": [
    {
     "data": {
      "text/html": [
       "<div>\n",
       "<style scoped>\n",
       "    .dataframe tbody tr th:only-of-type {\n",
       "        vertical-align: middle;\n",
       "    }\n",
       "\n",
       "    .dataframe tbody tr th {\n",
       "        vertical-align: top;\n",
       "    }\n",
       "\n",
       "    .dataframe thead th {\n",
       "        text-align: right;\n",
       "    }\n",
       "</style>\n",
       "<table border=\"1\" class=\"dataframe\">\n",
       "  <thead>\n",
       "    <tr style=\"text-align: right;\">\n",
       "      <th></th>\n",
       "      <th>product_id</th>\n",
       "      <th>product_category_name</th>\n",
       "      <th>product_weight_g</th>\n",
       "      <th>product_length_cm</th>\n",
       "      <th>product_height_cm</th>\n",
       "      <th>product_width_cm</th>\n",
       "    </tr>\n",
       "  </thead>\n",
       "  <tbody>\n",
       "    <tr>\n",
       "      <th>8578</th>\n",
       "      <td>09ff539a621711667c43eba6a3bd8466</td>\n",
       "      <td>toys</td>\n",
       "      <td>NaN</td>\n",
       "      <td>NaN</td>\n",
       "      <td>NaN</td>\n",
       "      <td>NaN</td>\n",
       "    </tr>\n",
       "    <tr>\n",
       "      <th>18851</th>\n",
       "      <td>5eb564652db742ff8f28759cd8d2652a</td>\n",
       "      <td>toys</td>\n",
       "      <td>NaN</td>\n",
       "      <td>NaN</td>\n",
       "      <td>NaN</td>\n",
       "      <td>NaN</td>\n",
       "    </tr>\n",
       "  </tbody>\n",
       "</table>\n",
       "</div>"
      ],
      "text/plain": [
       "                             product_id product_category_name  \\\n",
       "8578   09ff539a621711667c43eba6a3bd8466                  toys   \n",
       "18851  5eb564652db742ff8f28759cd8d2652a                  toys   \n",
       "\n",
       "       product_weight_g  product_length_cm  product_height_cm  \\\n",
       "8578                NaN                NaN                NaN   \n",
       "18851               NaN                NaN                NaN   \n",
       "\n",
       "       product_width_cm  \n",
       "8578                NaN  \n",
       "18851               NaN  "
      ]
     },
     "execution_count": 368,
     "metadata": {},
     "output_type": "execute_result"
    }
   ],
   "source": [
    "# Check null values in column product_length_cm\n",
    "products[products.product_length_cm.isna()]"
   ]
  },
  {
   "cell_type": "code",
   "execution_count": 369,
   "id": "eef1f0cd-ec0a-4c73-96c1-20351ca8dfb5",
   "metadata": {},
   "outputs": [
    {
     "data": {
      "text/html": [
       "<div>\n",
       "<style scoped>\n",
       "    .dataframe tbody tr th:only-of-type {\n",
       "        vertical-align: middle;\n",
       "    }\n",
       "\n",
       "    .dataframe tbody tr th {\n",
       "        vertical-align: top;\n",
       "    }\n",
       "\n",
       "    .dataframe thead th {\n",
       "        text-align: right;\n",
       "    }\n",
       "</style>\n",
       "<table border=\"1\" class=\"dataframe\">\n",
       "  <thead>\n",
       "    <tr style=\"text-align: right;\">\n",
       "      <th></th>\n",
       "      <th>product_id</th>\n",
       "      <th>product_category_name</th>\n",
       "      <th>product_weight_g</th>\n",
       "      <th>product_length_cm</th>\n",
       "      <th>product_height_cm</th>\n",
       "      <th>product_width_cm</th>\n",
       "    </tr>\n",
       "  </thead>\n",
       "  <tbody>\n",
       "    <tr>\n",
       "      <th>8578</th>\n",
       "      <td>09ff539a621711667c43eba6a3bd8466</td>\n",
       "      <td>toys</td>\n",
       "      <td>NaN</td>\n",
       "      <td>NaN</td>\n",
       "      <td>NaN</td>\n",
       "      <td>NaN</td>\n",
       "    </tr>\n",
       "    <tr>\n",
       "      <th>18851</th>\n",
       "      <td>5eb564652db742ff8f28759cd8d2652a</td>\n",
       "      <td>toys</td>\n",
       "      <td>NaN</td>\n",
       "      <td>NaN</td>\n",
       "      <td>NaN</td>\n",
       "      <td>NaN</td>\n",
       "    </tr>\n",
       "  </tbody>\n",
       "</table>\n",
       "</div>"
      ],
      "text/plain": [
       "                             product_id product_category_name  \\\n",
       "8578   09ff539a621711667c43eba6a3bd8466                  toys   \n",
       "18851  5eb564652db742ff8f28759cd8d2652a                  toys   \n",
       "\n",
       "       product_weight_g  product_length_cm  product_height_cm  \\\n",
       "8578                NaN                NaN                NaN   \n",
       "18851               NaN                NaN                NaN   \n",
       "\n",
       "       product_width_cm  \n",
       "8578                NaN  \n",
       "18851               NaN  "
      ]
     },
     "execution_count": 369,
     "metadata": {},
     "output_type": "execute_result"
    }
   ],
   "source": [
    "# Check null values in column product_height_cm\n",
    "products[products.product_height_cm.isna()]"
   ]
  },
  {
   "cell_type": "code",
   "execution_count": 370,
   "id": "2cdf91ff-2b27-4a1b-ba30-f5e4d4e1d574",
   "metadata": {},
   "outputs": [
    {
     "data": {
      "text/html": [
       "<div>\n",
       "<style scoped>\n",
       "    .dataframe tbody tr th:only-of-type {\n",
       "        vertical-align: middle;\n",
       "    }\n",
       "\n",
       "    .dataframe tbody tr th {\n",
       "        vertical-align: top;\n",
       "    }\n",
       "\n",
       "    .dataframe thead th {\n",
       "        text-align: right;\n",
       "    }\n",
       "</style>\n",
       "<table border=\"1\" class=\"dataframe\">\n",
       "  <thead>\n",
       "    <tr style=\"text-align: right;\">\n",
       "      <th></th>\n",
       "      <th>product_id</th>\n",
       "      <th>product_category_name</th>\n",
       "      <th>product_weight_g</th>\n",
       "      <th>product_length_cm</th>\n",
       "      <th>product_height_cm</th>\n",
       "      <th>product_width_cm</th>\n",
       "    </tr>\n",
       "  </thead>\n",
       "  <tbody>\n",
       "    <tr>\n",
       "      <th>8578</th>\n",
       "      <td>09ff539a621711667c43eba6a3bd8466</td>\n",
       "      <td>toys</td>\n",
       "      <td>NaN</td>\n",
       "      <td>NaN</td>\n",
       "      <td>NaN</td>\n",
       "      <td>NaN</td>\n",
       "    </tr>\n",
       "    <tr>\n",
       "      <th>18851</th>\n",
       "      <td>5eb564652db742ff8f28759cd8d2652a</td>\n",
       "      <td>toys</td>\n",
       "      <td>NaN</td>\n",
       "      <td>NaN</td>\n",
       "      <td>NaN</td>\n",
       "      <td>NaN</td>\n",
       "    </tr>\n",
       "  </tbody>\n",
       "</table>\n",
       "</div>"
      ],
      "text/plain": [
       "                             product_id product_category_name  \\\n",
       "8578   09ff539a621711667c43eba6a3bd8466                  toys   \n",
       "18851  5eb564652db742ff8f28759cd8d2652a                  toys   \n",
       "\n",
       "       product_weight_g  product_length_cm  product_height_cm  \\\n",
       "8578                NaN                NaN                NaN   \n",
       "18851               NaN                NaN                NaN   \n",
       "\n",
       "       product_width_cm  \n",
       "8578                NaN  \n",
       "18851               NaN  "
      ]
     },
     "execution_count": 370,
     "metadata": {},
     "output_type": "execute_result"
    }
   ],
   "source": [
    "# Check null values in column product_width_cm\n",
    "products[products.product_width_cm.isna()]"
   ]
  },
  {
   "cell_type": "code",
   "execution_count": 371,
   "id": "7d9b63c2-a6e0-4b2e-94f0-2a63c24cd339",
   "metadata": {},
   "outputs": [],
   "source": [
    "# Insights:\n",
    "# 1. There are 2 orders where product dimensions and weight are missing."
   ]
  },
  {
   "cell_type": "code",
   "execution_count": 372,
   "id": "ac533086-441a-4787-9715-f7a61241a2f6",
   "metadata": {},
   "outputs": [],
   "source": [
    "# The only 2 missing value records w.r.t product dimention and weight can be dropped\n",
    "# Dropping the specific index records\n",
    "products.drop(products.index[[8578, 18851]], inplace=True)"
   ]
  },
  {
   "cell_type": "code",
   "execution_count": 373,
   "id": "876a7de6-cb11-482e-87e0-213ade2bea6a",
   "metadata": {},
   "outputs": [
    {
     "data": {
      "text/plain": [
       "product_id               0.000000\n",
       "product_category_name    0.085991\n",
       "product_weight_g         0.000000\n",
       "product_length_cm        0.000000\n",
       "product_height_cm        0.000000\n",
       "product_width_cm         0.000000\n",
       "dtype: float64"
      ]
     },
     "execution_count": 373,
     "metadata": {},
     "output_type": "execute_result"
    }
   ],
   "source": [
    "# Check null values in products table\n",
    "(products.isna().sum() / products.size) * 100"
   ]
  },
  {
   "cell_type": "code",
   "execution_count": 374,
   "id": "0a269583-12d6-4174-b126-d9f6a761357d",
   "metadata": {},
   "outputs": [
    {
     "data": {
      "text/plain": [
       "product_category_name\n",
       "toys                                 24723\n",
       "bed_bath_table                         789\n",
       "sports_leisure                         721\n",
       "furniture_decor                        687\n",
       "health_beauty                          648\n",
       "                                     ...  \n",
       "fashion_childrens_clothes                1\n",
       "diapers_and_hygiene                      1\n",
       "home_comfort_2                           1\n",
       "security_and_services                    1\n",
       "furniture_mattress_and_upholstery        1\n",
       "Name: count, Length: 70, dtype: int64"
      ]
     },
     "execution_count": 374,
     "metadata": {},
     "output_type": "execute_result"
    }
   ],
   "source": [
    "products.product_category_name.value_counts()"
   ]
  },
  {
   "cell_type": "code",
   "execution_count": 375,
   "id": "9ee54823-2525-4584-b57f-cb1a2d478faf",
   "metadata": {},
   "outputs": [],
   "source": [
    "# replace the missing values with a category 'Unknown' in column product_category_name\n",
    "products.product_category_name.fillna('Unknown', inplace=True)"
   ]
  },
  {
   "cell_type": "code",
   "execution_count": 377,
   "id": "4e740979-7bc5-44fd-8e81-e5ff8c18bd03",
   "metadata": {},
   "outputs": [
    {
     "data": {
      "text/plain": [
       "product_id               0\n",
       "product_category_name    0\n",
       "product_weight_g         0\n",
       "product_length_cm        0\n",
       "product_height_cm        0\n",
       "product_width_cm         0\n",
       "dtype: int64"
      ]
     },
     "execution_count": 377,
     "metadata": {},
     "output_type": "execute_result"
    }
   ],
   "source": [
    "# Check null values in products table, after treating null value records\n",
    "products.isna().sum()"
   ]
  },
  {
   "cell_type": "code",
   "execution_count": 378,
   "id": "66bef317-065d-4ee0-90a2-0451b20bc178",
   "metadata": {},
   "outputs": [
    {
     "data": {
      "text/html": [
       "<div>\n",
       "<style scoped>\n",
       "    .dataframe tbody tr th:only-of-type {\n",
       "        vertical-align: middle;\n",
       "    }\n",
       "\n",
       "    .dataframe tbody tr th {\n",
       "        vertical-align: top;\n",
       "    }\n",
       "\n",
       "    .dataframe thead th {\n",
       "        text-align: right;\n",
       "    }\n",
       "</style>\n",
       "<table border=\"1\" class=\"dataframe\">\n",
       "  <thead>\n",
       "    <tr style=\"text-align: right;\">\n",
       "      <th></th>\n",
       "      <th>product_id</th>\n",
       "      <th>product_category_name</th>\n",
       "      <th>product_weight_g</th>\n",
       "      <th>product_length_cm</th>\n",
       "      <th>product_height_cm</th>\n",
       "      <th>product_width_cm</th>\n",
       "    </tr>\n",
       "  </thead>\n",
       "  <tbody>\n",
       "  </tbody>\n",
       "</table>\n",
       "</div>"
      ],
      "text/plain": [
       "Empty DataFrame\n",
       "Columns: [product_id, product_category_name, product_weight_g, product_length_cm, product_height_cm, product_width_cm]\n",
       "Index: []"
      ]
     },
     "execution_count": 378,
     "metadata": {},
     "output_type": "execute_result"
    }
   ],
   "source": [
    "# Look for any duplicate records in products table\n",
    "products[products.duplicated()]"
   ]
  },
  {
   "cell_type": "code",
   "execution_count": 380,
   "id": "825ca411-6b71-4957-8d14-e6bf473ba215",
   "metadata": {},
   "outputs": [
    {
     "name": "stdout",
     "output_type": "stream",
     "text": [
      "Records: 32949\n",
      "Features: 6\n"
     ]
    }
   ],
   "source": [
    "# check number of records and features in products table, after treating null values\n",
    "print('Records: {}\\nFeatures: {}'.format(products.shape[0], products.shape[1]))"
   ]
  },
  {
   "cell_type": "code",
   "execution_count": 386,
   "id": "5f637489-af2a-48f9-94ad-051da7a6672e",
   "metadata": {},
   "outputs": [
    {
     "data": {
      "text/plain": [
       "True"
      ]
     },
     "execution_count": 386,
     "metadata": {},
     "output_type": "execute_result"
    }
   ],
   "source": [
    "# Check if all product_id values are unique in the products table\n",
    "products.product_id.nunique() == products.shape[0]"
   ]
  },
  {
   "cell_type": "code",
   "execution_count": null,
   "id": "cf07feb6-1fbf-4cdd-b3bc-cbf05e9e9d28",
   "metadata": {},
   "outputs": [],
   "source": [
    "###############################################################################"
   ]
  },
  {
   "cell_type": "markdown",
   "id": "c082fbc1-3e2d-49f4-9408-7bb8326df177",
   "metadata": {},
   "source": [
    "## 2. Merge all the tables to make one data table\n",
    "orders - customers &emsp;: customer_id   \n",
    "retail - payments &emsp;&emsp;: order_id   \n",
    "retail - order_items &emsp;: order_id   \n",
    "retail - products &emsp;&emsp;: product_id   "
   ]
  },
  {
   "cell_type": "code",
   "execution_count": 427,
   "id": "1b2cdab3-ae51-4245-8127-567a59a531a2",
   "metadata": {},
   "outputs": [
    {
     "data": {
      "text/html": [
       "<div>\n",
       "<style scoped>\n",
       "    .dataframe tbody tr th:only-of-type {\n",
       "        vertical-align: middle;\n",
       "    }\n",
       "\n",
       "    .dataframe tbody tr th {\n",
       "        vertical-align: top;\n",
       "    }\n",
       "\n",
       "    .dataframe thead th {\n",
       "        text-align: right;\n",
       "    }\n",
       "</style>\n",
       "<table border=\"1\" class=\"dataframe\">\n",
       "  <thead>\n",
       "    <tr style=\"text-align: right;\">\n",
       "      <th></th>\n",
       "      <th>order_id</th>\n",
       "      <th>customer_id</th>\n",
       "      <th>order_purchase_timestamp</th>\n",
       "      <th>order_approved_at</th>\n",
       "      <th>order_delivered_timestamp</th>\n",
       "      <th>order_estimated_delivery_date</th>\n",
       "      <th>customer_zip_code_prefix</th>\n",
       "      <th>customer_city</th>\n",
       "      <th>customer_state</th>\n",
       "    </tr>\n",
       "  </thead>\n",
       "  <tbody>\n",
       "    <tr>\n",
       "      <th>0</th>\n",
       "      <td>e481f51cbdc54678b7cc49136f2d6af7</td>\n",
       "      <td>7c396fd4830fd04220f754e42b4e5bff</td>\n",
       "      <td>2017-10-02 10:56:33</td>\n",
       "      <td>2017-10-02 11:07:15</td>\n",
       "      <td>2017-10-10 21:25:13</td>\n",
       "      <td>2017-10-18</td>\n",
       "      <td>3149</td>\n",
       "      <td>sao paulo</td>\n",
       "      <td>SP</td>\n",
       "    </tr>\n",
       "    <tr>\n",
       "      <th>1</th>\n",
       "      <td>53cdb2fc8bc7dce0b6741e2150273451</td>\n",
       "      <td>af07308b275d755c9edb36a90c618231</td>\n",
       "      <td>2018-07-24 20:41:37</td>\n",
       "      <td>2018-07-26 03:24:27</td>\n",
       "      <td>2018-08-07 15:27:45</td>\n",
       "      <td>2018-08-13</td>\n",
       "      <td>47813</td>\n",
       "      <td>barreiras</td>\n",
       "      <td>BA</td>\n",
       "    </tr>\n",
       "  </tbody>\n",
       "</table>\n",
       "</div>"
      ],
      "text/plain": [
       "                           order_id                       customer_id  \\\n",
       "0  e481f51cbdc54678b7cc49136f2d6af7  7c396fd4830fd04220f754e42b4e5bff   \n",
       "1  53cdb2fc8bc7dce0b6741e2150273451  af07308b275d755c9edb36a90c618231   \n",
       "\n",
       "  order_purchase_timestamp   order_approved_at order_delivered_timestamp  \\\n",
       "0      2017-10-02 10:56:33 2017-10-02 11:07:15       2017-10-10 21:25:13   \n",
       "1      2018-07-24 20:41:37 2018-07-26 03:24:27       2018-08-07 15:27:45   \n",
       "\n",
       "  order_estimated_delivery_date  customer_zip_code_prefix customer_city  \\\n",
       "0                    2017-10-18                      3149     sao paulo   \n",
       "1                    2018-08-13                     47813     barreiras   \n",
       "\n",
       "  customer_state  \n",
       "0             SP  \n",
       "1             BA  "
      ]
     },
     "execution_count": 427,
     "metadata": {},
     "output_type": "execute_result"
    }
   ],
   "source": [
    "# merge orders with customers on customer_id\n",
    "# There can be customers without any orders place, but each order is expected to be placed by a customer\n",
    "retail = pd.merge(left=orders, right=customers, on='customer_id')\n",
    "retail.head(2)"
   ]
  },
  {
   "cell_type": "code",
   "execution_count": 428,
   "id": "0f73adb1-1b1f-4fca-ae59-f0188a6caf04",
   "metadata": {},
   "outputs": [
    {
     "data": {
      "text/html": [
       "<div>\n",
       "<style scoped>\n",
       "    .dataframe tbody tr th:only-of-type {\n",
       "        vertical-align: middle;\n",
       "    }\n",
       "\n",
       "    .dataframe tbody tr th {\n",
       "        vertical-align: top;\n",
       "    }\n",
       "\n",
       "    .dataframe thead th {\n",
       "        text-align: right;\n",
       "    }\n",
       "</style>\n",
       "<table border=\"1\" class=\"dataframe\">\n",
       "  <thead>\n",
       "    <tr style=\"text-align: right;\">\n",
       "      <th></th>\n",
       "      <th>order_id</th>\n",
       "      <th>customer_id</th>\n",
       "      <th>order_purchase_timestamp</th>\n",
       "      <th>order_approved_at</th>\n",
       "      <th>order_delivered_timestamp</th>\n",
       "      <th>order_estimated_delivery_date</th>\n",
       "      <th>customer_zip_code_prefix</th>\n",
       "      <th>customer_city</th>\n",
       "      <th>customer_state</th>\n",
       "      <th>payment_sequential</th>\n",
       "      <th>payment_type</th>\n",
       "      <th>payment_installments</th>\n",
       "      <th>payment_value</th>\n",
       "    </tr>\n",
       "  </thead>\n",
       "  <tbody>\n",
       "    <tr>\n",
       "      <th>0</th>\n",
       "      <td>e481f51cbdc54678b7cc49136f2d6af7</td>\n",
       "      <td>7c396fd4830fd04220f754e42b4e5bff</td>\n",
       "      <td>2017-10-02 10:56:33</td>\n",
       "      <td>2017-10-02 11:07:15</td>\n",
       "      <td>2017-10-10 21:25:13</td>\n",
       "      <td>2017-10-18</td>\n",
       "      <td>3149</td>\n",
       "      <td>sao paulo</td>\n",
       "      <td>SP</td>\n",
       "      <td>1</td>\n",
       "      <td>credit_card</td>\n",
       "      <td>1</td>\n",
       "      <td>18.12</td>\n",
       "    </tr>\n",
       "    <tr>\n",
       "      <th>1</th>\n",
       "      <td>e481f51cbdc54678b7cc49136f2d6af7</td>\n",
       "      <td>7c396fd4830fd04220f754e42b4e5bff</td>\n",
       "      <td>2017-10-02 10:56:33</td>\n",
       "      <td>2017-10-02 11:07:15</td>\n",
       "      <td>2017-10-10 21:25:13</td>\n",
       "      <td>2017-10-18</td>\n",
       "      <td>3149</td>\n",
       "      <td>sao paulo</td>\n",
       "      <td>SP</td>\n",
       "      <td>3</td>\n",
       "      <td>voucher</td>\n",
       "      <td>1</td>\n",
       "      <td>2.00</td>\n",
       "    </tr>\n",
       "  </tbody>\n",
       "</table>\n",
       "</div>"
      ],
      "text/plain": [
       "                           order_id                       customer_id  \\\n",
       "0  e481f51cbdc54678b7cc49136f2d6af7  7c396fd4830fd04220f754e42b4e5bff   \n",
       "1  e481f51cbdc54678b7cc49136f2d6af7  7c396fd4830fd04220f754e42b4e5bff   \n",
       "\n",
       "  order_purchase_timestamp   order_approved_at order_delivered_timestamp  \\\n",
       "0      2017-10-02 10:56:33 2017-10-02 11:07:15       2017-10-10 21:25:13   \n",
       "1      2017-10-02 10:56:33 2017-10-02 11:07:15       2017-10-10 21:25:13   \n",
       "\n",
       "  order_estimated_delivery_date  customer_zip_code_prefix customer_city  \\\n",
       "0                    2017-10-18                      3149     sao paulo   \n",
       "1                    2017-10-18                      3149     sao paulo   \n",
       "\n",
       "  customer_state  payment_sequential payment_type  payment_installments  \\\n",
       "0             SP                   1  credit_card                     1   \n",
       "1             SP                   3      voucher                     1   \n",
       "\n",
       "   payment_value  \n",
       "0          18.12  \n",
       "1           2.00  "
      ]
     },
     "execution_count": 428,
     "metadata": {},
     "output_type": "execute_result"
    }
   ],
   "source": [
    "# merge retail with payment on order_id\n",
    "retail = pd.merge(left=retail, right=payments, on='order_id')\n",
    "retail.head(2)"
   ]
  },
  {
   "cell_type": "code",
   "execution_count": 430,
   "id": "90db64ac-81e1-4412-b543-5ea7e5b14fa8",
   "metadata": {},
   "outputs": [
    {
     "data": {
      "text/html": [
       "<div>\n",
       "<style scoped>\n",
       "    .dataframe tbody tr th:only-of-type {\n",
       "        vertical-align: middle;\n",
       "    }\n",
       "\n",
       "    .dataframe tbody tr th {\n",
       "        vertical-align: top;\n",
       "    }\n",
       "\n",
       "    .dataframe thead th {\n",
       "        text-align: right;\n",
       "    }\n",
       "</style>\n",
       "<table border=\"1\" class=\"dataframe\">\n",
       "  <thead>\n",
       "    <tr style=\"text-align: right;\">\n",
       "      <th></th>\n",
       "      <th>order_id</th>\n",
       "      <th>customer_id</th>\n",
       "      <th>order_purchase_timestamp</th>\n",
       "      <th>order_approved_at</th>\n",
       "      <th>order_delivered_timestamp</th>\n",
       "      <th>order_estimated_delivery_date</th>\n",
       "      <th>customer_zip_code_prefix</th>\n",
       "      <th>customer_city</th>\n",
       "      <th>customer_state</th>\n",
       "      <th>payment_sequential</th>\n",
       "      <th>payment_type</th>\n",
       "      <th>payment_installments</th>\n",
       "      <th>payment_value</th>\n",
       "      <th>order_item_id</th>\n",
       "      <th>product_id</th>\n",
       "      <th>seller_id</th>\n",
       "      <th>price</th>\n",
       "      <th>shipping_charges</th>\n",
       "    </tr>\n",
       "  </thead>\n",
       "  <tbody>\n",
       "    <tr>\n",
       "      <th>0</th>\n",
       "      <td>e481f51cbdc54678b7cc49136f2d6af7</td>\n",
       "      <td>7c396fd4830fd04220f754e42b4e5bff</td>\n",
       "      <td>2017-10-02 10:56:33</td>\n",
       "      <td>2017-10-02 11:07:15</td>\n",
       "      <td>2017-10-10 21:25:13</td>\n",
       "      <td>2017-10-18</td>\n",
       "      <td>3149</td>\n",
       "      <td>sao paulo</td>\n",
       "      <td>SP</td>\n",
       "      <td>1</td>\n",
       "      <td>credit_card</td>\n",
       "      <td>1</td>\n",
       "      <td>18.12</td>\n",
       "      <td>1</td>\n",
       "      <td>87285b34884572647811a353c7ac498a</td>\n",
       "      <td>3504c0cb71d7fa48d967e0e4c94d59d9</td>\n",
       "      <td>29.99</td>\n",
       "      <td>8.72</td>\n",
       "    </tr>\n",
       "    <tr>\n",
       "      <th>1</th>\n",
       "      <td>e481f51cbdc54678b7cc49136f2d6af7</td>\n",
       "      <td>7c396fd4830fd04220f754e42b4e5bff</td>\n",
       "      <td>2017-10-02 10:56:33</td>\n",
       "      <td>2017-10-02 11:07:15</td>\n",
       "      <td>2017-10-10 21:25:13</td>\n",
       "      <td>2017-10-18</td>\n",
       "      <td>3149</td>\n",
       "      <td>sao paulo</td>\n",
       "      <td>SP</td>\n",
       "      <td>3</td>\n",
       "      <td>voucher</td>\n",
       "      <td>1</td>\n",
       "      <td>2.00</td>\n",
       "      <td>1</td>\n",
       "      <td>87285b34884572647811a353c7ac498a</td>\n",
       "      <td>3504c0cb71d7fa48d967e0e4c94d59d9</td>\n",
       "      <td>29.99</td>\n",
       "      <td>8.72</td>\n",
       "    </tr>\n",
       "  </tbody>\n",
       "</table>\n",
       "</div>"
      ],
      "text/plain": [
       "                           order_id                       customer_id  \\\n",
       "0  e481f51cbdc54678b7cc49136f2d6af7  7c396fd4830fd04220f754e42b4e5bff   \n",
       "1  e481f51cbdc54678b7cc49136f2d6af7  7c396fd4830fd04220f754e42b4e5bff   \n",
       "\n",
       "  order_purchase_timestamp   order_approved_at order_delivered_timestamp  \\\n",
       "0      2017-10-02 10:56:33 2017-10-02 11:07:15       2017-10-10 21:25:13   \n",
       "1      2017-10-02 10:56:33 2017-10-02 11:07:15       2017-10-10 21:25:13   \n",
       "\n",
       "  order_estimated_delivery_date  customer_zip_code_prefix customer_city  \\\n",
       "0                    2017-10-18                      3149     sao paulo   \n",
       "1                    2017-10-18                      3149     sao paulo   \n",
       "\n",
       "  customer_state  payment_sequential payment_type  payment_installments  \\\n",
       "0             SP                   1  credit_card                     1   \n",
       "1             SP                   3      voucher                     1   \n",
       "\n",
       "   payment_value  order_item_id                        product_id  \\\n",
       "0          18.12              1  87285b34884572647811a353c7ac498a   \n",
       "1           2.00              1  87285b34884572647811a353c7ac498a   \n",
       "\n",
       "                          seller_id  price  shipping_charges  \n",
       "0  3504c0cb71d7fa48d967e0e4c94d59d9  29.99              8.72  \n",
       "1  3504c0cb71d7fa48d967e0e4c94d59d9  29.99              8.72  "
      ]
     },
     "execution_count": 430,
     "metadata": {},
     "output_type": "execute_result"
    }
   ],
   "source": [
    "# merge retail with order_items on order_id\n",
    "retail = pd.merge(left=retail, right=items, on='order_id')\n",
    "retail.head(2)"
   ]
  },
  {
   "cell_type": "code",
   "execution_count": 432,
   "id": "f1352bcc-9d07-4f67-994d-39f93dac2d8f",
   "metadata": {},
   "outputs": [
    {
     "data": {
      "text/html": [
       "<div>\n",
       "<style scoped>\n",
       "    .dataframe tbody tr th:only-of-type {\n",
       "        vertical-align: middle;\n",
       "    }\n",
       "\n",
       "    .dataframe tbody tr th {\n",
       "        vertical-align: top;\n",
       "    }\n",
       "\n",
       "    .dataframe thead th {\n",
       "        text-align: right;\n",
       "    }\n",
       "</style>\n",
       "<table border=\"1\" class=\"dataframe\">\n",
       "  <thead>\n",
       "    <tr style=\"text-align: right;\">\n",
       "      <th></th>\n",
       "      <th>order_id</th>\n",
       "      <th>customer_id</th>\n",
       "      <th>order_purchase_timestamp</th>\n",
       "      <th>order_approved_at</th>\n",
       "      <th>order_delivered_timestamp</th>\n",
       "      <th>order_estimated_delivery_date</th>\n",
       "      <th>customer_zip_code_prefix</th>\n",
       "      <th>customer_city</th>\n",
       "      <th>customer_state</th>\n",
       "      <th>payment_sequential</th>\n",
       "      <th>...</th>\n",
       "      <th>order_item_id</th>\n",
       "      <th>product_id</th>\n",
       "      <th>seller_id</th>\n",
       "      <th>price</th>\n",
       "      <th>shipping_charges</th>\n",
       "      <th>product_category_name</th>\n",
       "      <th>product_weight_g</th>\n",
       "      <th>product_length_cm</th>\n",
       "      <th>product_height_cm</th>\n",
       "      <th>product_width_cm</th>\n",
       "    </tr>\n",
       "  </thead>\n",
       "  <tbody>\n",
       "    <tr>\n",
       "      <th>0</th>\n",
       "      <td>e481f51cbdc54678b7cc49136f2d6af7</td>\n",
       "      <td>7c396fd4830fd04220f754e42b4e5bff</td>\n",
       "      <td>2017-10-02 10:56:33</td>\n",
       "      <td>2017-10-02 11:07:15</td>\n",
       "      <td>2017-10-10 21:25:13</td>\n",
       "      <td>2017-10-18</td>\n",
       "      <td>3149</td>\n",
       "      <td>sao paulo</td>\n",
       "      <td>SP</td>\n",
       "      <td>1</td>\n",
       "      <td>...</td>\n",
       "      <td>1</td>\n",
       "      <td>87285b34884572647811a353c7ac498a</td>\n",
       "      <td>3504c0cb71d7fa48d967e0e4c94d59d9</td>\n",
       "      <td>29.99</td>\n",
       "      <td>8.72</td>\n",
       "      <td>housewares</td>\n",
       "      <td>500.0</td>\n",
       "      <td>19.0</td>\n",
       "      <td>8.0</td>\n",
       "      <td>13.0</td>\n",
       "    </tr>\n",
       "    <tr>\n",
       "      <th>1</th>\n",
       "      <td>e481f51cbdc54678b7cc49136f2d6af7</td>\n",
       "      <td>7c396fd4830fd04220f754e42b4e5bff</td>\n",
       "      <td>2017-10-02 10:56:33</td>\n",
       "      <td>2017-10-02 11:07:15</td>\n",
       "      <td>2017-10-10 21:25:13</td>\n",
       "      <td>2017-10-18</td>\n",
       "      <td>3149</td>\n",
       "      <td>sao paulo</td>\n",
       "      <td>SP</td>\n",
       "      <td>3</td>\n",
       "      <td>...</td>\n",
       "      <td>1</td>\n",
       "      <td>87285b34884572647811a353c7ac498a</td>\n",
       "      <td>3504c0cb71d7fa48d967e0e4c94d59d9</td>\n",
       "      <td>29.99</td>\n",
       "      <td>8.72</td>\n",
       "      <td>housewares</td>\n",
       "      <td>500.0</td>\n",
       "      <td>19.0</td>\n",
       "      <td>8.0</td>\n",
       "      <td>13.0</td>\n",
       "    </tr>\n",
       "  </tbody>\n",
       "</table>\n",
       "<p>2 rows × 23 columns</p>\n",
       "</div>"
      ],
      "text/plain": [
       "                           order_id                       customer_id  \\\n",
       "0  e481f51cbdc54678b7cc49136f2d6af7  7c396fd4830fd04220f754e42b4e5bff   \n",
       "1  e481f51cbdc54678b7cc49136f2d6af7  7c396fd4830fd04220f754e42b4e5bff   \n",
       "\n",
       "  order_purchase_timestamp   order_approved_at order_delivered_timestamp  \\\n",
       "0      2017-10-02 10:56:33 2017-10-02 11:07:15       2017-10-10 21:25:13   \n",
       "1      2017-10-02 10:56:33 2017-10-02 11:07:15       2017-10-10 21:25:13   \n",
       "\n",
       "  order_estimated_delivery_date  customer_zip_code_prefix customer_city  \\\n",
       "0                    2017-10-18                      3149     sao paulo   \n",
       "1                    2017-10-18                      3149     sao paulo   \n",
       "\n",
       "  customer_state  payment_sequential  ... order_item_id  \\\n",
       "0             SP                   1  ...             1   \n",
       "1             SP                   3  ...             1   \n",
       "\n",
       "                         product_id                         seller_id  price  \\\n",
       "0  87285b34884572647811a353c7ac498a  3504c0cb71d7fa48d967e0e4c94d59d9  29.99   \n",
       "1  87285b34884572647811a353c7ac498a  3504c0cb71d7fa48d967e0e4c94d59d9  29.99   \n",
       "\n",
       "  shipping_charges product_category_name  product_weight_g  product_length_cm  \\\n",
       "0             8.72            housewares             500.0               19.0   \n",
       "1             8.72            housewares             500.0               19.0   \n",
       "\n",
       "  product_height_cm  product_width_cm  \n",
       "0               8.0              13.0  \n",
       "1               8.0              13.0  \n",
       "\n",
       "[2 rows x 23 columns]"
      ]
     },
     "execution_count": 432,
     "metadata": {},
     "output_type": "execute_result"
    }
   ],
   "source": [
    "# merge retail with products on product_id\n",
    "retail = pd.merge(left=retail, right=products, on='product_id')\n",
    "retail.head(2)"
   ]
  },
  {
   "cell_type": "code",
   "execution_count": 437,
   "id": "f633bbde-8aae-4a7a-b8ed-98edaa048634",
   "metadata": {},
   "outputs": [
    {
     "data": {
      "text/plain": [
       "order_id                         0\n",
       "customer_id                      0\n",
       "order_purchase_timestamp         0\n",
       "order_approved_at                0\n",
       "order_delivered_timestamp        0\n",
       "order_estimated_delivery_date    0\n",
       "customer_zip_code_prefix         0\n",
       "customer_city                    0\n",
       "customer_state                   0\n",
       "payment_sequential               0\n",
       "payment_type                     0\n",
       "payment_installments             0\n",
       "payment_value                    0\n",
       "order_item_id                    0\n",
       "product_id                       0\n",
       "seller_id                        0\n",
       "price                            0\n",
       "shipping_charges                 0\n",
       "product_category_name            0\n",
       "product_weight_g                 0\n",
       "product_length_cm                0\n",
       "product_height_cm                0\n",
       "product_width_cm                 0\n",
       "dtype: int64"
      ]
     },
     "execution_count": 437,
     "metadata": {},
     "output_type": "execute_result"
    }
   ],
   "source": [
    "# Check null values in retail table\n",
    "retail.isna().sum()"
   ]
  },
  {
   "cell_type": "code",
   "execution_count": 438,
   "id": "6691fd2a-d0d2-44e0-8a18-51161df501d0",
   "metadata": {},
   "outputs": [
    {
     "name": "stdout",
     "output_type": "stream",
     "text": [
      "Records: 114992\n",
      "Features: 23\n"
     ]
    }
   ],
   "source": [
    "# check number of records and features in retail table\n",
    "print('Records: {}\\nFeatures: {}'.format(retail.shape[0], retail.shape[1]))"
   ]
  },
  {
   "cell_type": "code",
   "execution_count": 439,
   "id": "33ea4a45-be78-4705-a45c-de09f963cc09",
   "metadata": {
    "scrolled": true
   },
   "outputs": [
    {
     "name": "stdout",
     "output_type": "stream",
     "text": [
      "<class 'pandas.core.frame.DataFrame'>\n",
      "RangeIndex: 114992 entries, 0 to 114991\n",
      "Data columns (total 23 columns):\n",
      " #   Column                         Non-Null Count   Dtype         \n",
      "---  ------                         --------------   -----         \n",
      " 0   order_id                       114992 non-null  object        \n",
      " 1   customer_id                    114992 non-null  object        \n",
      " 2   order_purchase_timestamp       114992 non-null  datetime64[ns]\n",
      " 3   order_approved_at              114992 non-null  datetime64[ns]\n",
      " 4   order_delivered_timestamp      114992 non-null  datetime64[ns]\n",
      " 5   order_estimated_delivery_date  114992 non-null  datetime64[ns]\n",
      " 6   customer_zip_code_prefix       114992 non-null  int64         \n",
      " 7   customer_city                  114992 non-null  object        \n",
      " 8   customer_state                 114992 non-null  object        \n",
      " 9   payment_sequential             114992 non-null  int64         \n",
      " 10  payment_type                   114992 non-null  object        \n",
      " 11  payment_installments           114992 non-null  int64         \n",
      " 12  payment_value                  114992 non-null  float64       \n",
      " 13  order_item_id                  114992 non-null  int64         \n",
      " 14  product_id                     114992 non-null  object        \n",
      " 15  seller_id                      114992 non-null  object        \n",
      " 16  price                          114992 non-null  float64       \n",
      " 17  shipping_charges               114992 non-null  float64       \n",
      " 18  product_category_name          114992 non-null  object        \n",
      " 19  product_weight_g               114992 non-null  float64       \n",
      " 20  product_length_cm              114992 non-null  float64       \n",
      " 21  product_height_cm              114992 non-null  float64       \n",
      " 22  product_width_cm               114992 non-null  float64       \n",
      "dtypes: datetime64[ns](4), float64(7), int64(4), object(8)\n",
      "memory usage: 20.2+ MB\n"
     ]
    }
   ],
   "source": [
    "# Look at basic information of retail table\n",
    "retail.info()"
   ]
  },
  {
   "cell_type": "code",
   "execution_count": 445,
   "id": "68b00b30-4c26-4477-ae76-c6233e015955",
   "metadata": {},
   "outputs": [
    {
     "data": {
      "text/html": [
       "<div>\n",
       "<style scoped>\n",
       "    .dataframe tbody tr th:only-of-type {\n",
       "        vertical-align: middle;\n",
       "    }\n",
       "\n",
       "    .dataframe tbody tr th {\n",
       "        vertical-align: top;\n",
       "    }\n",
       "\n",
       "    .dataframe thead th {\n",
       "        text-align: right;\n",
       "    }\n",
       "</style>\n",
       "<table border=\"1\" class=\"dataframe\">\n",
       "  <thead>\n",
       "    <tr style=\"text-align: right;\">\n",
       "      <th></th>\n",
       "      <th>order_id</th>\n",
       "      <th>payment_sequential</th>\n",
       "      <th>payment_value</th>\n",
       "      <th>price</th>\n",
       "      <th>shipping_charges</th>\n",
       "    </tr>\n",
       "  </thead>\n",
       "  <tbody>\n",
       "    <tr>\n",
       "      <th>0</th>\n",
       "      <td>e481f51cbdc54678b7cc49136f2d6af7</td>\n",
       "      <td>1</td>\n",
       "      <td>18.12</td>\n",
       "      <td>29.99</td>\n",
       "      <td>8.72</td>\n",
       "    </tr>\n",
       "    <tr>\n",
       "      <th>1</th>\n",
       "      <td>e481f51cbdc54678b7cc49136f2d6af7</td>\n",
       "      <td>3</td>\n",
       "      <td>2.00</td>\n",
       "      <td>29.99</td>\n",
       "      <td>8.72</td>\n",
       "    </tr>\n",
       "    <tr>\n",
       "      <th>2</th>\n",
       "      <td>e481f51cbdc54678b7cc49136f2d6af7</td>\n",
       "      <td>2</td>\n",
       "      <td>18.59</td>\n",
       "      <td>29.99</td>\n",
       "      <td>8.72</td>\n",
       "    </tr>\n",
       "    <tr>\n",
       "      <th>3</th>\n",
       "      <td>53cdb2fc8bc7dce0b6741e2150273451</td>\n",
       "      <td>1</td>\n",
       "      <td>141.46</td>\n",
       "      <td>118.70</td>\n",
       "      <td>22.76</td>\n",
       "    </tr>\n",
       "    <tr>\n",
       "      <th>4</th>\n",
       "      <td>47770eb9100c2d0c44946d9cf07ec65d</td>\n",
       "      <td>1</td>\n",
       "      <td>179.12</td>\n",
       "      <td>159.90</td>\n",
       "      <td>19.22</td>\n",
       "    </tr>\n",
       "    <tr>\n",
       "      <th>...</th>\n",
       "      <td>...</td>\n",
       "      <td>...</td>\n",
       "      <td>...</td>\n",
       "      <td>...</td>\n",
       "      <td>...</td>\n",
       "    </tr>\n",
       "    <tr>\n",
       "      <th>114987</th>\n",
       "      <td>63943bddc261676b46f01ca7ac2f7bd8</td>\n",
       "      <td>1</td>\n",
       "      <td>195.00</td>\n",
       "      <td>174.90</td>\n",
       "      <td>20.10</td>\n",
       "    </tr>\n",
       "    <tr>\n",
       "      <th>114988</th>\n",
       "      <td>83c1379a015df1e13d02aae0204711ab</td>\n",
       "      <td>1</td>\n",
       "      <td>271.01</td>\n",
       "      <td>205.99</td>\n",
       "      <td>65.02</td>\n",
       "    </tr>\n",
       "    <tr>\n",
       "      <th>114989</th>\n",
       "      <td>11c177c8e97725db2631073c19f07b62</td>\n",
       "      <td>1</td>\n",
       "      <td>441.16</td>\n",
       "      <td>179.99</td>\n",
       "      <td>40.59</td>\n",
       "    </tr>\n",
       "    <tr>\n",
       "      <th>114990</th>\n",
       "      <td>11c177c8e97725db2631073c19f07b62</td>\n",
       "      <td>1</td>\n",
       "      <td>441.16</td>\n",
       "      <td>179.99</td>\n",
       "      <td>40.59</td>\n",
       "    </tr>\n",
       "    <tr>\n",
       "      <th>114991</th>\n",
       "      <td>66dea50a8b16d9b4dee7af250b4be1a5</td>\n",
       "      <td>1</td>\n",
       "      <td>86.86</td>\n",
       "      <td>68.50</td>\n",
       "      <td>18.36</td>\n",
       "    </tr>\n",
       "  </tbody>\n",
       "</table>\n",
       "<p>114992 rows × 5 columns</p>\n",
       "</div>"
      ],
      "text/plain": [
       "                                order_id  payment_sequential  payment_value  \\\n",
       "0       e481f51cbdc54678b7cc49136f2d6af7                   1          18.12   \n",
       "1       e481f51cbdc54678b7cc49136f2d6af7                   3           2.00   \n",
       "2       e481f51cbdc54678b7cc49136f2d6af7                   2          18.59   \n",
       "3       53cdb2fc8bc7dce0b6741e2150273451                   1         141.46   \n",
       "4       47770eb9100c2d0c44946d9cf07ec65d                   1         179.12   \n",
       "...                                  ...                 ...            ...   \n",
       "114987  63943bddc261676b46f01ca7ac2f7bd8                   1         195.00   \n",
       "114988  83c1379a015df1e13d02aae0204711ab                   1         271.01   \n",
       "114989  11c177c8e97725db2631073c19f07b62                   1         441.16   \n",
       "114990  11c177c8e97725db2631073c19f07b62                   1         441.16   \n",
       "114991  66dea50a8b16d9b4dee7af250b4be1a5                   1          86.86   \n",
       "\n",
       "         price  shipping_charges  \n",
       "0        29.99              8.72  \n",
       "1        29.99              8.72  \n",
       "2        29.99              8.72  \n",
       "3       118.70             22.76  \n",
       "4       159.90             19.22  \n",
       "...        ...               ...  \n",
       "114987  174.90             20.10  \n",
       "114988  205.99             65.02  \n",
       "114989  179.99             40.59  \n",
       "114990  179.99             40.59  \n",
       "114991   68.50             18.36  \n",
       "\n",
       "[114992 rows x 5 columns]"
      ]
     },
     "execution_count": 445,
     "metadata": {},
     "output_type": "execute_result"
    }
   ],
   "source": [
    "# Look deeper to check sum of all payment_value against an order_id = price + shipping_charges for that order_id\n",
    "retail[['order_id', 'payment_sequential', 'payment_value', 'price', 'shipping_charges']]"
   ]
  },
  {
   "cell_type": "code",
   "execution_count": 441,
   "id": "704172b5-3ca6-42f1-a793-314b5e77dc91",
   "metadata": {},
   "outputs": [
    {
     "data": {
      "text/html": [
       "<div>\n",
       "<style scoped>\n",
       "    .dataframe tbody tr th:only-of-type {\n",
       "        vertical-align: middle;\n",
       "    }\n",
       "\n",
       "    .dataframe tbody tr th {\n",
       "        vertical-align: top;\n",
       "    }\n",
       "\n",
       "    .dataframe thead th {\n",
       "        text-align: right;\n",
       "    }\n",
       "</style>\n",
       "<table border=\"1\" class=\"dataframe\">\n",
       "  <thead>\n",
       "    <tr style=\"text-align: right;\">\n",
       "      <th></th>\n",
       "      <th>payment_value</th>\n",
       "      <th>price</th>\n",
       "      <th>shipping_charges</th>\n",
       "    </tr>\n",
       "  </thead>\n",
       "  <tbody>\n",
       "    <tr>\n",
       "      <th>count</th>\n",
       "      <td>114992.000000</td>\n",
       "      <td>114992.000000</td>\n",
       "      <td>114992.000000</td>\n",
       "    </tr>\n",
       "    <tr>\n",
       "      <th>mean</th>\n",
       "      <td>171.922615</td>\n",
       "      <td>120.080998</td>\n",
       "      <td>19.996801</td>\n",
       "    </tr>\n",
       "    <tr>\n",
       "      <th>std</th>\n",
       "      <td>266.098128</td>\n",
       "      <td>182.977025</td>\n",
       "      <td>15.745760</td>\n",
       "    </tr>\n",
       "    <tr>\n",
       "      <th>min</th>\n",
       "      <td>0.000000</td>\n",
       "      <td>0.850000</td>\n",
       "      <td>0.000000</td>\n",
       "    </tr>\n",
       "    <tr>\n",
       "      <th>25%</th>\n",
       "      <td>60.860000</td>\n",
       "      <td>39.900000</td>\n",
       "      <td>13.080000</td>\n",
       "    </tr>\n",
       "    <tr>\n",
       "      <th>50%</th>\n",
       "      <td>108.190000</td>\n",
       "      <td>74.900000</td>\n",
       "      <td>16.290000</td>\n",
       "    </tr>\n",
       "    <tr>\n",
       "      <th>75%</th>\n",
       "      <td>188.940000</td>\n",
       "      <td>133.000000</td>\n",
       "      <td>21.180000</td>\n",
       "    </tr>\n",
       "    <tr>\n",
       "      <th>max</th>\n",
       "      <td>13664.080000</td>\n",
       "      <td>6735.000000</td>\n",
       "      <td>409.680000</td>\n",
       "    </tr>\n",
       "  </tbody>\n",
       "</table>\n",
       "</div>"
      ],
      "text/plain": [
       "       payment_value          price  shipping_charges\n",
       "count  114992.000000  114992.000000     114992.000000\n",
       "mean      171.922615     120.080998         19.996801\n",
       "std       266.098128     182.977025         15.745760\n",
       "min         0.000000       0.850000          0.000000\n",
       "25%        60.860000      39.900000         13.080000\n",
       "50%       108.190000      74.900000         16.290000\n",
       "75%       188.940000     133.000000         21.180000\n",
       "max     13664.080000    6735.000000        409.680000"
      ]
     },
     "execution_count": 441,
     "metadata": {},
     "output_type": "execute_result"
    }
   ],
   "source": [
    "# Look at basic numerical statistics of relevant columns in retail table\n",
    "# retail.describe(include=['int64', 'float64'])\n",
    "retail[['payment_value', 'price', 'shipping_charges']].describe()"
   ]
  },
  {
   "cell_type": "markdown",
   "id": "507b929a-289d-4252-9890-45d919f4a210",
   "metadata": {
    "jp-MarkdownHeadingCollapsed": true
   },
   "source": [
    "## 3. Filter for only 'delivered' orders"
   ]
  },
  {
   "cell_type": "code",
   "execution_count": 396,
   "id": "fa020bf5-bdcb-4e4f-a8ae-8ed1edc4fa0a",
   "metadata": {},
   "outputs": [],
   "source": [
    "# This is already done separately in orders table before merging all tables"
   ]
  },
  {
   "cell_type": "markdown",
   "id": "a12c0828-6494-4f9b-8c6c-63dff19f096a",
   "metadata": {
    "jp-MarkdownHeadingCollapsed": true
   },
   "source": [
    "## 4. Understand the data (Shape, Data types, High level Statistics/Distribution, Unique Values etc)"
   ]
  },
  {
   "cell_type": "code",
   "execution_count": 397,
   "id": "dfe2c7c0-4d41-447e-ac86-cf5125643c4c",
   "metadata": {},
   "outputs": [],
   "source": [
    "# indivisual tables have been looked at for the basic info, numeric stats and unique quality of primary keys"
   ]
  },
  {
   "cell_type": "markdown",
   "id": "318e2a1e-99e8-49fd-9eb0-e6f1ac59ce04",
   "metadata": {
    "jp-MarkdownHeadingCollapsed": true
   },
   "source": [
    "## 5. Clean the dataset for Missing values, Duplicate values, Outliers and Consistencies"
   ]
  },
  {
   "cell_type": "code",
   "execution_count": 398,
   "id": "40e6216d-7079-47bb-8cc5-c150f7a59254",
   "metadata": {},
   "outputs": [],
   "source": [
    "# missing and duplicate values are already treated separately in all tables.\n",
    "# consistency w.r.t primary key(s) is also checked in tables separately."
   ]
  },
  {
   "cell_type": "code",
   "execution_count": 399,
   "id": "e70afaab-9e93-43ed-a700-dab7487fca49",
   "metadata": {},
   "outputs": [],
   "source": [
    "# Outliers can be checked and treated in the merged dataset."
   ]
  },
  {
   "cell_type": "code",
   "execution_count": null,
   "id": "f276a19a-8750-4b9b-9e4c-fe334ebebceb",
   "metadata": {},
   "outputs": [],
   "source": []
  },
  {
   "cell_type": "markdown",
   "id": "e4eb11db-4de5-40a9-843b-1f06e09d6583",
   "metadata": {
    "jp-MarkdownHeadingCollapsed": true
   },
   "source": [
    "## 6. Analyze the data: Univariate, Bivariate, Multivariate, Business specific"
   ]
  },
  {
   "cell_type": "code",
   "execution_count": null,
   "id": "da5879ba-ec16-481e-a9b8-5afc3c916ca8",
   "metadata": {},
   "outputs": [],
   "source": []
  },
  {
   "cell_type": "code",
   "execution_count": null,
   "id": "f65a92cc-08a6-4d8a-b57b-27e6332c2af2",
   "metadata": {},
   "outputs": [],
   "source": []
  },
  {
   "cell_type": "code",
   "execution_count": null,
   "id": "0a46cf1c-3382-4f95-9281-f30c296f258e",
   "metadata": {},
   "outputs": [],
   "source": []
  },
  {
   "cell_type": "markdown",
   "id": "3e20508f-333b-409a-91f7-7a54cdcad3a9",
   "metadata": {
    "jp-MarkdownHeadingCollapsed": true
   },
   "source": [
    "## 7. Document Insights"
   ]
  },
  {
   "cell_type": "code",
   "execution_count": 400,
   "id": "da36665d-7861-41e1-885b-74bbdeb3a907",
   "metadata": {},
   "outputs": [],
   "source": [
    "# Insights/Observations for different tables are documented at various relevant stages."
   ]
  },
  {
   "cell_type": "code",
   "execution_count": null,
   "id": "5c41839c-5002-4bc0-916f-3691c38e27bb",
   "metadata": {},
   "outputs": [],
   "source": []
  },
  {
   "cell_type": "markdown",
   "id": "42a7d03a-ba1c-46cd-b01c-6115d7643f57",
   "metadata": {},
   "source": [
    "## 8. Export cleaned/preprocessed dataset for Tableau Visualization & Dashboarding"
   ]
  },
  {
   "cell_type": "code",
   "execution_count": 447,
   "id": "eabe326b-0bb7-4dac-b3fc-3991810a52a4",
   "metadata": {},
   "outputs": [],
   "source": [
    "retail.to_excel(excel_writer='retail_preprocessed.xlsx', sheet_name='Cleaned_Table', freeze_panes=(1,1), index=False)"
   ]
  },
  {
   "cell_type": "code",
   "execution_count": null,
   "id": "e2019c50-daf6-4d45-9b94-574882f5c418",
   "metadata": {},
   "outputs": [],
   "source": []
  },
  {
   "cell_type": "code",
   "execution_count": null,
   "id": "4caadece-a8ba-4fc7-beda-c9916b930412",
   "metadata": {},
   "outputs": [],
   "source": []
  },
  {
   "cell_type": "markdown",
   "id": "a4ea1d92-b05f-419e-8e94-e5b5c4dc2558",
   "metadata": {
    "jp-MarkdownHeadingCollapsed": true
   },
   "source": [
    "## Extra Hints"
   ]
  },
  {
   "cell_type": "code",
   "execution_count": 124,
   "id": "073c7119-0456-4c98-8e5a-550b0b94e2b4",
   "metadata": {},
   "outputs": [
    {
     "data": {
      "text/html": [
       "<div>\n",
       "<style scoped>\n",
       "    .dataframe tbody tr th:only-of-type {\n",
       "        vertical-align: middle;\n",
       "    }\n",
       "\n",
       "    .dataframe tbody tr th {\n",
       "        vertical-align: top;\n",
       "    }\n",
       "\n",
       "    .dataframe thead th {\n",
       "        text-align: right;\n",
       "    }\n",
       "</style>\n",
       "<table border=\"1\" class=\"dataframe\">\n",
       "  <thead>\n",
       "    <tr style=\"text-align: right;\">\n",
       "      <th></th>\n",
       "      <th>order_id</th>\n",
       "      <th>customer_id</th>\n",
       "      <th>order_purchase_timestamp</th>\n",
       "      <th>order_approved_at</th>\n",
       "      <th>order_delivered_timestamp</th>\n",
       "      <th>order_estimated_delivery_date</th>\n",
       "      <th>customer_zip_code_prefix</th>\n",
       "      <th>customer_city</th>\n",
       "      <th>customer_state</th>\n",
       "      <th>payment_sequential</th>\n",
       "      <th>...</th>\n",
       "      <th>order_item_id</th>\n",
       "      <th>product_id</th>\n",
       "      <th>seller_id</th>\n",
       "      <th>price</th>\n",
       "      <th>shipping_charges</th>\n",
       "      <th>product_category_name</th>\n",
       "      <th>product_weight_g</th>\n",
       "      <th>product_length_cm</th>\n",
       "      <th>product_height_cm</th>\n",
       "      <th>product_width_cm</th>\n",
       "    </tr>\n",
       "  </thead>\n",
       "  <tbody>\n",
       "    <tr>\n",
       "      <th>535</th>\n",
       "      <td>45ed6e85398a87c253db47c2d9f48216</td>\n",
       "      <td>e4000306cf2f63714e6bb70dd20a6592</td>\n",
       "      <td>2017-06-08 21:18:45</td>\n",
       "      <td>2017-06-08 21:30:18</td>\n",
       "      <td>2017-06-22 17:44:53</td>\n",
       "      <td>2017-07-10</td>\n",
       "      <td>74595</td>\n",
       "      <td>goiania</td>\n",
       "      <td>GO</td>\n",
       "      <td>3</td>\n",
       "      <td>...</td>\n",
       "      <td>1</td>\n",
       "      <td>75d6b6963340c6063f7f4cfcccfe6a30</td>\n",
       "      <td>cc419e0650a3c5ba77189a1882b7556a</td>\n",
       "      <td>56.99</td>\n",
       "      <td>14.15</td>\n",
       "      <td>toys</td>\n",
       "      <td>400.0</td>\n",
       "      <td>18.0</td>\n",
       "      <td>11.0</td>\n",
       "      <td>20.0</td>\n",
       "    </tr>\n",
       "    <tr>\n",
       "      <th>40583</th>\n",
       "      <td>6ccb433e00daae1283ccc956189c82ae</td>\n",
       "      <td>677ad9cdca6c47c733f0cc6e23d7bb4c</td>\n",
       "      <td>2017-10-26 23:51:35</td>\n",
       "      <td>2017-10-27 00:46:58</td>\n",
       "      <td>2017-11-08 18:47:00</td>\n",
       "      <td>2017-11-22</td>\n",
       "      <td>25625</td>\n",
       "      <td>petropolis</td>\n",
       "      <td>RJ</td>\n",
       "      <td>4</td>\n",
       "      <td>...</td>\n",
       "      <td>1</td>\n",
       "      <td>2ee4be9805f228255a38a6f9b03fff1a</td>\n",
       "      <td>da20530872245d6cd9d2f5725613c430</td>\n",
       "      <td>94.00</td>\n",
       "      <td>28.04</td>\n",
       "      <td>toys</td>\n",
       "      <td>3300.0</td>\n",
       "      <td>22.0</td>\n",
       "      <td>22.0</td>\n",
       "      <td>22.0</td>\n",
       "    </tr>\n",
       "    <tr>\n",
       "      <th>107156</th>\n",
       "      <td>b23878b3e8eb4d25a158f57d96331b18</td>\n",
       "      <td>9077449283dc1319d5e51fb3159b28e2</td>\n",
       "      <td>2017-05-27 19:20:24</td>\n",
       "      <td>2017-05-27 19:35:17</td>\n",
       "      <td>2017-06-07 08:53:10</td>\n",
       "      <td>2017-06-29</td>\n",
       "      <td>29230</td>\n",
       "      <td>anchieta</td>\n",
       "      <td>ES</td>\n",
       "      <td>4</td>\n",
       "      <td>...</td>\n",
       "      <td>1</td>\n",
       "      <td>e306ca54c91b21392317d5b4632c9fe3</td>\n",
       "      <td>e49c26c3edfa46d227d5121a6b6e4d37</td>\n",
       "      <td>135.30</td>\n",
       "      <td>36.27</td>\n",
       "      <td>consoles_games</td>\n",
       "      <td>700.0</td>\n",
       "      <td>26.0</td>\n",
       "      <td>12.0</td>\n",
       "      <td>18.0</td>\n",
       "    </tr>\n",
       "    <tr>\n",
       "      <th>107160</th>\n",
       "      <td>b23878b3e8eb4d25a158f57d96331b18</td>\n",
       "      <td>9077449283dc1319d5e51fb3159b28e2</td>\n",
       "      <td>2017-05-27 19:20:24</td>\n",
       "      <td>2017-05-27 19:35:17</td>\n",
       "      <td>2017-06-07 08:53:10</td>\n",
       "      <td>2017-06-29</td>\n",
       "      <td>29230</td>\n",
       "      <td>anchieta</td>\n",
       "      <td>ES</td>\n",
       "      <td>4</td>\n",
       "      <td>...</td>\n",
       "      <td>1</td>\n",
       "      <td>e306ca54c91b21392317d5b4632c9fe3</td>\n",
       "      <td>e49c26c3edfa46d227d5121a6b6e4d37</td>\n",
       "      <td>135.30</td>\n",
       "      <td>36.27</td>\n",
       "      <td>consoles_games</td>\n",
       "      <td>700.0</td>\n",
       "      <td>26.0</td>\n",
       "      <td>12.0</td>\n",
       "      <td>18.0</td>\n",
       "    </tr>\n",
       "    <tr>\n",
       "      <th>107164</th>\n",
       "      <td>b23878b3e8eb4d25a158f57d96331b18</td>\n",
       "      <td>9077449283dc1319d5e51fb3159b28e2</td>\n",
       "      <td>2017-05-27 19:20:24</td>\n",
       "      <td>2017-05-27 19:35:17</td>\n",
       "      <td>2017-06-07 08:53:10</td>\n",
       "      <td>2017-06-29</td>\n",
       "      <td>29230</td>\n",
       "      <td>anchieta</td>\n",
       "      <td>ES</td>\n",
       "      <td>4</td>\n",
       "      <td>...</td>\n",
       "      <td>1</td>\n",
       "      <td>e306ca54c91b21392317d5b4632c9fe3</td>\n",
       "      <td>e49c26c3edfa46d227d5121a6b6e4d37</td>\n",
       "      <td>135.30</td>\n",
       "      <td>36.27</td>\n",
       "      <td>consoles_games</td>\n",
       "      <td>700.0</td>\n",
       "      <td>26.0</td>\n",
       "      <td>12.0</td>\n",
       "      <td>18.0</td>\n",
       "    </tr>\n",
       "    <tr>\n",
       "      <th>121210</th>\n",
       "      <td>8bcbe01d44d147f901cd3192671144db</td>\n",
       "      <td>cc5aa1b8337e394da54980226bb0f6d4</td>\n",
       "      <td>2018-01-24 23:24:14</td>\n",
       "      <td>2018-01-24 23:37:20</td>\n",
       "      <td>2018-02-02 21:26:42</td>\n",
       "      <td>2018-02-21</td>\n",
       "      <td>21040</td>\n",
       "      <td>rio de janeiro</td>\n",
       "      <td>RJ</td>\n",
       "      <td>4</td>\n",
       "      <td>...</td>\n",
       "      <td>1</td>\n",
       "      <td>85d4c1a46f08f730de651ea6f6645313</td>\n",
       "      <td>3d871de0142ce09b7081e2b9d1733cb1</td>\n",
       "      <td>59.00</td>\n",
       "      <td>15.16</td>\n",
       "      <td>toys</td>\n",
       "      <td>500.0</td>\n",
       "      <td>20.0</td>\n",
       "      <td>30.0</td>\n",
       "      <td>20.0</td>\n",
       "    </tr>\n",
       "  </tbody>\n",
       "</table>\n",
       "<p>6 rows × 23 columns</p>\n",
       "</div>"
      ],
      "text/plain": [
       "                                order_id                       customer_id  \\\n",
       "535     45ed6e85398a87c253db47c2d9f48216  e4000306cf2f63714e6bb70dd20a6592   \n",
       "40583   6ccb433e00daae1283ccc956189c82ae  677ad9cdca6c47c733f0cc6e23d7bb4c   \n",
       "107156  b23878b3e8eb4d25a158f57d96331b18  9077449283dc1319d5e51fb3159b28e2   \n",
       "107160  b23878b3e8eb4d25a158f57d96331b18  9077449283dc1319d5e51fb3159b28e2   \n",
       "107164  b23878b3e8eb4d25a158f57d96331b18  9077449283dc1319d5e51fb3159b28e2   \n",
       "121210  8bcbe01d44d147f901cd3192671144db  cc5aa1b8337e394da54980226bb0f6d4   \n",
       "\n",
       "       order_purchase_timestamp   order_approved_at order_delivered_timestamp  \\\n",
       "535         2017-06-08 21:18:45 2017-06-08 21:30:18       2017-06-22 17:44:53   \n",
       "40583       2017-10-26 23:51:35 2017-10-27 00:46:58       2017-11-08 18:47:00   \n",
       "107156      2017-05-27 19:20:24 2017-05-27 19:35:17       2017-06-07 08:53:10   \n",
       "107160      2017-05-27 19:20:24 2017-05-27 19:35:17       2017-06-07 08:53:10   \n",
       "107164      2017-05-27 19:20:24 2017-05-27 19:35:17       2017-06-07 08:53:10   \n",
       "121210      2018-01-24 23:24:14 2018-01-24 23:37:20       2018-02-02 21:26:42   \n",
       "\n",
       "       order_estimated_delivery_date  customer_zip_code_prefix  \\\n",
       "535                       2017-07-10                     74595   \n",
       "40583                     2017-11-22                     25625   \n",
       "107156                    2017-06-29                     29230   \n",
       "107160                    2017-06-29                     29230   \n",
       "107164                    2017-06-29                     29230   \n",
       "121210                    2018-02-21                     21040   \n",
       "\n",
       "         customer_city customer_state  payment_sequential  ... order_item_id  \\\n",
       "535            goiania             GO                   3  ...             1   \n",
       "40583       petropolis             RJ                   4  ...             1   \n",
       "107156        anchieta             ES                   4  ...             1   \n",
       "107160        anchieta             ES                   4  ...             1   \n",
       "107164        anchieta             ES                   4  ...             1   \n",
       "121210  rio de janeiro             RJ                   4  ...             1   \n",
       "\n",
       "                              product_id                         seller_id  \\\n",
       "535     75d6b6963340c6063f7f4cfcccfe6a30  cc419e0650a3c5ba77189a1882b7556a   \n",
       "40583   2ee4be9805f228255a38a6f9b03fff1a  da20530872245d6cd9d2f5725613c430   \n",
       "107156  e306ca54c91b21392317d5b4632c9fe3  e49c26c3edfa46d227d5121a6b6e4d37   \n",
       "107160  e306ca54c91b21392317d5b4632c9fe3  e49c26c3edfa46d227d5121a6b6e4d37   \n",
       "107164  e306ca54c91b21392317d5b4632c9fe3  e49c26c3edfa46d227d5121a6b6e4d37   \n",
       "121210  85d4c1a46f08f730de651ea6f6645313  3d871de0142ce09b7081e2b9d1733cb1   \n",
       "\n",
       "         price shipping_charges product_category_name  product_weight_g  \\\n",
       "535      56.99            14.15                  toys             400.0   \n",
       "40583    94.00            28.04                  toys            3300.0   \n",
       "107156  135.30            36.27        consoles_games             700.0   \n",
       "107160  135.30            36.27        consoles_games             700.0   \n",
       "107164  135.30            36.27        consoles_games             700.0   \n",
       "121210   59.00            15.16                  toys             500.0   \n",
       "\n",
       "        product_length_cm product_height_cm  product_width_cm  \n",
       "535                  18.0              11.0              20.0  \n",
       "40583                22.0              22.0              22.0  \n",
       "107156               26.0              12.0              18.0  \n",
       "107160               26.0              12.0              18.0  \n",
       "107164               26.0              12.0              18.0  \n",
       "121210               20.0              30.0              20.0  \n",
       "\n",
       "[6 rows x 23 columns]"
      ]
     },
     "execution_count": 124,
     "metadata": {},
     "output_type": "execute_result"
    }
   ],
   "source": [
    "retail.loc[retail.payment_value==float(0)]"
   ]
  },
  {
   "cell_type": "code",
   "execution_count": 128,
   "id": "cc75a0fc-79f6-4db3-a80a-9f21729bf298",
   "metadata": {},
   "outputs": [
    {
     "data": {
      "text/html": [
       "<div>\n",
       "<style scoped>\n",
       "    .dataframe tbody tr th:only-of-type {\n",
       "        vertical-align: middle;\n",
       "    }\n",
       "\n",
       "    .dataframe tbody tr th {\n",
       "        vertical-align: top;\n",
       "    }\n",
       "\n",
       "    .dataframe thead th {\n",
       "        text-align: right;\n",
       "    }\n",
       "</style>\n",
       "<table border=\"1\" class=\"dataframe\">\n",
       "  <thead>\n",
       "    <tr style=\"text-align: right;\">\n",
       "      <th></th>\n",
       "      <th>order_id</th>\n",
       "      <th>customer_id</th>\n",
       "      <th>order_purchase_timestamp</th>\n",
       "      <th>order_approved_at</th>\n",
       "      <th>order_delivered_timestamp</th>\n",
       "      <th>order_estimated_delivery_date</th>\n",
       "      <th>customer_zip_code_prefix</th>\n",
       "      <th>customer_city</th>\n",
       "      <th>customer_state</th>\n",
       "      <th>payment_sequential</th>\n",
       "      <th>...</th>\n",
       "      <th>order_item_id</th>\n",
       "      <th>product_id</th>\n",
       "      <th>seller_id</th>\n",
       "      <th>price</th>\n",
       "      <th>shipping_charges</th>\n",
       "      <th>product_category_name</th>\n",
       "      <th>product_weight_g</th>\n",
       "      <th>product_length_cm</th>\n",
       "      <th>product_height_cm</th>\n",
       "      <th>product_width_cm</th>\n",
       "    </tr>\n",
       "  </thead>\n",
       "  <tbody>\n",
       "    <tr>\n",
       "      <th>6409</th>\n",
       "      <td>06afc1144eb9f51ef2aa90ec9223c7f4</td>\n",
       "      <td>eb8ba0e91b822fefb8d7f0243881647d</td>\n",
       "      <td>2018-08-15 17:13:07</td>\n",
       "      <td>2018-08-15 17:25:20</td>\n",
       "      <td>2018-08-24 22:54:42</td>\n",
       "      <td>2018-09-20</td>\n",
       "      <td>89930</td>\n",
       "      <td>sao jose do cedro</td>\n",
       "      <td>SC</td>\n",
       "      <td>1</td>\n",
       "      <td>...</td>\n",
       "      <td>1</td>\n",
       "      <td>e673e90efa65a5409ff4196c038bb5af</td>\n",
       "      <td>b39d7fe263ef469605dbb32608aee0af</td>\n",
       "      <td>129.9</td>\n",
       "      <td>23.71</td>\n",
       "      <td>toys</td>\n",
       "      <td>0.0</td>\n",
       "      <td>30.0</td>\n",
       "      <td>25.0</td>\n",
       "      <td>30.0</td>\n",
       "    </tr>\n",
       "    <tr>\n",
       "      <th>6410</th>\n",
       "      <td>06afc1144eb9f51ef2aa90ec9223c7f4</td>\n",
       "      <td>eb8ba0e91b822fefb8d7f0243881647d</td>\n",
       "      <td>2018-08-15 17:13:07</td>\n",
       "      <td>2018-08-15 17:25:20</td>\n",
       "      <td>2018-08-24 22:54:42</td>\n",
       "      <td>2018-09-20</td>\n",
       "      <td>89930</td>\n",
       "      <td>sao jose do cedro</td>\n",
       "      <td>SC</td>\n",
       "      <td>1</td>\n",
       "      <td>...</td>\n",
       "      <td>2</td>\n",
       "      <td>e673e90efa65a5409ff4196c038bb5af</td>\n",
       "      <td>b39d7fe263ef469605dbb32608aee0af</td>\n",
       "      <td>129.9</td>\n",
       "      <td>23.71</td>\n",
       "      <td>toys</td>\n",
       "      <td>0.0</td>\n",
       "      <td>30.0</td>\n",
       "      <td>25.0</td>\n",
       "      <td>30.0</td>\n",
       "    </tr>\n",
       "    <tr>\n",
       "      <th>16025</th>\n",
       "      <td>4abc7b5330425bcf9c2f7f48151a88c0</td>\n",
       "      <td>93b52b7591ca73fc44cdac70146a1b0d</td>\n",
       "      <td>2018-07-31 21:05:49</td>\n",
       "      <td>2018-07-31 21:40:18</td>\n",
       "      <td>2018-08-07 23:56:48</td>\n",
       "      <td>2018-08-17</td>\n",
       "      <td>4904</td>\n",
       "      <td>sao paulo</td>\n",
       "      <td>SP</td>\n",
       "      <td>1</td>\n",
       "      <td>...</td>\n",
       "      <td>1</td>\n",
       "      <td>8038040ee2a71048d4bdbbdc985b69ab</td>\n",
       "      <td>b39d7fe263ef469605dbb32608aee0af</td>\n",
       "      <td>129.9</td>\n",
       "      <td>14.49</td>\n",
       "      <td>toys</td>\n",
       "      <td>0.0</td>\n",
       "      <td>30.0</td>\n",
       "      <td>25.0</td>\n",
       "      <td>30.0</td>\n",
       "    </tr>\n",
       "    <tr>\n",
       "      <th>49186</th>\n",
       "      <td>200b121c28e10ef638131a7c76753327</td>\n",
       "      <td>7e518b9896c26844bf24c1802c7d8775</td>\n",
       "      <td>2018-08-04 15:55:59</td>\n",
       "      <td>2018-08-04 16:10:16</td>\n",
       "      <td>2018-08-23 18:21:59</td>\n",
       "      <td>2018-08-30</td>\n",
       "      <td>75830</td>\n",
       "      <td>mineiros</td>\n",
       "      <td>GO</td>\n",
       "      <td>1</td>\n",
       "      <td>...</td>\n",
       "      <td>1</td>\n",
       "      <td>81781c0fed9fe1ad6e8c81fca1e1cb08</td>\n",
       "      <td>b39d7fe263ef469605dbb32608aee0af</td>\n",
       "      <td>100.0</td>\n",
       "      <td>19.89</td>\n",
       "      <td>toys</td>\n",
       "      <td>0.0</td>\n",
       "      <td>30.0</td>\n",
       "      <td>25.0</td>\n",
       "      <td>30.0</td>\n",
       "    </tr>\n",
       "    <tr>\n",
       "      <th>81412</th>\n",
       "      <td>476b812a7e4fc972646eb390517bddcb</td>\n",
       "      <td>387207b587c829c6678a03c8b711ae1e</td>\n",
       "      <td>2018-08-18 11:09:12</td>\n",
       "      <td>2018-08-18 11:30:54</td>\n",
       "      <td>2018-08-30 16:56:44</td>\n",
       "      <td>2018-09-12</td>\n",
       "      <td>72911</td>\n",
       "      <td>aguas lindas de goias</td>\n",
       "      <td>GO</td>\n",
       "      <td>1</td>\n",
       "      <td>...</td>\n",
       "      <td>1</td>\n",
       "      <td>e673e90efa65a5409ff4196c038bb5af</td>\n",
       "      <td>b39d7fe263ef469605dbb32608aee0af</td>\n",
       "      <td>129.9</td>\n",
       "      <td>23.71</td>\n",
       "      <td>toys</td>\n",
       "      <td>0.0</td>\n",
       "      <td>30.0</td>\n",
       "      <td>25.0</td>\n",
       "      <td>30.0</td>\n",
       "    </tr>\n",
       "    <tr>\n",
       "      <th>114365</th>\n",
       "      <td>b489f7ae130ba3fd26b0a20f8cc81c61</td>\n",
       "      <td>aaa0fa0d6f239f72e8067326c6a134fa</td>\n",
       "      <td>2018-08-18 20:37:22</td>\n",
       "      <td>2018-08-18 20:49:57</td>\n",
       "      <td>2018-08-27 14:52:02</td>\n",
       "      <td>2018-09-04</td>\n",
       "      <td>96360</td>\n",
       "      <td>pedro osorio</td>\n",
       "      <td>RS</td>\n",
       "      <td>1</td>\n",
       "      <td>...</td>\n",
       "      <td>1</td>\n",
       "      <td>e673e90efa65a5409ff4196c038bb5af</td>\n",
       "      <td>b39d7fe263ef469605dbb32608aee0af</td>\n",
       "      <td>129.9</td>\n",
       "      <td>23.71</td>\n",
       "      <td>toys</td>\n",
       "      <td>0.0</td>\n",
       "      <td>30.0</td>\n",
       "      <td>25.0</td>\n",
       "      <td>30.0</td>\n",
       "    </tr>\n",
       "    <tr>\n",
       "      <th>122586</th>\n",
       "      <td>06d9e69034388abf6da64378e10737b8</td>\n",
       "      <td>7dff353845a1d77a928dcb952c6bc966</td>\n",
       "      <td>2018-07-30 10:42:40</td>\n",
       "      <td>2018-07-31 09:10:11</td>\n",
       "      <td>2018-08-09 22:18:29</td>\n",
       "      <td>2018-09-10</td>\n",
       "      <td>45653</td>\n",
       "      <td>ilheus</td>\n",
       "      <td>BA</td>\n",
       "      <td>1</td>\n",
       "      <td>...</td>\n",
       "      <td>1</td>\n",
       "      <td>36ba42dd187055e1fbe943b2d11430ca</td>\n",
       "      <td>b39d7fe263ef469605dbb32608aee0af</td>\n",
       "      <td>100.0</td>\n",
       "      <td>23.85</td>\n",
       "      <td>toys</td>\n",
       "      <td>0.0</td>\n",
       "      <td>30.0</td>\n",
       "      <td>25.0</td>\n",
       "      <td>30.0</td>\n",
       "    </tr>\n",
       "    <tr>\n",
       "      <th>122587</th>\n",
       "      <td>06d9e69034388abf6da64378e10737b8</td>\n",
       "      <td>7dff353845a1d77a928dcb952c6bc966</td>\n",
       "      <td>2018-07-30 10:42:40</td>\n",
       "      <td>2018-07-31 09:10:11</td>\n",
       "      <td>2018-08-09 22:18:29</td>\n",
       "      <td>2018-09-10</td>\n",
       "      <td>45653</td>\n",
       "      <td>ilheus</td>\n",
       "      <td>BA</td>\n",
       "      <td>1</td>\n",
       "      <td>...</td>\n",
       "      <td>2</td>\n",
       "      <td>36ba42dd187055e1fbe943b2d11430ca</td>\n",
       "      <td>b39d7fe263ef469605dbb32608aee0af</td>\n",
       "      <td>100.0</td>\n",
       "      <td>23.85</td>\n",
       "      <td>toys</td>\n",
       "      <td>0.0</td>\n",
       "      <td>30.0</td>\n",
       "      <td>25.0</td>\n",
       "      <td>30.0</td>\n",
       "    </tr>\n",
       "  </tbody>\n",
       "</table>\n",
       "<p>8 rows × 23 columns</p>\n",
       "</div>"
      ],
      "text/plain": [
       "                                order_id                       customer_id  \\\n",
       "6409    06afc1144eb9f51ef2aa90ec9223c7f4  eb8ba0e91b822fefb8d7f0243881647d   \n",
       "6410    06afc1144eb9f51ef2aa90ec9223c7f4  eb8ba0e91b822fefb8d7f0243881647d   \n",
       "16025   4abc7b5330425bcf9c2f7f48151a88c0  93b52b7591ca73fc44cdac70146a1b0d   \n",
       "49186   200b121c28e10ef638131a7c76753327  7e518b9896c26844bf24c1802c7d8775   \n",
       "81412   476b812a7e4fc972646eb390517bddcb  387207b587c829c6678a03c8b711ae1e   \n",
       "114365  b489f7ae130ba3fd26b0a20f8cc81c61  aaa0fa0d6f239f72e8067326c6a134fa   \n",
       "122586  06d9e69034388abf6da64378e10737b8  7dff353845a1d77a928dcb952c6bc966   \n",
       "122587  06d9e69034388abf6da64378e10737b8  7dff353845a1d77a928dcb952c6bc966   \n",
       "\n",
       "       order_purchase_timestamp   order_approved_at order_delivered_timestamp  \\\n",
       "6409        2018-08-15 17:13:07 2018-08-15 17:25:20       2018-08-24 22:54:42   \n",
       "6410        2018-08-15 17:13:07 2018-08-15 17:25:20       2018-08-24 22:54:42   \n",
       "16025       2018-07-31 21:05:49 2018-07-31 21:40:18       2018-08-07 23:56:48   \n",
       "49186       2018-08-04 15:55:59 2018-08-04 16:10:16       2018-08-23 18:21:59   \n",
       "81412       2018-08-18 11:09:12 2018-08-18 11:30:54       2018-08-30 16:56:44   \n",
       "114365      2018-08-18 20:37:22 2018-08-18 20:49:57       2018-08-27 14:52:02   \n",
       "122586      2018-07-30 10:42:40 2018-07-31 09:10:11       2018-08-09 22:18:29   \n",
       "122587      2018-07-30 10:42:40 2018-07-31 09:10:11       2018-08-09 22:18:29   \n",
       "\n",
       "       order_estimated_delivery_date  customer_zip_code_prefix  \\\n",
       "6409                      2018-09-20                     89930   \n",
       "6410                      2018-09-20                     89930   \n",
       "16025                     2018-08-17                      4904   \n",
       "49186                     2018-08-30                     75830   \n",
       "81412                     2018-09-12                     72911   \n",
       "114365                    2018-09-04                     96360   \n",
       "122586                    2018-09-10                     45653   \n",
       "122587                    2018-09-10                     45653   \n",
       "\n",
       "                customer_city customer_state  payment_sequential  ...  \\\n",
       "6409        sao jose do cedro             SC                   1  ...   \n",
       "6410        sao jose do cedro             SC                   1  ...   \n",
       "16025               sao paulo             SP                   1  ...   \n",
       "49186                mineiros             GO                   1  ...   \n",
       "81412   aguas lindas de goias             GO                   1  ...   \n",
       "114365           pedro osorio             RS                   1  ...   \n",
       "122586                 ilheus             BA                   1  ...   \n",
       "122587                 ilheus             BA                   1  ...   \n",
       "\n",
       "       order_item_id                        product_id  \\\n",
       "6409               1  e673e90efa65a5409ff4196c038bb5af   \n",
       "6410               2  e673e90efa65a5409ff4196c038bb5af   \n",
       "16025              1  8038040ee2a71048d4bdbbdc985b69ab   \n",
       "49186              1  81781c0fed9fe1ad6e8c81fca1e1cb08   \n",
       "81412              1  e673e90efa65a5409ff4196c038bb5af   \n",
       "114365             1  e673e90efa65a5409ff4196c038bb5af   \n",
       "122586             1  36ba42dd187055e1fbe943b2d11430ca   \n",
       "122587             2  36ba42dd187055e1fbe943b2d11430ca   \n",
       "\n",
       "                               seller_id  price shipping_charges  \\\n",
       "6409    b39d7fe263ef469605dbb32608aee0af  129.9            23.71   \n",
       "6410    b39d7fe263ef469605dbb32608aee0af  129.9            23.71   \n",
       "16025   b39d7fe263ef469605dbb32608aee0af  129.9            14.49   \n",
       "49186   b39d7fe263ef469605dbb32608aee0af  100.0            19.89   \n",
       "81412   b39d7fe263ef469605dbb32608aee0af  129.9            23.71   \n",
       "114365  b39d7fe263ef469605dbb32608aee0af  129.9            23.71   \n",
       "122586  b39d7fe263ef469605dbb32608aee0af  100.0            23.85   \n",
       "122587  b39d7fe263ef469605dbb32608aee0af  100.0            23.85   \n",
       "\n",
       "       product_category_name  product_weight_g  product_length_cm  \\\n",
       "6409                    toys               0.0               30.0   \n",
       "6410                    toys               0.0               30.0   \n",
       "16025                   toys               0.0               30.0   \n",
       "49186                   toys               0.0               30.0   \n",
       "81412                   toys               0.0               30.0   \n",
       "114365                  toys               0.0               30.0   \n",
       "122586                  toys               0.0               30.0   \n",
       "122587                  toys               0.0               30.0   \n",
       "\n",
       "       product_height_cm  product_width_cm  \n",
       "6409                25.0              30.0  \n",
       "6410                25.0              30.0  \n",
       "16025               25.0              30.0  \n",
       "49186               25.0              30.0  \n",
       "81412               25.0              30.0  \n",
       "114365              25.0              30.0  \n",
       "122586              25.0              30.0  \n",
       "122587              25.0              30.0  \n",
       "\n",
       "[8 rows x 23 columns]"
      ]
     },
     "execution_count": 128,
     "metadata": {},
     "output_type": "execute_result"
    }
   ],
   "source": [
    "retail.loc[retail.product_weight_g==float(0)]"
   ]
  }
 ],
 "metadata": {
  "kernelspec": {
   "display_name": "Python 3 (ipykernel)",
   "language": "python",
   "name": "python3"
  },
  "language_info": {
   "codemirror_mode": {
    "name": "ipython",
    "version": 3
   },
   "file_extension": ".py",
   "mimetype": "text/x-python",
   "name": "python",
   "nbconvert_exporter": "python",
   "pygments_lexer": "ipython3",
   "version": "3.12.4"
  }
 },
 "nbformat": 4,
 "nbformat_minor": 5
}

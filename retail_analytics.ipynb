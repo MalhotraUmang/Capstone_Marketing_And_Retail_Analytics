{
 "cells": [
  {
   "cell_type": "markdown",
   "id": "ee48c2a6-327e-4dde-848a-1ed4f52cf2a5",
   "metadata": {},
   "source": [
    "# **Capstone: Marketing and Retail Analytics**\n",
    "\n",
    "## *Background and Problem Statement:*\n",
    "OList, an e-commerce company has faced some losses recently and they want to reduce any unnecessary inventory costs. <br>\n",
    "\n",
    "To manage the inventory cost of the company OList, it is required to <br> \n",
    "- identify top products contributing to the revenue, <br> \n",
    "- identify items that are more likely to be purchased individually or in combination with some other products, <br> \n",
    "- identify the items in various product categories which they can get rid of without significantly impacting business. <br>\n",
    "\n",
    "### Disclaimers: <br>\n",
    "- Only the cases having order status as 'delivered' are considered. <br>\n",
    "- EDA is performed to treat outliers and missing values carefully before making any inferences from the dataset. <br>\n",
    "\n",
    "### Important Aspects for Problem Solving:\n",
    "1. 80-20 Rule of Pareto Analysis: 20% of items sold might be generating 80% revenue.\n",
    "2. Ideal Category Depth: Category Depth indicates variations of a product the company is offering.\n",
    "3. Products Sold more than others: Product Combinations sold more often.\n",
    "4. Reduce Inventory: Bring down number of Items in various Categories not significant for the company."
   ]
  },
  {
   "attachments": {
    "0405bc43-c4e0-4e2b-91f4-70f5aed4586d.jpg": {
     "image/jpeg": "[encoded data removed]"
    }
   },
   "cell_type": "markdown",
   "id": "b10114d9-6125-41ca-9a16-b5c050fea5d3",
   "metadata": {
    "jp-MarkdownHeadingCollapsed": true
   },
   "source": [
    "### Retail Dataset ERD\n",
    "\n",
    "This is how the various tables in the dataset are associated with each other.\n",
    "\n",
    "![Retail_dataset_ERD.jpg](attachment:0405bc43-c4e0-4e2b-91f4-70f5aed4586d.jpg)"
   ]
  },
  {
   "cell_type": "markdown",
   "id": "002955e1-281b-41f7-bc10-c6b53c7789b0",
   "metadata": {},
   "source": [
    "## Import required libraries"
   ]
  },
  {
   "cell_type": "code",
   "execution_count": 1,
   "id": "c6aab6bc-f456-4bd6-970a-afac166403fa",
   "metadata": {},
   "outputs": [],
   "source": [
    "# libaries for numerical operations and handling dataframes\n",
    "import numpy as np, pandas as pd\n",
    "\n",
    "# libraries to plot various graphs for data analysis\n",
    "import matplotlib.pyplot as plt, seaborn as sns\n",
    "\n",
    "# For Market Basket Analysis\n",
    "from mlxtend.frequent_patterns import apriori, association_rules"
   ]
  },
  {
   "cell_type": "markdown",
   "id": "06f1e93d-cfd7-4e12-954e-db8bab2db42f",
   "metadata": {
    "jp-MarkdownHeadingCollapsed": true
   },
   "source": [
    "## Read the dataset\n",
    "1. orders\n",
    "2. order_items\n",
    "3. customers\n",
    "4. payments\n",
    "5. products"
   ]
  },
  {
   "cell_type": "markdown",
   "id": "9a855411-8f97-4e06-95dd-ecb716f6e775",
   "metadata": {
    "jp-MarkdownHeadingCollapsed": true
   },
   "source": [
    "### orders"
   ]
  },
  {
   "cell_type": "code",
   "execution_count": 2,
   "id": "b97a0afb-a4a3-4ce9-ac57-03e1791eb4a8",
   "metadata": {},
   "outputs": [],
   "source": [
    "# read orders table from the retail dataset\n",
    "orders = pd.read_excel('Retail_dataset.xlsx', sheet_name='orders')"
   ]
  },
  {
   "cell_type": "code",
   "execution_count": 3,
   "id": "f83ecffe-4620-4c66-aeaf-6c7534e8c2b3",
   "metadata": {},
   "outputs": [],
   "source": [
    "# Only the 'delivered' orders need to be considered according to the problem statement\n",
    "orders = orders[orders.order_status == 'delivered']"
   ]
  },
  {
   "cell_type": "code",
   "execution_count": 4,
   "id": "463d50c1-02c2-48e6-9203-fca4543fdbe8",
   "metadata": {},
   "outputs": [],
   "source": [
    "# drop order_status column as it is no more relevant, while re-adjusting the index\n",
    "orders.drop(columns=['order_status'], axis=1, inplace=True)\n",
    "orders.reset_index(drop=True, inplace=True)"
   ]
  },
  {
   "cell_type": "code",
   "execution_count": 5,
   "id": "39c488a5-942d-4881-a80a-5b67cc382c65",
   "metadata": {},
   "outputs": [
    {
     "name": "stdout",
     "output_type": "stream",
     "text": [
      "<class 'pandas.core.frame.DataFrame'>\n",
      "RangeIndex: 96478 entries, 0 to 96477\n",
      "Data columns (total 6 columns):\n",
      " #   Column                         Non-Null Count  Dtype         \n",
      "---  ------                         --------------  -----         \n",
      " 0   order_id                       96478 non-null  object        \n",
      " 1   customer_id                    96478 non-null  object        \n",
      " 2   order_purchase_timestamp       96478 non-null  datetime64[ns]\n",
      " 3   order_approved_at              96464 non-null  datetime64[ns]\n",
      " 4   order_delivered_timestamp      96470 non-null  datetime64[ns]\n",
      " 5   order_estimated_delivery_date  96478 non-null  datetime64[ns]\n",
      "dtypes: datetime64[ns](4), object(2)\n",
      "memory usage: 4.4+ MB\n"
     ]
    }
   ],
   "source": [
    "# Look at basic information of orders table\n",
    "orders.info()"
   ]
  },
  {
   "cell_type": "code",
   "execution_count": 6,
   "id": "189f470e-4782-4697-b30b-8d1f5c6d9de1",
   "metadata": {},
   "outputs": [],
   "source": [
    "# Observations:\n",
    "# 1. The order_id and customer_id columns have object datatype which seems correct.\n",
    "# 2. The timestamp related columns have datetime64[ns] datatype which also seems fine.\n",
    "# 3. There are two timestamp columns with some null values."
   ]
  },
  {
   "cell_type": "code",
   "execution_count": 7,
   "id": "0d99a831-0117-4791-b519-a9890da48932",
   "metadata": {},
   "outputs": [],
   "source": [
    "# Look at basic numerical statistics of orders table\n",
    "# Only numeric columns are datetime columns, and dates statistics is not relevant\n",
    "# orders.describe()"
   ]
  },
  {
   "cell_type": "code",
   "execution_count": 8,
   "id": "ebfda81e-8f78-4e41-bd51-339209ea164b",
   "metadata": {},
   "outputs": [
    {
     "data": {
      "text/plain": [
       "order_id                         0.000000\n",
       "customer_id                      0.000000\n",
       "order_purchase_timestamp         0.000000\n",
       "order_approved_at                0.002419\n",
       "order_delivered_timestamp        0.001382\n",
       "order_estimated_delivery_date    0.000000\n",
       "dtype: float64"
      ]
     },
     "execution_count": 8,
     "metadata": {},
     "output_type": "execute_result"
    }
   ],
   "source": [
    "# Check null values percentage in orders table\n",
    "(orders.isna().sum() / orders.size) * 100"
   ]
  },
  {
   "cell_type": "code",
   "execution_count": 9,
   "id": "6bccbf9a-6559-4ba5-9ebb-e1fdc14776d6",
   "metadata": {},
   "outputs": [
    {
     "name": "stdout",
     "output_type": "stream",
     "text": [
      "Orders Approved Before Purchase:  0\n",
      "Orders Approved with   Purchase:  66849\n",
      "Orders Approved After  Purchase:  29615\n"
     ]
    }
   ],
   "source": [
    "# How many orders are approved before purchase, on same day or later than purchased\n",
    "print('Orders Approved Before Purchase: ', (orders[orders.order_approved_at.dt.date<orders.order_purchase_timestamp.dt.date]).shape[0])\n",
    "print('Orders Approved with   Purchase: ', (orders[orders.order_approved_at.dt.date==orders.order_purchase_timestamp.dt.date]).shape[0])\n",
    "print('Orders Approved After  Purchase: ', (orders[orders.order_approved_at.dt.date>orders.order_purchase_timestamp.dt.date]).shape[0])"
   ]
  },
  {
   "cell_type": "code",
   "execution_count": 10,
   "id": "490bd88e-f87a-4fee-a14e-96353cc7dd84",
   "metadata": {},
   "outputs": [],
   "source": [
    "# Most of the orders were Purchased and Approved on same date\n",
    "# Null values can be adjusted accordingly.\n",
    "orders.order_approved_at.fillna(value=orders.order_purchase_timestamp, inplace=True)"
   ]
  },
  {
   "cell_type": "code",
   "execution_count": 11,
   "id": "8c80c4e3-28bc-459f-950e-7b244ae7c821",
   "metadata": {},
   "outputs": [
    {
     "data": {
      "text/plain": [
       "order_id                         0.000000\n",
       "customer_id                      0.000000\n",
       "order_purchase_timestamp         0.000000\n",
       "order_approved_at                0.000000\n",
       "order_delivered_timestamp        0.001382\n",
       "order_estimated_delivery_date    0.000000\n",
       "dtype: float64"
      ]
     },
     "execution_count": 11,
     "metadata": {},
     "output_type": "execute_result"
    }
   ],
   "source": [
    "# Check null values percentage in orders table\n",
    "(orders.isna().sum() / orders.size) * 100"
   ]
  },
  {
   "cell_type": "code",
   "execution_count": 12,
   "id": "e4091a15-0d36-475e-94e9-2437269ce6ae",
   "metadata": {},
   "outputs": [
    {
     "data": {
      "text/html": [
       "<div>\n",
       "<style scoped>\n",
       "    .dataframe tbody tr th:only-of-type {\n",
       "        vertical-align: middle;\n",
       "    }\n",
       "\n",
       "    .dataframe tbody tr th {\n",
       "        vertical-align: top;\n",
       "    }\n",
       "\n",
       "    .dataframe thead th {\n",
       "        text-align: right;\n",
       "    }\n",
       "</style>\n",
       "<table border=\"1\" class=\"dataframe\">\n",
       "  <thead>\n",
       "    <tr style=\"text-align: right;\">\n",
       "      <th></th>\n",
       "      <th>order_id</th>\n",
       "      <th>customer_id</th>\n",
       "      <th>order_purchase_timestamp</th>\n",
       "      <th>order_approved_at</th>\n",
       "      <th>order_delivered_timestamp</th>\n",
       "      <th>order_estimated_delivery_date</th>\n",
       "    </tr>\n",
       "  </thead>\n",
       "  <tbody>\n",
       "    <tr>\n",
       "      <th>2921</th>\n",
       "      <td>2d1e2d5bf4dc7227b3bfebb81328c15f</td>\n",
       "      <td>13467e882eb3a701826435ee4424f2bd</td>\n",
       "      <td>2017-11-28 17:44:07</td>\n",
       "      <td>2017-11-28 17:56:40</td>\n",
       "      <td>NaT</td>\n",
       "      <td>2017-12-18</td>\n",
       "    </tr>\n",
       "    <tr>\n",
       "      <th>20021</th>\n",
       "      <td>f5dd62b788049ad9fc0526e3ad11a097</td>\n",
       "      <td>2f17c5b324ad603491521b279a9ff4de</td>\n",
       "      <td>2018-06-20 06:58:43</td>\n",
       "      <td>2018-06-20 07:19:05</td>\n",
       "      <td>NaT</td>\n",
       "      <td>2018-07-16</td>\n",
       "    </tr>\n",
       "    <tr>\n",
       "      <th>42530</th>\n",
       "      <td>2ebdfc4f15f23b91474edf87475f108e</td>\n",
       "      <td>1bd06a0c0df8b23dacfd3725d2dc0bb9</td>\n",
       "      <td>2018-07-01 17:05:11</td>\n",
       "      <td>2018-07-01 17:15:12</td>\n",
       "      <td>NaT</td>\n",
       "      <td>2018-07-30</td>\n",
       "    </tr>\n",
       "    <tr>\n",
       "      <th>76909</th>\n",
       "      <td>e69f75a717d64fc5ecdfae42b2e8e086</td>\n",
       "      <td>3bc508d482a402715be4d5cf4020cc81</td>\n",
       "      <td>2018-07-01 22:05:55</td>\n",
       "      <td>2018-07-01 22:15:14</td>\n",
       "      <td>NaT</td>\n",
       "      <td>2018-07-30</td>\n",
       "    </tr>\n",
       "    <tr>\n",
       "      <th>80392</th>\n",
       "      <td>0d3268bad9b086af767785e3f0fc0133</td>\n",
       "      <td>ebf7e0d43a78c81991a4c59c145c75db</td>\n",
       "      <td>2018-07-01 21:14:02</td>\n",
       "      <td>2018-07-01 21:29:54</td>\n",
       "      <td>NaT</td>\n",
       "      <td>2018-07-24</td>\n",
       "    </tr>\n",
       "    <tr>\n",
       "      <th>89883</th>\n",
       "      <td>2d858f451373b04fb5c984a1cc2defaf</td>\n",
       "      <td>d77cf4be2654aa70ef150f8bfec076a6</td>\n",
       "      <td>2017-05-25 23:22:43</td>\n",
       "      <td>2017-05-25 23:30:16</td>\n",
       "      <td>NaT</td>\n",
       "      <td>2017-06-23</td>\n",
       "    </tr>\n",
       "    <tr>\n",
       "      <th>94731</th>\n",
       "      <td>ab7c89dc1bf4a1ead9d6ec1ec8968a84</td>\n",
       "      <td>cce5e8188bf42ffb3bb5b18ff58f5965</td>\n",
       "      <td>2018-06-08 12:09:39</td>\n",
       "      <td>2018-06-08 12:36:39</td>\n",
       "      <td>NaT</td>\n",
       "      <td>2018-06-26</td>\n",
       "    </tr>\n",
       "    <tr>\n",
       "      <th>95117</th>\n",
       "      <td>20edc82cf5400ce95e1afacc25798b31</td>\n",
       "      <td>175378436e2978be55b8f4316bce4811</td>\n",
       "      <td>2018-06-27 16:09:12</td>\n",
       "      <td>2018-06-27 16:29:30</td>\n",
       "      <td>NaT</td>\n",
       "      <td>2018-07-19</td>\n",
       "    </tr>\n",
       "  </tbody>\n",
       "</table>\n",
       "</div>"
      ],
      "text/plain": [
       "                               order_id                       customer_id  \\\n",
       "2921   2d1e2d5bf4dc7227b3bfebb81328c15f  13467e882eb3a701826435ee4424f2bd   \n",
       "20021  f5dd62b788049ad9fc0526e3ad11a097  2f17c5b324ad603491521b279a9ff4de   \n",
       "42530  2ebdfc4f15f23b91474edf87475f108e  1bd06a0c0df8b23dacfd3725d2dc0bb9   \n",
       "76909  e69f75a717d64fc5ecdfae42b2e8e086  3bc508d482a402715be4d5cf4020cc81   \n",
       "80392  0d3268bad9b086af767785e3f0fc0133  ebf7e0d43a78c81991a4c59c145c75db   \n",
       "89883  2d858f451373b04fb5c984a1cc2defaf  d77cf4be2654aa70ef150f8bfec076a6   \n",
       "94731  ab7c89dc1bf4a1ead9d6ec1ec8968a84  cce5e8188bf42ffb3bb5b18ff58f5965   \n",
       "95117  20edc82cf5400ce95e1afacc25798b31  175378436e2978be55b8f4316bce4811   \n",
       "\n",
       "      order_purchase_timestamp   order_approved_at order_delivered_timestamp  \\\n",
       "2921       2017-11-28 17:44:07 2017-11-28 17:56:40                       NaT   \n",
       "20021      2018-06-20 06:58:43 2018-06-20 07:19:05                       NaT   \n",
       "42530      2018-07-01 17:05:11 2018-07-01 17:15:12                       NaT   \n",
       "76909      2018-07-01 22:05:55 2018-07-01 22:15:14                       NaT   \n",
       "80392      2018-07-01 21:14:02 2018-07-01 21:29:54                       NaT   \n",
       "89883      2017-05-25 23:22:43 2017-05-25 23:30:16                       NaT   \n",
       "94731      2018-06-08 12:09:39 2018-06-08 12:36:39                       NaT   \n",
       "95117      2018-06-27 16:09:12 2018-06-27 16:29:30                       NaT   \n",
       "\n",
       "      order_estimated_delivery_date  \n",
       "2921                     2017-12-18  \n",
       "20021                    2018-07-16  \n",
       "42530                    2018-07-30  \n",
       "76909                    2018-07-30  \n",
       "80392                    2018-07-24  \n",
       "89883                    2017-06-23  \n",
       "94731                    2018-06-26  \n",
       "95117                    2018-07-19  "
      ]
     },
     "execution_count": 12,
     "metadata": {},
     "output_type": "execute_result"
    }
   ],
   "source": [
    "# Records with missing order_delivered_timestamp\n",
    "orders[orders.order_delivered_timestamp.isna()]"
   ]
  },
  {
   "cell_type": "code",
   "execution_count": 13,
   "id": "d247d87d-f7df-4e72-a543-df20fddecc1d",
   "metadata": {},
   "outputs": [
    {
     "name": "stdout",
     "output_type": "stream",
     "text": [
      "Orders Delivered Before Estimate:  88644\n",
      "Orders Delivered as per Estimate:  1292\n",
      "Orders Delivered After  Estimate:  6534\n"
     ]
    }
   ],
   "source": [
    "# How many orders were Delivered before, on or after the Estimated date\n",
    "print('Orders Delivered Before Estimate: ', (orders[orders.order_delivered_timestamp.dt.date<orders.order_estimated_delivery_date.dt.date]).shape[0])\n",
    "print('Orders Delivered as per Estimate: ', (orders[orders.order_delivered_timestamp.dt.date==orders.order_estimated_delivery_date.dt.date]).shape[0])\n",
    "print('Orders Delivered After  Estimate: ', (orders[orders.order_delivered_timestamp.dt.date>orders.order_estimated_delivery_date.dt.date]).shape[0])"
   ]
  },
  {
   "cell_type": "code",
   "execution_count": 14,
   "id": "cdf8b255-1547-4b18-8ef7-2e0fe30132c6",
   "metadata": {},
   "outputs": [],
   "source": [
    "# How many orders were Delievered at least 1 day prior to the Estimation date\n",
    "# orders[((orders['order_estimated_delivery_date'] - orders['order_delivered_timestamp']) / np.timedelta64(1, 'D')) >= 1].shape[0]"
   ]
  },
  {
   "cell_type": "code",
   "execution_count": 15,
   "id": "c4824366-49b4-4de5-838a-8b6602231145",
   "metadata": {},
   "outputs": [],
   "source": [
    "# Most of the orders were Delivered before Estimated date\n",
    "# Null values can be adjusted accordingly.\n",
    "orders.order_delivered_timestamp.fillna(value=orders.order_estimated_delivery_date+pd.DateOffset(days=1), inplace=True)"
   ]
  },
  {
   "cell_type": "code",
   "execution_count": 16,
   "id": "339200cc-ac40-4cdd-9dff-c77d0b8f5ed1",
   "metadata": {},
   "outputs": [
    {
     "data": {
      "text/html": [
       "<div>\n",
       "<style scoped>\n",
       "    .dataframe tbody tr th:only-of-type {\n",
       "        vertical-align: middle;\n",
       "    }\n",
       "\n",
       "    .dataframe tbody tr th {\n",
       "        vertical-align: top;\n",
       "    }\n",
       "\n",
       "    .dataframe thead th {\n",
       "        text-align: right;\n",
       "    }\n",
       "</style>\n",
       "<table border=\"1\" class=\"dataframe\">\n",
       "  <thead>\n",
       "    <tr style=\"text-align: right;\">\n",
       "      <th></th>\n",
       "      <th>order_delivered_timestamp</th>\n",
       "      <th>order_estimated_delivery_date</th>\n",
       "    </tr>\n",
       "  </thead>\n",
       "  <tbody>\n",
       "    <tr>\n",
       "      <th>2921</th>\n",
       "      <td>2017-12-19</td>\n",
       "      <td>2017-12-18</td>\n",
       "    </tr>\n",
       "    <tr>\n",
       "      <th>20021</th>\n",
       "      <td>2018-07-17</td>\n",
       "      <td>2018-07-16</td>\n",
       "    </tr>\n",
       "    <tr>\n",
       "      <th>42530</th>\n",
       "      <td>2018-07-31</td>\n",
       "      <td>2018-07-30</td>\n",
       "    </tr>\n",
       "    <tr>\n",
       "      <th>76909</th>\n",
       "      <td>2018-07-31</td>\n",
       "      <td>2018-07-30</td>\n",
       "    </tr>\n",
       "    <tr>\n",
       "      <th>80392</th>\n",
       "      <td>2018-07-25</td>\n",
       "      <td>2018-07-24</td>\n",
       "    </tr>\n",
       "    <tr>\n",
       "      <th>89883</th>\n",
       "      <td>2017-06-24</td>\n",
       "      <td>2017-06-23</td>\n",
       "    </tr>\n",
       "    <tr>\n",
       "      <th>94731</th>\n",
       "      <td>2018-06-27</td>\n",
       "      <td>2018-06-26</td>\n",
       "    </tr>\n",
       "    <tr>\n",
       "      <th>95117</th>\n",
       "      <td>2018-07-20</td>\n",
       "      <td>2018-07-19</td>\n",
       "    </tr>\n",
       "  </tbody>\n",
       "</table>\n",
       "</div>"
      ],
      "text/plain": [
       "      order_delivered_timestamp order_estimated_delivery_date\n",
       "2921                 2017-12-19                    2017-12-18\n",
       "20021                2018-07-17                    2018-07-16\n",
       "42530                2018-07-31                    2018-07-30\n",
       "76909                2018-07-31                    2018-07-30\n",
       "80392                2018-07-25                    2018-07-24\n",
       "89883                2017-06-24                    2017-06-23\n",
       "94731                2018-06-27                    2018-06-26\n",
       "95117                2018-07-20                    2018-07-19"
      ]
     },
     "execution_count": 16,
     "metadata": {},
     "output_type": "execute_result"
    }
   ],
   "source": [
    "# Orders Deliever Timestamp null values treated?\n",
    "orders.iloc[[2921, 20021, 42530, 76909, 80392, 89883, 94731, 95117], [orders.columns.get_loc('order_delivered_timestamp'), orders.columns.get_loc('order_estimated_delivery_date')]]"
   ]
  },
  {
   "cell_type": "code",
   "execution_count": 17,
   "id": "82009902-2d77-446d-8d93-b2e07f465240",
   "metadata": {},
   "outputs": [],
   "source": [
    "# Null values in delievery timestamp columns are treated"
   ]
  },
  {
   "cell_type": "code",
   "execution_count": 18,
   "id": "5f79ea30-28ee-473b-9c2d-852667e3b32a",
   "metadata": {},
   "outputs": [
    {
     "data": {
      "text/plain": [
       "order_id                         0\n",
       "customer_id                      0\n",
       "order_purchase_timestamp         0\n",
       "order_approved_at                0\n",
       "order_delivered_timestamp        0\n",
       "order_estimated_delivery_date    0\n",
       "dtype: int64"
      ]
     },
     "execution_count": 18,
     "metadata": {},
     "output_type": "execute_result"
    }
   ],
   "source": [
    "# Check null values in orders table, after treating null value records in 2 columns\n",
    "orders.isna().sum()"
   ]
  },
  {
   "cell_type": "code",
   "execution_count": 19,
   "id": "9950e567-c83a-4713-96a8-71de4b78eac8",
   "metadata": {},
   "outputs": [
    {
     "name": "stdout",
     "output_type": "stream",
     "text": [
      "Records: 96478\n",
      "Features: 6\n"
     ]
    }
   ],
   "source": [
    "# check number of records and features in orders table, after treating null values in 2 columns\n",
    "print('Records: {}\\nFeatures: {}'.format(orders.shape[0], orders.shape[1]))"
   ]
  },
  {
   "cell_type": "code",
   "execution_count": 20,
   "id": "8064c8dd-f8de-41da-af0a-d16c516efef8",
   "metadata": {},
   "outputs": [],
   "source": [
    "###############################################################################"
   ]
  },
  {
   "cell_type": "markdown",
   "id": "d355517b-7bca-4870-b98e-fe89b42a151a",
   "metadata": {
    "jp-MarkdownHeadingCollapsed": true
   },
   "source": [
    "### order_items"
   ]
  },
  {
   "cell_type": "code",
   "execution_count": 21,
   "id": "67f962c9-1161-4285-b7fc-a9bb1e62b63c",
   "metadata": {},
   "outputs": [],
   "source": [
    "# read order_items table from the retail dataset\n",
    "items = pd.read_excel('Retail_dataset.xlsx', sheet_name='order_items')"
   ]
  },
  {
   "cell_type": "code",
   "execution_count": 22,
   "id": "67bb1a69-7e74-4f98-841f-75138bbb05f6",
   "metadata": {},
   "outputs": [
    {
     "name": "stdout",
     "output_type": "stream",
     "text": [
      "<class 'pandas.core.frame.DataFrame'>\n",
      "RangeIndex: 112650 entries, 0 to 112649\n",
      "Data columns (total 6 columns):\n",
      " #   Column            Non-Null Count   Dtype  \n",
      "---  ------            --------------   -----  \n",
      " 0   order_id          112650 non-null  object \n",
      " 1   order_item_id     112650 non-null  int64  \n",
      " 2   product_id        112650 non-null  object \n",
      " 3   seller_id         112650 non-null  object \n",
      " 4   price             112650 non-null  float64\n",
      " 5   shipping_charges  112650 non-null  float64\n",
      "dtypes: float64(2), int64(1), object(3)\n",
      "memory usage: 5.2+ MB\n"
     ]
    }
   ],
   "source": [
    "# Look at basic information of items table\n",
    "items.info()"
   ]
  },
  {
   "cell_type": "code",
   "execution_count": 23,
   "id": "9eb3a4c2-3b1b-4e95-b8f0-b7d6ba79d9a0",
   "metadata": {},
   "outputs": [],
   "source": [
    "# Observations:\n",
    "# 1. The order_id, product_id and seller_id columns have object datatype which seems correct.\n",
    "# 2. The order_item_id column has integer datatype which is fine too.\n",
    "# 3. The price and shipping_charges columns have float datatype which is also correct.\n",
    "# 4. There are no columns with null values."
   ]
  },
  {
   "cell_type": "code",
   "execution_count": 24,
   "id": "36739417-63aa-43b9-87e4-6f673b76aa99",
   "metadata": {},
   "outputs": [
    {
     "data": {
      "text/html": [
       "<div>\n",
       "<style scoped>\n",
       "    .dataframe tbody tr th:only-of-type {\n",
       "        vertical-align: middle;\n",
       "    }\n",
       "\n",
       "    .dataframe tbody tr th {\n",
       "        vertical-align: top;\n",
       "    }\n",
       "\n",
       "    .dataframe thead th {\n",
       "        text-align: right;\n",
       "    }\n",
       "</style>\n",
       "<table border=\"1\" class=\"dataframe\">\n",
       "  <thead>\n",
       "    <tr style=\"text-align: right;\">\n",
       "      <th></th>\n",
       "      <th>order_item_id</th>\n",
       "      <th>price</th>\n",
       "      <th>shipping_charges</th>\n",
       "    </tr>\n",
       "  </thead>\n",
       "  <tbody>\n",
       "    <tr>\n",
       "      <th>count</th>\n",
       "      <td>112650.000000</td>\n",
       "      <td>112650.000000</td>\n",
       "      <td>112650.000000</td>\n",
       "    </tr>\n",
       "    <tr>\n",
       "      <th>mean</th>\n",
       "      <td>1.197834</td>\n",
       "      <td>120.653739</td>\n",
       "      <td>19.990320</td>\n",
       "    </tr>\n",
       "    <tr>\n",
       "      <th>std</th>\n",
       "      <td>0.705124</td>\n",
       "      <td>183.633928</td>\n",
       "      <td>15.806405</td>\n",
       "    </tr>\n",
       "    <tr>\n",
       "      <th>min</th>\n",
       "      <td>1.000000</td>\n",
       "      <td>0.850000</td>\n",
       "      <td>0.000000</td>\n",
       "    </tr>\n",
       "    <tr>\n",
       "      <th>50%</th>\n",
       "      <td>1.000000</td>\n",
       "      <td>74.990000</td>\n",
       "      <td>16.260000</td>\n",
       "    </tr>\n",
       "    <tr>\n",
       "      <th>75%</th>\n",
       "      <td>1.000000</td>\n",
       "      <td>134.900000</td>\n",
       "      <td>21.150000</td>\n",
       "    </tr>\n",
       "    <tr>\n",
       "      <th>80%</th>\n",
       "      <td>1.000000</td>\n",
       "      <td>150.000000</td>\n",
       "      <td>23.280000</td>\n",
       "    </tr>\n",
       "    <tr>\n",
       "      <th>85%</th>\n",
       "      <td>1.000000</td>\n",
       "      <td>179.990000</td>\n",
       "      <td>26.576500</td>\n",
       "    </tr>\n",
       "    <tr>\n",
       "      <th>90%</th>\n",
       "      <td>2.000000</td>\n",
       "      <td>229.800000</td>\n",
       "      <td>34.041000</td>\n",
       "    </tr>\n",
       "    <tr>\n",
       "      <th>95%</th>\n",
       "      <td>2.000000</td>\n",
       "      <td>349.900000</td>\n",
       "      <td>45.120000</td>\n",
       "    </tr>\n",
       "    <tr>\n",
       "      <th>99%</th>\n",
       "      <td>4.000000</td>\n",
       "      <td>890.000000</td>\n",
       "      <td>84.520000</td>\n",
       "    </tr>\n",
       "    <tr>\n",
       "      <th>max</th>\n",
       "      <td>21.000000</td>\n",
       "      <td>6735.000000</td>\n",
       "      <td>409.680000</td>\n",
       "    </tr>\n",
       "  </tbody>\n",
       "</table>\n",
       "</div>"
      ],
      "text/plain": [
       "       order_item_id          price  shipping_charges\n",
       "count  112650.000000  112650.000000     112650.000000\n",
       "mean        1.197834     120.653739         19.990320\n",
       "std         0.705124     183.633928         15.806405\n",
       "min         1.000000       0.850000          0.000000\n",
       "50%         1.000000      74.990000         16.260000\n",
       "75%         1.000000     134.900000         21.150000\n",
       "80%         1.000000     150.000000         23.280000\n",
       "85%         1.000000     179.990000         26.576500\n",
       "90%         2.000000     229.800000         34.041000\n",
       "95%         2.000000     349.900000         45.120000\n",
       "99%         4.000000     890.000000         84.520000\n",
       "max        21.000000    6735.000000        409.680000"
      ]
     },
     "execution_count": 24,
     "metadata": {},
     "output_type": "execute_result"
    }
   ],
   "source": [
    "# Look at basic numerical statistics of items table\n",
    "items.describe(percentiles=[0.75, 0.8, 0.85, 0.9, 0.95, 0.99])"
   ]
  },
  {
   "cell_type": "code",
   "execution_count": 25,
   "id": "7f0d8d0a-a80f-4302-84a5-25bd19706760",
   "metadata": {},
   "outputs": [],
   "source": [
    "# Observations:\n",
    "# 1. There are order IDs with as many as 21 items ordered, which is a possible scenario.\n",
    "# 2. The shipping_charges is as low as 0, which is a possibility if a seller offers free shipping for some products.\n",
    "# 3. The price is going as high as 6735, which seems quite high compared to that in upto 99% of the cases.\n",
    "# 4. The shipping_charges is going as high as 409.68 which is quite high compared to that in upto 99% of the cases."
   ]
  },
  {
   "cell_type": "code",
   "execution_count": 26,
   "id": "b025446e-3bfb-4429-bb49-d21dc125f29e",
   "metadata": {},
   "outputs": [
    {
     "data": {
      "text/plain": [
       "order_id            0.0\n",
       "order_item_id       0.0\n",
       "product_id          0.0\n",
       "seller_id           0.0\n",
       "price               0.0\n",
       "shipping_charges    0.0\n",
       "dtype: float64"
      ]
     },
     "execution_count": 26,
     "metadata": {},
     "output_type": "execute_result"
    }
   ],
   "source": [
    "# Check null values in items table\n",
    "(items.isna().sum() / items.size) * 100"
   ]
  },
  {
   "cell_type": "code",
   "execution_count": 27,
   "id": "7c2f9a1d-c09e-4cf6-91b4-56feddc338cc",
   "metadata": {},
   "outputs": [
    {
     "name": "stdout",
     "output_type": "stream",
     "text": [
      "Records: 112650\n",
      "Features: 6\n"
     ]
    }
   ],
   "source": [
    "# check number of records and features in order_items table\n",
    "print('Records: {}\\nFeatures: {}'.format(items.shape[0], items.shape[1]))"
   ]
  },
  {
   "cell_type": "code",
   "execution_count": 28,
   "id": "6763fd64-c620-4fe4-84e4-761ebb8378e7",
   "metadata": {},
   "outputs": [],
   "source": [
    "###############################################################################"
   ]
  },
  {
   "cell_type": "markdown",
   "id": "6db852bc-d1e9-4640-9ff1-14dcbdb9451b",
   "metadata": {
    "jp-MarkdownHeadingCollapsed": true
   },
   "source": [
    "### customers"
   ]
  },
  {
   "cell_type": "code",
   "execution_count": 29,
   "id": "b4a5399c-2a2b-4014-a69d-46a2535ee073",
   "metadata": {},
   "outputs": [],
   "source": [
    "# read customers table from the retail dataset\n",
    "customers = pd.read_excel('Retail_dataset.xlsx', sheet_name='customers')"
   ]
  },
  {
   "cell_type": "code",
   "execution_count": 30,
   "id": "dbe7ade8-ec97-4574-b338-8e89637d01d1",
   "metadata": {},
   "outputs": [
    {
     "name": "stdout",
     "output_type": "stream",
     "text": [
      "<class 'pandas.core.frame.DataFrame'>\n",
      "RangeIndex: 99441 entries, 0 to 99440\n",
      "Data columns (total 4 columns):\n",
      " #   Column                    Non-Null Count  Dtype \n",
      "---  ------                    --------------  ----- \n",
      " 0   customer_id               99441 non-null  object\n",
      " 1   customer_zip_code_prefix  99441 non-null  int64 \n",
      " 2   customer_city             99441 non-null  object\n",
      " 3   customer_state            99441 non-null  object\n",
      "dtypes: int64(1), object(3)\n",
      "memory usage: 3.0+ MB\n"
     ]
    }
   ],
   "source": [
    "# Look at basic information of customers table\n",
    "customers.info()"
   ]
  },
  {
   "cell_type": "code",
   "execution_count": 31,
   "id": "618e9418-cde2-42ee-b657-86f59b8abdbf",
   "metadata": {},
   "outputs": [],
   "source": [
    "# Observations:\n",
    "# 1. All datatypes seem correct.\n",
    "# 2. There is no column with null values."
   ]
  },
  {
   "cell_type": "code",
   "execution_count": 32,
   "id": "38bea3e8-b96c-4f1f-a9d8-43fd69c4a191",
   "metadata": {},
   "outputs": [],
   "source": [
    "# Look at basic numerical statistics of customers table\n",
    "# Only numeric column is 'customer_zip_code_prefix' for which numeric description is not necessary.\n",
    "# customers.describe(percentiles=[0.75, 0.8, 0.85, 0.9, 0.95, 0.99])"
   ]
  },
  {
   "cell_type": "code",
   "execution_count": 33,
   "id": "7de5b9f9-59bc-4a02-bf20-5ebd02b9ddb4",
   "metadata": {},
   "outputs": [],
   "source": [
    "# Check null values in customers table\n",
    "# (customers.isna().sum() / customers.size) * 100"
   ]
  },
  {
   "cell_type": "code",
   "execution_count": 34,
   "id": "b1666f0d-6fce-4e20-91fa-f6ff6234bf10",
   "metadata": {},
   "outputs": [
    {
     "name": "stdout",
     "output_type": "stream",
     "text": [
      "Records: 99441\n",
      "Features: 4\n"
     ]
    }
   ],
   "source": [
    "# check number of records and features in customers table, after duplicates treatment\n",
    "print('Records: {}\\nFeatures: {}'.format(customers.shape[0], customers.shape[1]))"
   ]
  },
  {
   "cell_type": "code",
   "execution_count": 35,
   "id": "89354a8a-2032-4e03-b630-3e7aa933d697",
   "metadata": {},
   "outputs": [],
   "source": [
    "###############################################################################"
   ]
  },
  {
   "cell_type": "markdown",
   "id": "ab15b9d1-5d27-4584-a613-bfc881f80f73",
   "metadata": {
    "jp-MarkdownHeadingCollapsed": true
   },
   "source": [
    "### payments"
   ]
  },
  {
   "cell_type": "code",
   "execution_count": 36,
   "id": "530eb801-d6c8-4466-bf97-6202fe80a96e",
   "metadata": {},
   "outputs": [],
   "source": [
    "# read payments table from the retail dataset\n",
    "payments = pd.read_excel('Retail_dataset.xlsx', sheet_name='payments')"
   ]
  },
  {
   "cell_type": "code",
   "execution_count": 37,
   "id": "0b5a4696-4a67-44ac-ac2d-174adad7d8ea",
   "metadata": {},
   "outputs": [
    {
     "name": "stdout",
     "output_type": "stream",
     "text": [
      "<class 'pandas.core.frame.DataFrame'>\n",
      "RangeIndex: 103886 entries, 0 to 103885\n",
      "Data columns (total 5 columns):\n",
      " #   Column                Non-Null Count   Dtype  \n",
      "---  ------                --------------   -----  \n",
      " 0   order_id              103886 non-null  object \n",
      " 1   payment_sequential    103886 non-null  int64  \n",
      " 2   payment_type          103886 non-null  object \n",
      " 3   payment_installments  103886 non-null  int64  \n",
      " 4   payment_value         103886 non-null  float64\n",
      "dtypes: float64(1), int64(2), object(2)\n",
      "memory usage: 4.0+ MB\n"
     ]
    }
   ],
   "source": [
    "# Look at basic information of payments table\n",
    "payments.info()"
   ]
  },
  {
   "cell_type": "code",
   "execution_count": 38,
   "id": "1d7ea24b-22cf-4ebc-bc98-9f8f4b48db04",
   "metadata": {},
   "outputs": [],
   "source": [
    "# Observations:\n",
    "# 1. All datatypes seem correct.\n",
    "# 2. There is no column with null values."
   ]
  },
  {
   "cell_type": "code",
   "execution_count": 39,
   "id": "000b5adf-dfd9-4a81-ad60-5d549a64a9ea",
   "metadata": {},
   "outputs": [
    {
     "data": {
      "text/plain": [
       "count    103886.000000\n",
       "mean        154.100380\n",
       "std         217.494064\n",
       "min           0.000000\n",
       "50%         100.000000\n",
       "75%         171.837500\n",
       "80%         196.360000\n",
       "85%         231.120000\n",
       "90%         297.270000\n",
       "95%         437.635000\n",
       "99%        1039.916500\n",
       "99.5%      1410.275750\n",
       "99.9%      2339.233250\n",
       "max       13664.080000\n",
       "Name: payment_value, dtype: float64"
      ]
     },
     "execution_count": 39,
     "metadata": {},
     "output_type": "execute_result"
    }
   ],
   "source": [
    "# Look at basic numerical statistics of payments table\n",
    "# There is no relevance to look at numeric description of payment_sequential and payment_installments columns.\n",
    "payments.payment_value.describe(percentiles=[0.75, 0.8, 0.85, 0.9, 0.95, 0.99, 0.995, 0.999])"
   ]
  },
  {
   "cell_type": "code",
   "execution_count": 40,
   "id": "d69d2895-2600-4ebc-801f-092daf91312a",
   "metadata": {},
   "outputs": [],
   "source": [
    "# Observations:\n",
    "# 1. There are some orders with payment_value 0, which doesn't seem right.\n",
    "# 2. The highest payment_value is greater than 13000 where as 99.9% of orders have payment_value within 2340.\n",
    "# 3. The payment_value could go high with the number of items in an order."
   ]
  },
  {
   "cell_type": "code",
   "execution_count": 41,
   "id": "beda5108-56d3-48c4-a628-eb7508c2301a",
   "metadata": {},
   "outputs": [],
   "source": [
    "# Check null values in payments table\n",
    "# (payments.isna().sum() / payments.size) * 100"
   ]
  },
  {
   "cell_type": "code",
   "execution_count": 42,
   "id": "d369812e-9838-4463-899d-7edf86fbafce",
   "metadata": {},
   "outputs": [
    {
     "name": "stdout",
     "output_type": "stream",
     "text": [
      "Records: 103886\n",
      "Features: 5\n"
     ]
    }
   ],
   "source": [
    "# check number of records and features in payments table\n",
    "print('Records: {}\\nFeatures: {}'.format(payments.shape[0], payments.shape[1]))"
   ]
  },
  {
   "cell_type": "code",
   "execution_count": 43,
   "id": "ef83c92c-abb1-4ac8-8a45-753edeb510d3",
   "metadata": {},
   "outputs": [],
   "source": [
    "###############################################################################"
   ]
  },
  {
   "cell_type": "markdown",
   "id": "27503c46-651c-4d96-a926-8b51310aa56a",
   "metadata": {
    "jp-MarkdownHeadingCollapsed": true
   },
   "source": [
    "### products"
   ]
  },
  {
   "cell_type": "code",
   "execution_count": 44,
   "id": "9014cf93-66a5-4548-b5fd-b5d550623b78",
   "metadata": {},
   "outputs": [],
   "source": [
    "# read products table from the retail dataset\n",
    "products = pd.read_excel('Retail_dataset.xlsx', sheet_name='products')"
   ]
  },
  {
   "cell_type": "code",
   "execution_count": 45,
   "id": "ab479027-9350-424b-97ba-2ba5ff423806",
   "metadata": {},
   "outputs": [
    {
     "name": "stdout",
     "output_type": "stream",
     "text": [
      "<class 'pandas.core.frame.DataFrame'>\n",
      "RangeIndex: 32951 entries, 0 to 32950\n",
      "Data columns (total 6 columns):\n",
      " #   Column                 Non-Null Count  Dtype  \n",
      "---  ------                 --------------  -----  \n",
      " 0   product_id             32951 non-null  object \n",
      " 1   product_category_name  32781 non-null  object \n",
      " 2   product_weight_g       32949 non-null  float64\n",
      " 3   product_length_cm      32949 non-null  float64\n",
      " 4   product_height_cm      32949 non-null  float64\n",
      " 5   product_width_cm       32949 non-null  float64\n",
      "dtypes: float64(4), object(2)\n",
      "memory usage: 1.5+ MB\n"
     ]
    }
   ],
   "source": [
    "# Look at basic information of products table\n",
    "products.info()"
   ]
  },
  {
   "cell_type": "code",
   "execution_count": 46,
   "id": "62628951-886a-4d39-b90d-586999ae4e74",
   "metadata": {},
   "outputs": [],
   "source": [
    "# Observations:\n",
    "# 1. All datatypes are fine.\n",
    "# 2. Most of the columns have some or more null values."
   ]
  },
  {
   "cell_type": "code",
   "execution_count": 47,
   "id": "223c9fc9-e99a-4449-85f8-d6c84a94aadc",
   "metadata": {},
   "outputs": [
    {
     "data": {
      "text/html": [
       "<div>\n",
       "<style scoped>\n",
       "    .dataframe tbody tr th:only-of-type {\n",
       "        vertical-align: middle;\n",
       "    }\n",
       "\n",
       "    .dataframe tbody tr th {\n",
       "        vertical-align: top;\n",
       "    }\n",
       "\n",
       "    .dataframe thead th {\n",
       "        text-align: right;\n",
       "    }\n",
       "</style>\n",
       "<table border=\"1\" class=\"dataframe\">\n",
       "  <thead>\n",
       "    <tr style=\"text-align: right;\">\n",
       "      <th></th>\n",
       "      <th>product_weight_g</th>\n",
       "      <th>product_length_cm</th>\n",
       "      <th>product_height_cm</th>\n",
       "      <th>product_width_cm</th>\n",
       "    </tr>\n",
       "  </thead>\n",
       "  <tbody>\n",
       "    <tr>\n",
       "      <th>count</th>\n",
       "      <td>32949.000000</td>\n",
       "      <td>32949.000000</td>\n",
       "      <td>32949.000000</td>\n",
       "      <td>32949.000000</td>\n",
       "    </tr>\n",
       "    <tr>\n",
       "      <th>mean</th>\n",
       "      <td>2276.472488</td>\n",
       "      <td>30.815078</td>\n",
       "      <td>16.937661</td>\n",
       "      <td>23.196728</td>\n",
       "    </tr>\n",
       "    <tr>\n",
       "      <th>std</th>\n",
       "      <td>4282.038731</td>\n",
       "      <td>16.914458</td>\n",
       "      <td>13.637554</td>\n",
       "      <td>12.079047</td>\n",
       "    </tr>\n",
       "    <tr>\n",
       "      <th>min</th>\n",
       "      <td>0.000000</td>\n",
       "      <td>7.000000</td>\n",
       "      <td>2.000000</td>\n",
       "      <td>6.000000</td>\n",
       "    </tr>\n",
       "    <tr>\n",
       "      <th>1%</th>\n",
       "      <td>60.000000</td>\n",
       "      <td>16.000000</td>\n",
       "      <td>2.000000</td>\n",
       "      <td>11.000000</td>\n",
       "    </tr>\n",
       "    <tr>\n",
       "      <th>25%</th>\n",
       "      <td>300.000000</td>\n",
       "      <td>18.000000</td>\n",
       "      <td>8.000000</td>\n",
       "      <td>15.000000</td>\n",
       "    </tr>\n",
       "    <tr>\n",
       "      <th>50%</th>\n",
       "      <td>700.000000</td>\n",
       "      <td>25.000000</td>\n",
       "      <td>13.000000</td>\n",
       "      <td>20.000000</td>\n",
       "    </tr>\n",
       "    <tr>\n",
       "      <th>75%</th>\n",
       "      <td>1900.000000</td>\n",
       "      <td>38.000000</td>\n",
       "      <td>21.000000</td>\n",
       "      <td>30.000000</td>\n",
       "    </tr>\n",
       "    <tr>\n",
       "      <th>80%</th>\n",
       "      <td>2500.000000</td>\n",
       "      <td>41.000000</td>\n",
       "      <td>25.000000</td>\n",
       "      <td>32.000000</td>\n",
       "    </tr>\n",
       "    <tr>\n",
       "      <th>85%</th>\n",
       "      <td>3800.000000</td>\n",
       "      <td>46.000000</td>\n",
       "      <td>29.000000</td>\n",
       "      <td>35.000000</td>\n",
       "    </tr>\n",
       "    <tr>\n",
       "      <th>90%</th>\n",
       "      <td>6300.000000</td>\n",
       "      <td>53.000000</td>\n",
       "      <td>33.000000</td>\n",
       "      <td>40.000000</td>\n",
       "    </tr>\n",
       "    <tr>\n",
       "      <th>95%</th>\n",
       "      <td>10850.000000</td>\n",
       "      <td>65.000000</td>\n",
       "      <td>44.000000</td>\n",
       "      <td>47.000000</td>\n",
       "    </tr>\n",
       "    <tr>\n",
       "      <th>99%</th>\n",
       "      <td>22538.000000</td>\n",
       "      <td>100.000000</td>\n",
       "      <td>69.000000</td>\n",
       "      <td>63.000000</td>\n",
       "    </tr>\n",
       "    <tr>\n",
       "      <th>99.5%</th>\n",
       "      <td>28500.000000</td>\n",
       "      <td>104.000000</td>\n",
       "      <td>79.000000</td>\n",
       "      <td>70.000000</td>\n",
       "    </tr>\n",
       "    <tr>\n",
       "      <th>99.9%</th>\n",
       "      <td>30000.000000</td>\n",
       "      <td>105.000000</td>\n",
       "      <td>102.052000</td>\n",
       "      <td>92.000000</td>\n",
       "    </tr>\n",
       "    <tr>\n",
       "      <th>max</th>\n",
       "      <td>40425.000000</td>\n",
       "      <td>105.000000</td>\n",
       "      <td>105.000000</td>\n",
       "      <td>118.000000</td>\n",
       "    </tr>\n",
       "  </tbody>\n",
       "</table>\n",
       "</div>"
      ],
      "text/plain": [
       "       product_weight_g  product_length_cm  product_height_cm  \\\n",
       "count      32949.000000       32949.000000       32949.000000   \n",
       "mean        2276.472488          30.815078          16.937661   \n",
       "std         4282.038731          16.914458          13.637554   \n",
       "min            0.000000           7.000000           2.000000   \n",
       "1%            60.000000          16.000000           2.000000   \n",
       "25%          300.000000          18.000000           8.000000   \n",
       "50%          700.000000          25.000000          13.000000   \n",
       "75%         1900.000000          38.000000          21.000000   \n",
       "80%         2500.000000          41.000000          25.000000   \n",
       "85%         3800.000000          46.000000          29.000000   \n",
       "90%         6300.000000          53.000000          33.000000   \n",
       "95%        10850.000000          65.000000          44.000000   \n",
       "99%        22538.000000         100.000000          69.000000   \n",
       "99.5%      28500.000000         104.000000          79.000000   \n",
       "99.9%      30000.000000         105.000000         102.052000   \n",
       "max        40425.000000         105.000000         105.000000   \n",
       "\n",
       "       product_width_cm  \n",
       "count      32949.000000  \n",
       "mean          23.196728  \n",
       "std           12.079047  \n",
       "min            6.000000  \n",
       "1%            11.000000  \n",
       "25%           15.000000  \n",
       "50%           20.000000  \n",
       "75%           30.000000  \n",
       "80%           32.000000  \n",
       "85%           35.000000  \n",
       "90%           40.000000  \n",
       "95%           47.000000  \n",
       "99%           63.000000  \n",
       "99.5%         70.000000  \n",
       "99.9%         92.000000  \n",
       "max          118.000000  "
      ]
     },
     "execution_count": 47,
     "metadata": {},
     "output_type": "execute_result"
    }
   ],
   "source": [
    "# Look at basic numerical statistics of products table\n",
    "products.describe(percentiles=[0.01, 0.25, 0.75, 0.8, 0.85, 0.9, 0.95, 0.99, 0.995, 0.999])"
   ]
  },
  {
   "cell_type": "code",
   "execution_count": 48,
   "id": "6c91742e-189a-4b0d-89b1-5c144eeb1b5c",
   "metadata": {},
   "outputs": [],
   "source": [
    "# Observations:\n",
    "# 1. The numeric distributions in columns product_length_cm, product_height_cm and product_width_cm seem fine.\n",
    "# 2. There are cases with 0 product_weight_g which doesn't seem right."
   ]
  },
  {
   "cell_type": "code",
   "execution_count": 49,
   "id": "0a131c21-6923-4655-acfc-18d9b14190a3",
   "metadata": {},
   "outputs": [
    {
     "data": {
      "text/plain": [
       "product_id               0.000000\n",
       "product_category_name    0.085986\n",
       "product_weight_g         0.001012\n",
       "product_length_cm        0.001012\n",
       "product_height_cm        0.001012\n",
       "product_width_cm         0.001012\n",
       "dtype: float64"
      ]
     },
     "execution_count": 49,
     "metadata": {},
     "output_type": "execute_result"
    }
   ],
   "source": [
    "# Check percentage null values in products table\n",
    "(products.isna().sum() / products.size) * 100"
   ]
  },
  {
   "cell_type": "code",
   "execution_count": 50,
   "id": "3488d8b4-56c2-414b-8740-844e75b73bf7",
   "metadata": {},
   "outputs": [],
   "source": [
    "# Observations:\n",
    "# 1. Most of the missing values are in product_category_name column and that's approx 8.6%.\n",
    "# 2. In columns related to product dimensions and weight have very low number of missing values."
   ]
  },
  {
   "cell_type": "code",
   "execution_count": 51,
   "id": "5b4584f9-e3cc-4de6-b091-260297b1b7c2",
   "metadata": {},
   "outputs": [
    {
     "data": {
      "text/plain": [
       "product_id                 0\n",
       "product_category_name    170\n",
       "product_weight_g           2\n",
       "product_length_cm          2\n",
       "product_height_cm          2\n",
       "product_width_cm           2\n",
       "dtype: int64"
      ]
     },
     "execution_count": 51,
     "metadata": {},
     "output_type": "execute_result"
    }
   ],
   "source": [
    "# Check null values in products table\n",
    "products.isna().sum()"
   ]
  },
  {
   "cell_type": "code",
   "execution_count": 52,
   "id": "93a9dc4c-d94c-480e-8a27-4d030f2fc4d8",
   "metadata": {},
   "outputs": [
    {
     "data": {
      "text/html": [
       "<div>\n",
       "<style scoped>\n",
       "    .dataframe tbody tr th:only-of-type {\n",
       "        vertical-align: middle;\n",
       "    }\n",
       "\n",
       "    .dataframe tbody tr th {\n",
       "        vertical-align: top;\n",
       "    }\n",
       "\n",
       "    .dataframe thead th {\n",
       "        text-align: right;\n",
       "    }\n",
       "</style>\n",
       "<table border=\"1\" class=\"dataframe\">\n",
       "  <thead>\n",
       "    <tr style=\"text-align: right;\">\n",
       "      <th></th>\n",
       "      <th>product_id</th>\n",
       "      <th>product_category_name</th>\n",
       "      <th>product_weight_g</th>\n",
       "      <th>product_length_cm</th>\n",
       "      <th>product_height_cm</th>\n",
       "      <th>product_width_cm</th>\n",
       "    </tr>\n",
       "  </thead>\n",
       "  <tbody>\n",
       "    <tr>\n",
       "      <th>8578</th>\n",
       "      <td>09ff539a621711667c43eba6a3bd8466</td>\n",
       "      <td>toys</td>\n",
       "      <td>NaN</td>\n",
       "      <td>NaN</td>\n",
       "      <td>NaN</td>\n",
       "      <td>NaN</td>\n",
       "    </tr>\n",
       "    <tr>\n",
       "      <th>18851</th>\n",
       "      <td>5eb564652db742ff8f28759cd8d2652a</td>\n",
       "      <td>toys</td>\n",
       "      <td>NaN</td>\n",
       "      <td>NaN</td>\n",
       "      <td>NaN</td>\n",
       "      <td>NaN</td>\n",
       "    </tr>\n",
       "  </tbody>\n",
       "</table>\n",
       "</div>"
      ],
      "text/plain": [
       "                             product_id product_category_name  \\\n",
       "8578   09ff539a621711667c43eba6a3bd8466                  toys   \n",
       "18851  5eb564652db742ff8f28759cd8d2652a                  toys   \n",
       "\n",
       "       product_weight_g  product_length_cm  product_height_cm  \\\n",
       "8578                NaN                NaN                NaN   \n",
       "18851               NaN                NaN                NaN   \n",
       "\n",
       "       product_width_cm  \n",
       "8578                NaN  \n",
       "18851               NaN  "
      ]
     },
     "execution_count": 52,
     "metadata": {},
     "output_type": "execute_result"
    }
   ],
   "source": [
    "# Check null values in column product_weight_g\n",
    "products[products.product_weight_g.isna()]"
   ]
  },
  {
   "cell_type": "code",
   "execution_count": 53,
   "id": "7d9b63c2-a6e0-4b2e-94f0-2a63c24cd339",
   "metadata": {},
   "outputs": [],
   "source": [
    "# Observations:\n",
    "# 1. There are 2 orders where product dimensions as well as weight values are missing."
   ]
  },
  {
   "cell_type": "code",
   "execution_count": 54,
   "id": "ac533086-441a-4787-9715-f7a61241a2f6",
   "metadata": {},
   "outputs": [],
   "source": [
    "# The only 2 missing value records w.r.t product dimension and weight can be dropped\n",
    "# Dropping the specific index records\n",
    "products.drop(products.index[[8578, 18851]], inplace=True)"
   ]
  },
  {
   "cell_type": "code",
   "execution_count": 55,
   "id": "876a7de6-cb11-482e-87e0-213ade2bea6a",
   "metadata": {},
   "outputs": [
    {
     "data": {
      "text/plain": [
       "product_id               0.000000\n",
       "product_category_name    0.085991\n",
       "product_weight_g         0.000000\n",
       "product_length_cm        0.000000\n",
       "product_height_cm        0.000000\n",
       "product_width_cm         0.000000\n",
       "dtype: float64"
      ]
     },
     "execution_count": 55,
     "metadata": {},
     "output_type": "execute_result"
    }
   ],
   "source": [
    "# Check null values in products table\n",
    "(products.isna().sum() / products.size) * 100"
   ]
  },
  {
   "cell_type": "code",
   "execution_count": 56,
   "id": "9ee54823-2525-4584-b57f-cb1a2d478faf",
   "metadata": {},
   "outputs": [
    {
     "name": "stderr",
     "output_type": "stream",
     "text": [
      "C:\\Users\\Umang Malhotra\\AppData\\Local\\Temp\\ipykernel_24732\\3362810500.py:2: FutureWarning: A value is trying to be set on a copy of a DataFrame or Series through chained assignment using an inplace method.\n",
      "The behavior will change in pandas 3.0. This inplace method will never work because the intermediate object on which we are setting values always behaves as a copy.\n",
      "\n",
      "For example, when doing 'df[col].method(value, inplace=True)', try using 'df.method({col: value}, inplace=True)' or df[col] = df[col].method(value) instead, to perform the operation inplace on the original object.\n",
      "\n",
      "\n",
      "  products.product_category_name.fillna('Unknown', inplace=True)\n"
     ]
    }
   ],
   "source": [
    "# replace the missing values with a category 'Unknown' in column product_category_name\n",
    "products.product_category_name.fillna('Unknown', inplace=True)"
   ]
  },
  {
   "cell_type": "code",
   "execution_count": 57,
   "id": "4e740979-7bc5-44fd-8e81-e5ff8c18bd03",
   "metadata": {},
   "outputs": [
    {
     "data": {
      "text/plain": [
       "product_id               0\n",
       "product_category_name    0\n",
       "product_weight_g         0\n",
       "product_length_cm        0\n",
       "product_height_cm        0\n",
       "product_width_cm         0\n",
       "dtype: int64"
      ]
     },
     "execution_count": 57,
     "metadata": {},
     "output_type": "execute_result"
    }
   ],
   "source": [
    "# Check null values in products table, after treating null value records\n",
    "products.isna().sum()"
   ]
  },
  {
   "cell_type": "code",
   "execution_count": 58,
   "id": "825ca411-6b71-4957-8d14-e6bf473ba215",
   "metadata": {},
   "outputs": [
    {
     "name": "stdout",
     "output_type": "stream",
     "text": [
      "Records: 32949\n",
      "Features: 6\n"
     ]
    }
   ],
   "source": [
    "# check number of records and features in products table, after treating null values\n",
    "print('Records: {}\\nFeatures: {}'.format(products.shape[0], products.shape[1]))"
   ]
  },
  {
   "cell_type": "code",
   "execution_count": 59,
   "id": "cf07feb6-1fbf-4cdd-b3bc-cbf05e9e9d28",
   "metadata": {},
   "outputs": [],
   "source": [
    "###############################################################################"
   ]
  },
  {
   "cell_type": "markdown",
   "id": "c082fbc1-3e2d-49f4-9408-7bb8326df177",
   "metadata": {
    "jp-MarkdownHeadingCollapsed": true
   },
   "source": [
    "## Merge all the tables to make one data table   "
   ]
  },
  {
   "cell_type": "code",
   "execution_count": 60,
   "id": "aaee2cee-74f2-4d6b-9679-61d15c5e9171",
   "metadata": {},
   "outputs": [],
   "source": [
    "# Merge all the tables\n",
    "retail = (items\n",
    "          .merge(orders,    on='order_id',    how='inner')\n",
    "          .merge(products,  on='product_id',  how='inner')\n",
    "          .merge(customers, on='customer_id', how='inner')\n",
    "          .merge(payments,  on='order_id',    how='inner'))"
   ]
  },
  {
   "cell_type": "code",
   "execution_count": 61,
   "id": "a60c2bb8-d69c-4087-a327-5f7af37acf30",
   "metadata": {},
   "outputs": [],
   "source": [
    "# price + shipping_cgarges make the whole revenue\n",
    "retail['revenue'] = retail.price + retail.shipping_charges"
   ]
  },
  {
   "cell_type": "code",
   "execution_count": 62,
   "id": "da3d0acf-63ee-468d-b8c1-01eb24f38110",
   "metadata": {},
   "outputs": [
    {
     "data": {
      "text/plain": [
       "Index(['order_id', 'order_item_id', 'product_id', 'seller_id', 'price',\n",
       "       'shipping_charges', 'customer_id', 'order_purchase_timestamp',\n",
       "       'order_approved_at', 'order_delivered_timestamp',\n",
       "       'order_estimated_delivery_date', 'product_category_name',\n",
       "       'product_weight_g', 'product_length_cm', 'product_height_cm',\n",
       "       'product_width_cm', 'customer_zip_code_prefix', 'customer_city',\n",
       "       'customer_state', 'payment_sequential', 'payment_type',\n",
       "       'payment_installments', 'payment_value', 'revenue'],\n",
       "      dtype='object')"
      ]
     },
     "execution_count": 62,
     "metadata": {},
     "output_type": "execute_result"
    }
   ],
   "source": [
    "# Check the features present in the merged data\n",
    "retail.columns"
   ]
  },
  {
   "cell_type": "code",
   "execution_count": 63,
   "id": "434ea284-ae9f-479e-b54a-7f4fffadcf87",
   "metadata": {},
   "outputs": [
    {
     "data": {
      "text/html": [
       "<div>\n",
       "<style scoped>\n",
       "    .dataframe tbody tr th:only-of-type {\n",
       "        vertical-align: middle;\n",
       "    }\n",
       "\n",
       "    .dataframe tbody tr th {\n",
       "        vertical-align: top;\n",
       "    }\n",
       "\n",
       "    .dataframe thead th {\n",
       "        text-align: right;\n",
       "    }\n",
       "</style>\n",
       "<table border=\"1\" class=\"dataframe\">\n",
       "  <thead>\n",
       "    <tr style=\"text-align: right;\">\n",
       "      <th></th>\n",
       "      <th>order_id</th>\n",
       "      <th>seller_id</th>\n",
       "      <th>customer_id</th>\n",
       "      <th>product_id</th>\n",
       "      <th>order_purchase_timestamp</th>\n",
       "      <th>product_category_name</th>\n",
       "      <th>price</th>\n",
       "      <th>shipping_charges</th>\n",
       "      <th>revenue</th>\n",
       "    </tr>\n",
       "  </thead>\n",
       "  <tbody>\n",
       "    <tr>\n",
       "      <th>0</th>\n",
       "      <td>00010242fe8c5a6d1ba2dd792cb16214</td>\n",
       "      <td>48436dade18ac8b2bce089ec2a041202</td>\n",
       "      <td>871766c5855e863f6eccc05f988b23cb</td>\n",
       "      <td>4244733e06e7ecb4970a6e2683c13e61</td>\n",
       "      <td>2017-09-13 08:59:02</td>\n",
       "      <td>toys</td>\n",
       "      <td>58.9</td>\n",
       "      <td>13.29</td>\n",
       "      <td>72.19</td>\n",
       "    </tr>\n",
       "    <tr>\n",
       "      <th>1</th>\n",
       "      <td>00018f77f2f0320c557190d7a144bdd3</td>\n",
       "      <td>dd7ddc04e1b6c2c614352b383efe2d36</td>\n",
       "      <td>eb28e67c4c0b83846050ddfb8a35d051</td>\n",
       "      <td>e5f2d52b802189ee658865ca93d83a8f</td>\n",
       "      <td>2017-04-26 10:53:06</td>\n",
       "      <td>toys</td>\n",
       "      <td>239.9</td>\n",
       "      <td>19.93</td>\n",
       "      <td>259.83</td>\n",
       "    </tr>\n",
       "  </tbody>\n",
       "</table>\n",
       "</div>"
      ],
      "text/plain": [
       "                           order_id                         seller_id  \\\n",
       "0  00010242fe8c5a6d1ba2dd792cb16214  48436dade18ac8b2bce089ec2a041202   \n",
       "1  00018f77f2f0320c557190d7a144bdd3  dd7ddc04e1b6c2c614352b383efe2d36   \n",
       "\n",
       "                        customer_id                        product_id  \\\n",
       "0  871766c5855e863f6eccc05f988b23cb  4244733e06e7ecb4970a6e2683c13e61   \n",
       "1  eb28e67c4c0b83846050ddfb8a35d051  e5f2d52b802189ee658865ca93d83a8f   \n",
       "\n",
       "  order_purchase_timestamp product_category_name  price  shipping_charges  \\\n",
       "0      2017-09-13 08:59:02                  toys   58.9             13.29   \n",
       "1      2017-04-26 10:53:06                  toys  239.9             19.93   \n",
       "\n",
       "   revenue  \n",
       "0    72.19  \n",
       "1   259.83  "
      ]
     },
     "execution_count": 63,
     "metadata": {},
     "output_type": "execute_result"
    }
   ],
   "source": [
    "# Keep only relevant features for the analysis based on the problem statement\n",
    "retail = retail[['order_id',\n",
    "                 'seller_id',\n",
    "                 'customer_id',\n",
    "                 'product_id',\n",
    "                 'order_purchase_timestamp',\n",
    "                 'product_category_name',\n",
    "                 'price',\n",
    "                 'shipping_charges',\n",
    "                 'revenue']]\n",
    "\n",
    "retail.head(2)"
   ]
  },
  {
   "cell_type": "code",
   "execution_count": 64,
   "id": "f633bbde-8aae-4a7a-b8ed-98edaa048634",
   "metadata": {},
   "outputs": [
    {
     "data": {
      "text/plain": [
       "order_id                    0\n",
       "seller_id                   0\n",
       "customer_id                 0\n",
       "product_id                  0\n",
       "order_purchase_timestamp    0\n",
       "product_category_name       0\n",
       "price                       0\n",
       "shipping_charges            0\n",
       "revenue                     0\n",
       "dtype: int64"
      ]
     },
     "execution_count": 64,
     "metadata": {},
     "output_type": "execute_result"
    }
   ],
   "source": [
    "# Check null values in retail table\n",
    "retail.isna().sum()"
   ]
  },
  {
   "cell_type": "code",
   "execution_count": 65,
   "id": "790895c6-3b22-497a-adee-91ffc7912010",
   "metadata": {},
   "outputs": [
    {
     "data": {
      "text/plain": [
       "24627"
      ]
     },
     "execution_count": 65,
     "metadata": {},
     "output_type": "execute_result"
    }
   ],
   "source": [
    "# Check number of duplicate records\n",
    "retail[retail.duplicated()].shape[0]"
   ]
  },
  {
   "cell_type": "code",
   "execution_count": 66,
   "id": "2dcf9851-a28c-4ec3-88a1-e06a48a79718",
   "metadata": {},
   "outputs": [],
   "source": [
    "# Remove duplicates from the data\n",
    "retail.drop_duplicates(inplace=True)\n",
    "retail.reset_index(drop=True, inplace=True)"
   ]
  },
  {
   "cell_type": "code",
   "execution_count": 67,
   "id": "33ea4a45-be78-4705-a45c-de09f963cc09",
   "metadata": {
    "scrolled": true
   },
   "outputs": [
    {
     "name": "stdout",
     "output_type": "stream",
     "text": [
      "<class 'pandas.core.frame.DataFrame'>\n",
      "RangeIndex: 100179 entries, 0 to 100178\n",
      "Data columns (total 9 columns):\n",
      " #   Column                    Non-Null Count   Dtype         \n",
      "---  ------                    --------------   -----         \n",
      " 0   order_id                  100179 non-null  object        \n",
      " 1   seller_id                 100179 non-null  object        \n",
      " 2   customer_id               100179 non-null  object        \n",
      " 3   product_id                100179 non-null  object        \n",
      " 4   order_purchase_timestamp  100179 non-null  datetime64[ns]\n",
      " 5   product_category_name     100179 non-null  object        \n",
      " 6   price                     100179 non-null  float64       \n",
      " 7   shipping_charges          100179 non-null  float64       \n",
      " 8   revenue                   100179 non-null  float64       \n",
      "dtypes: datetime64[ns](1), float64(3), object(5)\n",
      "memory usage: 6.9+ MB\n"
     ]
    }
   ],
   "source": [
    "# Look at basic information of retail table\n",
    "retail.info()"
   ]
  },
  {
   "cell_type": "code",
   "execution_count": 68,
   "id": "ef24ee42-4c21-4c36-9454-3ba65dfbce26",
   "metadata": {},
   "outputs": [],
   "source": [
    "# The datatypes are fine.\n",
    "# There are no null values in any column."
   ]
  },
  {
   "cell_type": "code",
   "execution_count": 69,
   "id": "704172b5-3ca6-42f1-a793-314b5e77dc91",
   "metadata": {},
   "outputs": [
    {
     "data": {
      "text/html": [
       "<div>\n",
       "<style scoped>\n",
       "    .dataframe tbody tr th:only-of-type {\n",
       "        vertical-align: middle;\n",
       "    }\n",
       "\n",
       "    .dataframe tbody tr th {\n",
       "        vertical-align: top;\n",
       "    }\n",
       "\n",
       "    .dataframe thead th {\n",
       "        text-align: right;\n",
       "    }\n",
       "</style>\n",
       "<table border=\"1\" class=\"dataframe\">\n",
       "  <thead>\n",
       "    <tr style=\"text-align: right;\">\n",
       "      <th></th>\n",
       "      <th>price</th>\n",
       "      <th>shipping_charges</th>\n",
       "      <th>revenue</th>\n",
       "    </tr>\n",
       "  </thead>\n",
       "  <tbody>\n",
       "    <tr>\n",
       "      <th>count</th>\n",
       "      <td>100179.000000</td>\n",
       "      <td>100179.000000</td>\n",
       "      <td>100179.000000</td>\n",
       "    </tr>\n",
       "    <tr>\n",
       "      <th>mean</th>\n",
       "      <td>123.747986</td>\n",
       "      <td>20.070022</td>\n",
       "      <td>143.818008</td>\n",
       "    </tr>\n",
       "    <tr>\n",
       "      <th>std</th>\n",
       "      <td>187.579921</td>\n",
       "      <td>15.781827</td>\n",
       "      <td>194.709545</td>\n",
       "    </tr>\n",
       "    <tr>\n",
       "      <th>min</th>\n",
       "      <td>0.850000</td>\n",
       "      <td>0.000000</td>\n",
       "      <td>6.080000</td>\n",
       "    </tr>\n",
       "    <tr>\n",
       "      <th>50%</th>\n",
       "      <td>78.000000</td>\n",
       "      <td>16.320000</td>\n",
       "      <td>94.960000</td>\n",
       "    </tr>\n",
       "    <tr>\n",
       "      <th>75%</th>\n",
       "      <td>139.000000</td>\n",
       "      <td>21.190000</td>\n",
       "      <td>161.335000</td>\n",
       "    </tr>\n",
       "    <tr>\n",
       "      <th>95%</th>\n",
       "      <td>355.900000</td>\n",
       "      <td>45.300000</td>\n",
       "      <td>388.250000</td>\n",
       "    </tr>\n",
       "    <tr>\n",
       "      <th>99%</th>\n",
       "      <td>899.000000</td>\n",
       "      <td>84.580000</td>\n",
       "      <td>957.209400</td>\n",
       "    </tr>\n",
       "    <tr>\n",
       "      <th>99.5%</th>\n",
       "      <td>1250.990000</td>\n",
       "      <td>106.318800</td>\n",
       "      <td>1321.185900</td>\n",
       "    </tr>\n",
       "    <tr>\n",
       "      <th>max</th>\n",
       "      <td>6735.000000</td>\n",
       "      <td>409.680000</td>\n",
       "      <td>6929.310000</td>\n",
       "    </tr>\n",
       "  </tbody>\n",
       "</table>\n",
       "</div>"
      ],
      "text/plain": [
       "               price  shipping_charges        revenue\n",
       "count  100179.000000     100179.000000  100179.000000\n",
       "mean      123.747986         20.070022     143.818008\n",
       "std       187.579921         15.781827     194.709545\n",
       "min         0.850000          0.000000       6.080000\n",
       "50%        78.000000         16.320000      94.960000\n",
       "75%       139.000000         21.190000     161.335000\n",
       "95%       355.900000         45.300000     388.250000\n",
       "99%       899.000000         84.580000     957.209400\n",
       "99.5%    1250.990000        106.318800    1321.185900\n",
       "max      6735.000000        409.680000    6929.310000"
      ]
     },
     "execution_count": 69,
     "metadata": {},
     "output_type": "execute_result"
    }
   ],
   "source": [
    "# Look at basic numerical statistics of relevant columns in retail table\n",
    "retail.describe(include=['int64', 'float64'], percentiles=[0.75, 0.95, 0.99, 0.995])"
   ]
  },
  {
   "cell_type": "code",
   "execution_count": 70,
   "id": "e2f9c0ea-6003-4663-a73e-159c18668429",
   "metadata": {},
   "outputs": [],
   "source": [
    "# price, shipping_charges and therefore revenue show some extreme values beyond their 99th percentiles.\n",
    "# However, all the records might be valid and useful in the analysis."
   ]
  },
  {
   "cell_type": "code",
   "execution_count": 71,
   "id": "209b803b-5244-48c2-8fe3-7348cf27e108",
   "metadata": {},
   "outputs": [
    {
     "name": "stdout",
     "output_type": "stream",
     "text": [
      "Records: 100179\n",
      "Features: 9\n"
     ]
    }
   ],
   "source": [
    "# check number of records and features in retail table\n",
    "print('Records: {}\\nFeatures: {}'.format(retail.shape[0], retail.shape[1]))"
   ]
  },
  {
   "cell_type": "code",
   "execution_count": 72,
   "id": "fecd26a9-4ae1-458d-81ef-a81adb8c7ac0",
   "metadata": {},
   "outputs": [],
   "source": [
    "#################################################################################"
   ]
  },
  {
   "cell_type": "markdown",
   "id": "dad32b79-5265-472b-afb8-301760042dba",
   "metadata": {},
   "source": [
    "## EDA Key Aspects:\n",
    "1. 80-20 Rule of Pareto Analysis: Top 20% categories driving ~80% revenue.\n",
    "2. Ideal Category Depth: Unique SKUs (Stock Keeping Units) per category.\n",
    "3. Products Sold more than others: Associations of products frequently bought together.\n",
    "4. Reduce Inventory: Categories with low revenue contribution but high SKU variety (inventory inefficiency)."
   ]
  },
  {
   "cell_type": "markdown",
   "id": "db65213e-573b-45c0-aa83-805bf4bebd4e",
   "metadata": {},
   "source": [
    "### 80-20 Rule of Pareto Analysis"
   ]
  },
  {
   "cell_type": "code",
   "execution_count": 73,
   "id": "6537510e-e64d-41f3-8802-bf618ec9e64c",
   "metadata": {},
   "outputs": [
    {
     "data": {
      "text/html": [
       "<div>\n",
       "<style scoped>\n",
       "    .dataframe tbody tr th:only-of-type {\n",
       "        vertical-align: middle;\n",
       "    }\n",
       "\n",
       "    .dataframe tbody tr th {\n",
       "        vertical-align: top;\n",
       "    }\n",
       "\n",
       "    .dataframe thead th {\n",
       "        text-align: right;\n",
       "    }\n",
       "</style>\n",
       "<table border=\"1\" class=\"dataframe\">\n",
       "  <thead>\n",
       "    <tr style=\"text-align: right;\">\n",
       "      <th></th>\n",
       "      <th>product_category_name</th>\n",
       "      <th>revenue</th>\n",
       "      <th>cum_revenue</th>\n",
       "      <th>cum_perc</th>\n",
       "    </tr>\n",
       "  </thead>\n",
       "  <tbody>\n",
       "    <tr>\n",
       "      <th>0</th>\n",
       "      <td>toys</td>\n",
       "      <td>10924105.19</td>\n",
       "      <td>10924105.19</td>\n",
       "      <td>75.822118</td>\n",
       "    </tr>\n",
       "    <tr>\n",
       "      <th>1</th>\n",
       "      <td>health_beauty</td>\n",
       "      <td>339192.82</td>\n",
       "      <td>11263298.01</td>\n",
       "      <td>78.176391</td>\n",
       "    </tr>\n",
       "    <tr>\n",
       "      <th>2</th>\n",
       "      <td>watches_gifts</td>\n",
       "      <td>293636.86</td>\n",
       "      <td>11556934.87</td>\n",
       "      <td>80.214468</td>\n",
       "    </tr>\n",
       "    <tr>\n",
       "      <th>3</th>\n",
       "      <td>sports_leisure</td>\n",
       "      <td>264223.59</td>\n",
       "      <td>11821158.46</td>\n",
       "      <td>82.048393</td>\n",
       "    </tr>\n",
       "    <tr>\n",
       "      <th>4</th>\n",
       "      <td>bed_bath_table</td>\n",
       "      <td>260372.94</td>\n",
       "      <td>12081531.40</td>\n",
       "      <td>83.855592</td>\n",
       "    </tr>\n",
       "    <tr>\n",
       "      <th>5</th>\n",
       "      <td>computers_accessories</td>\n",
       "      <td>247414.78</td>\n",
       "      <td>12328946.18</td>\n",
       "      <td>85.572850</td>\n",
       "    </tr>\n",
       "    <tr>\n",
       "      <th>6</th>\n",
       "      <td>cool_stuff</td>\n",
       "      <td>209106.33</td>\n",
       "      <td>12538052.51</td>\n",
       "      <td>87.024217</td>\n",
       "    </tr>\n",
       "    <tr>\n",
       "      <th>7</th>\n",
       "      <td>furniture_decor</td>\n",
       "      <td>199403.97</td>\n",
       "      <td>12737456.48</td>\n",
       "      <td>88.408242</td>\n",
       "    </tr>\n",
       "    <tr>\n",
       "      <th>8</th>\n",
       "      <td>housewares</td>\n",
       "      <td>174889.81</td>\n",
       "      <td>12912346.29</td>\n",
       "      <td>89.622118</td>\n",
       "    </tr>\n",
       "    <tr>\n",
       "      <th>9</th>\n",
       "      <td>auto</td>\n",
       "      <td>157109.68</td>\n",
       "      <td>13069455.97</td>\n",
       "      <td>90.712586</td>\n",
       "    </tr>\n",
       "    <tr>\n",
       "      <th>10</th>\n",
       "      <td>garden_tools</td>\n",
       "      <td>109752.83</td>\n",
       "      <td>13179208.80</td>\n",
       "      <td>91.474360</td>\n",
       "    </tr>\n",
       "    <tr>\n",
       "      <th>11</th>\n",
       "      <td>baby</td>\n",
       "      <td>107085.49</td>\n",
       "      <td>13286294.29</td>\n",
       "      <td>92.217620</td>\n",
       "    </tr>\n",
       "    <tr>\n",
       "      <th>12</th>\n",
       "      <td>office_furniture</td>\n",
       "      <td>104003.39</td>\n",
       "      <td>13390297.68</td>\n",
       "      <td>92.939487</td>\n",
       "    </tr>\n",
       "  </tbody>\n",
       "</table>\n",
       "</div>"
      ],
      "text/plain": [
       "    product_category_name      revenue  cum_revenue   cum_perc\n",
       "0                    toys  10924105.19  10924105.19  75.822118\n",
       "1           health_beauty    339192.82  11263298.01  78.176391\n",
       "2           watches_gifts    293636.86  11556934.87  80.214468\n",
       "3          sports_leisure    264223.59  11821158.46  82.048393\n",
       "4          bed_bath_table    260372.94  12081531.40  83.855592\n",
       "5   computers_accessories    247414.78  12328946.18  85.572850\n",
       "6              cool_stuff    209106.33  12538052.51  87.024217\n",
       "7         furniture_decor    199403.97  12737456.48  88.408242\n",
       "8              housewares    174889.81  12912346.29  89.622118\n",
       "9                    auto    157109.68  13069455.97  90.712586\n",
       "10           garden_tools    109752.83  13179208.80  91.474360\n",
       "11                   baby    107085.49  13286294.29  92.217620\n",
       "12       office_furniture    104003.39  13390297.68  92.939487"
      ]
     },
     "execution_count": 73,
     "metadata": {},
     "output_type": "execute_result"
    }
   ],
   "source": [
    "# Total revenue by product category\n",
    "catRevenue = (retail.groupby('product_category_name')['revenue']\n",
    "                    .sum()\n",
    "                    .sort_values(ascending=False)\n",
    "                    .reset_index())\n",
    "\n",
    "# Cumulative contribution in revenue by product category\n",
    "catRevenue['cum_revenue'] = catRevenue['revenue'].cumsum()\n",
    "catRevenue['cum_perc'] = 100 * catRevenue['cum_revenue'] / catRevenue['revenue'].sum()\n",
    "catRevenue[catRevenue.revenue>100000]\n",
    "\n",
    "# Product categiories contributing to ~80% of revenue\n",
    "# catPareto = catRevenue[catRevenue['cum_perc'] <= 81]\n",
    "\n",
    "# print(\"Pareto Categories (Top ~20% driving ~80% revenue):\")\n",
    "# catPareto"
   ]
  },
  {
   "cell_type": "code",
   "execution_count": 74,
   "id": "855b26a7-1634-485e-87ab-b33d994e439b",
   "metadata": {},
   "outputs": [],
   "source": [
    "# Product Categories which are contributing to the revenue by at least 100,000 are ...\n",
    "# contributing to the commulative revenue by nearly 93%"
   ]
  },
  {
   "cell_type": "markdown",
   "id": "93f75896-f97b-405b-8d00-e31df4cf4073",
   "metadata": {
    "jp-MarkdownHeadingCollapsed": true
   },
   "source": [
    "### Ideal Category Depth"
   ]
  },
  {
   "cell_type": "code",
   "execution_count": 75,
   "id": "d2f4e9dd-878e-4033-aa9f-68e26fd2601d",
   "metadata": {},
   "outputs": [
    {
     "name": "stdout",
     "output_type": "stream",
     "text": [
      "Category Depth (Unique SKUs per category):\n"
     ]
    },
    {
     "data": {
      "text/html": [
       "<div>\n",
       "<style scoped>\n",
       "    .dataframe tbody tr th:only-of-type {\n",
       "        vertical-align: middle;\n",
       "    }\n",
       "\n",
       "    .dataframe tbody tr th {\n",
       "        vertical-align: top;\n",
       "    }\n",
       "\n",
       "    .dataframe thead th {\n",
       "        text-align: right;\n",
       "    }\n",
       "</style>\n",
       "<table border=\"1\" class=\"dataframe\">\n",
       "  <thead>\n",
       "    <tr style=\"text-align: right;\">\n",
       "      <th></th>\n",
       "      <th>product_category_name</th>\n",
       "      <th>uniqueSKUs</th>\n",
       "    </tr>\n",
       "  </thead>\n",
       "  <tbody>\n",
       "    <tr>\n",
       "      <th>0</th>\n",
       "      <td>toys</td>\n",
       "      <td>24187</td>\n",
       "    </tr>\n",
       "    <tr>\n",
       "      <th>1</th>\n",
       "      <td>bed_bath_table</td>\n",
       "      <td>781</td>\n",
       "    </tr>\n",
       "    <tr>\n",
       "      <th>2</th>\n",
       "      <td>sports_leisure</td>\n",
       "      <td>710</td>\n",
       "    </tr>\n",
       "    <tr>\n",
       "      <th>3</th>\n",
       "      <td>furniture_decor</td>\n",
       "      <td>668</td>\n",
       "    </tr>\n",
       "    <tr>\n",
       "      <th>4</th>\n",
       "      <td>health_beauty</td>\n",
       "      <td>630</td>\n",
       "    </tr>\n",
       "    <tr>\n",
       "      <th>5</th>\n",
       "      <td>housewares</td>\n",
       "      <td>614</td>\n",
       "    </tr>\n",
       "    <tr>\n",
       "      <th>6</th>\n",
       "      <td>auto</td>\n",
       "      <td>474</td>\n",
       "    </tr>\n",
       "    <tr>\n",
       "      <th>7</th>\n",
       "      <td>computers_accessories</td>\n",
       "      <td>411</td>\n",
       "    </tr>\n",
       "    <tr>\n",
       "      <th>8</th>\n",
       "      <td>watches_gifts</td>\n",
       "      <td>330</td>\n",
       "    </tr>\n",
       "    <tr>\n",
       "      <th>9</th>\n",
       "      <td>telephony</td>\n",
       "      <td>282</td>\n",
       "    </tr>\n",
       "    <tr>\n",
       "      <th>10</th>\n",
       "      <td>baby</td>\n",
       "      <td>234</td>\n",
       "    </tr>\n",
       "    <tr>\n",
       "      <th>11</th>\n",
       "      <td>stationery</td>\n",
       "      <td>233</td>\n",
       "    </tr>\n",
       "    <tr>\n",
       "      <th>12</th>\n",
       "      <td>perfumery</td>\n",
       "      <td>223</td>\n",
       "    </tr>\n",
       "    <tr>\n",
       "      <th>13</th>\n",
       "      <td>fashion_bags_accessories</td>\n",
       "      <td>208</td>\n",
       "    </tr>\n",
       "    <tr>\n",
       "      <th>14</th>\n",
       "      <td>cool_stuff</td>\n",
       "      <td>189</td>\n",
       "    </tr>\n",
       "    <tr>\n",
       "      <th>15</th>\n",
       "      <td>garden_tools</td>\n",
       "      <td>179</td>\n",
       "    </tr>\n",
       "    <tr>\n",
       "      <th>16</th>\n",
       "      <td>pet_shop</td>\n",
       "      <td>169</td>\n",
       "    </tr>\n",
       "    <tr>\n",
       "      <th>17</th>\n",
       "      <td>Unknown</td>\n",
       "      <td>162</td>\n",
       "    </tr>\n",
       "    <tr>\n",
       "      <th>18</th>\n",
       "      <td>electronics</td>\n",
       "      <td>152</td>\n",
       "    </tr>\n",
       "    <tr>\n",
       "      <th>19</th>\n",
       "      <td>luggage_accessories</td>\n",
       "      <td>101</td>\n",
       "    </tr>\n",
       "  </tbody>\n",
       "</table>\n",
       "</div>"
      ],
      "text/plain": [
       "       product_category_name  uniqueSKUs\n",
       "0                       toys       24187\n",
       "1             bed_bath_table         781\n",
       "2             sports_leisure         710\n",
       "3            furniture_decor         668\n",
       "4              health_beauty         630\n",
       "5                 housewares         614\n",
       "6                       auto         474\n",
       "7      computers_accessories         411\n",
       "8              watches_gifts         330\n",
       "9                  telephony         282\n",
       "10                      baby         234\n",
       "11                stationery         233\n",
       "12                 perfumery         223\n",
       "13  fashion_bags_accessories         208\n",
       "14                cool_stuff         189\n",
       "15              garden_tools         179\n",
       "16                  pet_shop         169\n",
       "17                   Unknown         162\n",
       "18               electronics         152\n",
       "19       luggage_accessories         101"
      ]
     },
     "execution_count": 75,
     "metadata": {},
     "output_type": "execute_result"
    }
   ],
   "source": [
    "# Count distinct SKUs per category\n",
    "catDepth = (retail.groupby('product_category_name')['product_id']\n",
    "                    .nunique()\n",
    "                    .sort_values(ascending=False)\n",
    "                    .reset_index(name='uniqueSKUs'))\n",
    "\n",
    "print(\"Category Depth (Unique SKUs per category):\")\n",
    "catDepth[catDepth.uniqueSKUs>100]"
   ]
  },
  {
   "cell_type": "code",
   "execution_count": 76,
   "id": "5616d51d-c875-4c0a-a89f-475c74899617",
   "metadata": {},
   "outputs": [],
   "source": [
    "# Top 20 Product Categories in terms of SKUs have minimum 100 SKUs.\n",
    "# SKUs are going as high as 24187 in 'toys' category\n",
    "# Other than 'toys' category, the SKUs for top 20 categories have SKUs between 100 to 800."
   ]
  },
  {
   "cell_type": "markdown",
   "id": "98c01742-5946-447f-92e8-5ffed65f6afd",
   "metadata": {},
   "source": [
    "### Products Sold more than others"
   ]
  },
  {
   "cell_type": "code",
   "execution_count": 77,
   "id": "97b3f4a4-8995-4853-afb6-26e779046865",
   "metadata": {},
   "outputs": [
    {
     "name": "stderr",
     "output_type": "stream",
     "text": [
      "C:\\Users\\Umang Malhotra\\AppData\\Local\\Temp\\ipykernel_24732\\1578557352.py:8: FutureWarning: DataFrame.applymap has been deprecated. Use DataFrame.map instead.\n",
      "  ordCatBasket = ordCatBasket.applymap(lambda x: 1 if x > 0 else 0)\n"
     ]
    }
   ],
   "source": [
    "# Prepare basket (orders × categories)\n",
    "ordCatBasket = (retail.groupby(['order_id','product_category_name'])['product_id']\n",
    "                        .count()\n",
    "                        .unstack()\n",
    "                        .fillna(0))\n",
    "\n",
    "# Convert to binary (0/1)\n",
    "ordCatBasket = ordCatBasket.applymap(lambda x: 1 if x > 0 else 0)\n",
    "# Keep categories ordered >5 times\n",
    "ordCatBasket = ordCatBasket.loc[:, ordCatBasket.sum()>5]\n",
    "ordCatBasket = ordCatBasket.astype(bool)\n",
    "# ordCatBasket"
   ]
  },
  {
   "cell_type": "code",
   "execution_count": 78,
   "id": "98c91acd-fa6d-478e-bb11-78e1da28418a",
   "metadata": {},
   "outputs": [
    {
     "data": {
      "text/html": [
       "<div>\n",
       "<style scoped>\n",
       "    .dataframe tbody tr th:only-of-type {\n",
       "        vertical-align: middle;\n",
       "    }\n",
       "\n",
       "    .dataframe tbody tr th {\n",
       "        vertical-align: top;\n",
       "    }\n",
       "\n",
       "    .dataframe thead th {\n",
       "        text-align: right;\n",
       "    }\n",
       "</style>\n",
       "<table border=\"1\" class=\"dataframe\">\n",
       "  <thead>\n",
       "    <tr style=\"text-align: right;\">\n",
       "      <th></th>\n",
       "      <th>support</th>\n",
       "      <th>itemsets</th>\n",
       "    </tr>\n",
       "  </thead>\n",
       "  <tbody>\n",
       "    <tr>\n",
       "      <th>0</th>\n",
       "      <td>0.756181</td>\n",
       "      <td>(toys)</td>\n",
       "    </tr>\n",
       "    <tr>\n",
       "      <th>1</th>\n",
       "      <td>0.028934</td>\n",
       "      <td>(health_beauty)</td>\n",
       "    </tr>\n",
       "    <tr>\n",
       "      <th>2</th>\n",
       "      <td>0.023999</td>\n",
       "      <td>(bed_bath_table)</td>\n",
       "    </tr>\n",
       "    <tr>\n",
       "      <th>3</th>\n",
       "      <td>0.021107</td>\n",
       "      <td>(sports_leisure)</td>\n",
       "    </tr>\n",
       "    <tr>\n",
       "      <th>4</th>\n",
       "      <td>0.019562</td>\n",
       "      <td>(computers_accessories)</td>\n",
       "    </tr>\n",
       "    <tr>\n",
       "      <th>5</th>\n",
       "      <td>0.017841</td>\n",
       "      <td>(furniture_decor)</td>\n",
       "    </tr>\n",
       "    <tr>\n",
       "      <th>6</th>\n",
       "      <td>0.015187</td>\n",
       "      <td>(watches_gifts)</td>\n",
       "    </tr>\n",
       "    <tr>\n",
       "      <th>7</th>\n",
       "      <td>0.014928</td>\n",
       "      <td>(housewares)</td>\n",
       "    </tr>\n",
       "    <tr>\n",
       "      <th>8</th>\n",
       "      <td>0.011124</td>\n",
       "      <td>(telephony)</td>\n",
       "    </tr>\n",
       "    <tr>\n",
       "      <th>9</th>\n",
       "      <td>0.010253</td>\n",
       "      <td>(auto)</td>\n",
       "    </tr>\n",
       "  </tbody>\n",
       "</table>\n",
       "</div>"
      ],
      "text/plain": [
       "    support                 itemsets\n",
       "0  0.756181                   (toys)\n",
       "1  0.028934          (health_beauty)\n",
       "2  0.023999         (bed_bath_table)\n",
       "3  0.021107         (sports_leisure)\n",
       "4  0.019562  (computers_accessories)\n",
       "5  0.017841        (furniture_decor)\n",
       "6  0.015187          (watches_gifts)\n",
       "7  0.014928             (housewares)\n",
       "8  0.011124              (telephony)\n",
       "9  0.010253                   (auto)"
      ]
     },
     "execution_count": 78,
     "metadata": {},
     "output_type": "execute_result"
    }
   ],
   "source": [
    "# Apply Apriori\n",
    "freqItemSets = apriori(ordCatBasket, min_support=0.01, use_colnames=True)\n",
    "freqItemSets.sort_values(by='support', ascending=False, inplace=True, ignore_index=True)\n",
    "freqItemSets"
   ]
  },
  {
   "cell_type": "code",
   "execution_count": 79,
   "id": "c205db4d-887e-4666-9816-7f0f309b8c2d",
   "metadata": {},
   "outputs": [
    {
     "name": "stdout",
     "output_type": "stream",
     "text": [
      "Top Product Combinations Frequently Bought Together:\n"
     ]
    },
    {
     "data": {
      "text/html": [
       "<div>\n",
       "<style scoped>\n",
       "    .dataframe tbody tr th:only-of-type {\n",
       "        vertical-align: middle;\n",
       "    }\n",
       "\n",
       "    .dataframe tbody tr th {\n",
       "        vertical-align: top;\n",
       "    }\n",
       "\n",
       "    .dataframe thead th {\n",
       "        text-align: right;\n",
       "    }\n",
       "</style>\n",
       "<table border=\"1\" class=\"dataframe\">\n",
       "  <thead>\n",
       "    <tr style=\"text-align: right;\">\n",
       "      <th></th>\n",
       "      <th>antecedents</th>\n",
       "      <th>consequents</th>\n",
       "      <th>support</th>\n",
       "      <th>confidence</th>\n",
       "      <th>lift</th>\n",
       "    </tr>\n",
       "  </thead>\n",
       "  <tbody>\n",
       "  </tbody>\n",
       "</table>\n",
       "</div>"
      ],
      "text/plain": [
       "Empty DataFrame\n",
       "Columns: [antecedents, consequents, support, confidence, lift]\n",
       "Index: []"
      ]
     },
     "execution_count": 79,
     "metadata": {},
     "output_type": "execute_result"
    }
   ],
   "source": [
    "# Association rules\n",
    "rules = association_rules(freqItemSets, metric=\"lift\", min_threshold=-1)\n",
    "rules.sort_values(by='lift', ascending=False, inplace=True, ignore_index=True)\n",
    "rules\n",
    "\n",
    "print(\"Top Product Combinations Frequently Bought Together:\")\n",
    "rules[['antecedents','consequents','support','confidence','lift']].head(10)"
   ]
  },
  {
   "cell_type": "code",
   "execution_count": 80,
   "id": "8d780786-b986-42a9-a97e-d2176276e43f",
   "metadata": {},
   "outputs": [],
   "source": [
    "# With a support threshold as 0.01, there are only 10 frequently ordered itemsets.\n",
    "# All these itemsets have only 1 item each.\n",
    "# In the end, there are no associations found between different items."
   ]
  },
  {
   "cell_type": "code",
   "execution_count": 81,
   "id": "e418fb8c-4b14-4c7b-a891-dabedb203c70",
   "metadata": {},
   "outputs": [
    {
     "data": {
      "text/html": [
       "<div>\n",
       "<style scoped>\n",
       "    .dataframe tbody tr th:only-of-type {\n",
       "        vertical-align: middle;\n",
       "    }\n",
       "\n",
       "    .dataframe tbody tr th {\n",
       "        vertical-align: top;\n",
       "    }\n",
       "\n",
       "    .dataframe thead th {\n",
       "        text-align: right;\n",
       "    }\n",
       "</style>\n",
       "<table border=\"1\" class=\"dataframe\">\n",
       "  <thead>\n",
       "    <tr style=\"text-align: right;\">\n",
       "      <th></th>\n",
       "      <th>support</th>\n",
       "      <th>itemsets</th>\n",
       "    </tr>\n",
       "  </thead>\n",
       "  <tbody>\n",
       "    <tr>\n",
       "      <th>0</th>\n",
       "      <td>0.756181</td>\n",
       "      <td>(toys)</td>\n",
       "    </tr>\n",
       "    <tr>\n",
       "      <th>1</th>\n",
       "      <td>0.028934</td>\n",
       "      <td>(health_beauty)</td>\n",
       "    </tr>\n",
       "    <tr>\n",
       "      <th>2</th>\n",
       "      <td>0.023999</td>\n",
       "      <td>(bed_bath_table)</td>\n",
       "    </tr>\n",
       "    <tr>\n",
       "      <th>3</th>\n",
       "      <td>0.021107</td>\n",
       "      <td>(sports_leisure)</td>\n",
       "    </tr>\n",
       "    <tr>\n",
       "      <th>4</th>\n",
       "      <td>0.019562</td>\n",
       "      <td>(computers_accessories)</td>\n",
       "    </tr>\n",
       "    <tr>\n",
       "      <th>5</th>\n",
       "      <td>0.017841</td>\n",
       "      <td>(furniture_decor)</td>\n",
       "    </tr>\n",
       "    <tr>\n",
       "      <th>6</th>\n",
       "      <td>0.015187</td>\n",
       "      <td>(watches_gifts)</td>\n",
       "    </tr>\n",
       "    <tr>\n",
       "      <th>7</th>\n",
       "      <td>0.014928</td>\n",
       "      <td>(housewares)</td>\n",
       "    </tr>\n",
       "    <tr>\n",
       "      <th>8</th>\n",
       "      <td>0.011124</td>\n",
       "      <td>(telephony)</td>\n",
       "    </tr>\n",
       "    <tr>\n",
       "      <th>9</th>\n",
       "      <td>0.010253</td>\n",
       "      <td>(auto)</td>\n",
       "    </tr>\n",
       "    <tr>\n",
       "      <th>10</th>\n",
       "      <td>0.009693</td>\n",
       "      <td>(cool_stuff)</td>\n",
       "    </tr>\n",
       "    <tr>\n",
       "      <th>11</th>\n",
       "      <td>0.008522</td>\n",
       "      <td>(garden_tools)</td>\n",
       "    </tr>\n",
       "    <tr>\n",
       "      <th>12</th>\n",
       "      <td>0.007744</td>\n",
       "      <td>(perfumery)</td>\n",
       "    </tr>\n",
       "    <tr>\n",
       "      <th>13</th>\n",
       "      <td>0.007267</td>\n",
       "      <td>(baby)</td>\n",
       "    </tr>\n",
       "    <tr>\n",
       "      <th>14</th>\n",
       "      <td>0.006842</td>\n",
       "      <td>(electronics)</td>\n",
       "    </tr>\n",
       "    <tr>\n",
       "      <th>15</th>\n",
       "      <td>0.005878</td>\n",
       "      <td>(stationery)</td>\n",
       "    </tr>\n",
       "    <tr>\n",
       "      <th>16</th>\n",
       "      <td>0.005059</td>\n",
       "      <td>(office_furniture)</td>\n",
       "    </tr>\n",
       "    <tr>\n",
       "      <th>17</th>\n",
       "      <td>0.004758</td>\n",
       "      <td>(pet_shop)</td>\n",
       "    </tr>\n",
       "    <tr>\n",
       "      <th>18</th>\n",
       "      <td>0.004188</td>\n",
       "      <td>(fashion_bags_accessories)</td>\n",
       "    </tr>\n",
       "    <tr>\n",
       "      <th>19</th>\n",
       "      <td>0.003359</td>\n",
       "      <td>(Unknown)</td>\n",
       "    </tr>\n",
       "    <tr>\n",
       "      <th>20</th>\n",
       "      <td>0.003017</td>\n",
       "      <td>(toys, bed_bath_table)</td>\n",
       "    </tr>\n",
       "    <tr>\n",
       "      <th>21</th>\n",
       "      <td>0.002457</td>\n",
       "      <td>(home_appliances)</td>\n",
       "    </tr>\n",
       "    <tr>\n",
       "      <th>22</th>\n",
       "      <td>0.002167</td>\n",
       "      <td>(construction_tools_construction)</td>\n",
       "    </tr>\n",
       "    <tr>\n",
       "      <th>23</th>\n",
       "      <td>0.002022</td>\n",
       "      <td>(luggage_accessories)</td>\n",
       "    </tr>\n",
       "    <tr>\n",
       "      <th>24</th>\n",
       "      <td>0.001928</td>\n",
       "      <td>(consoles_games)</td>\n",
       "    </tr>\n",
       "    <tr>\n",
       "      <th>25</th>\n",
       "      <td>0.001845</td>\n",
       "      <td>(musical_instruments)</td>\n",
       "    </tr>\n",
       "    <tr>\n",
       "      <th>26</th>\n",
       "      <td>0.001586</td>\n",
       "      <td>(toys, furniture_decor)</td>\n",
       "    </tr>\n",
       "    <tr>\n",
       "      <th>27</th>\n",
       "      <td>0.001482</td>\n",
       "      <td>(small_appliances)</td>\n",
       "    </tr>\n",
       "    <tr>\n",
       "      <th>28</th>\n",
       "      <td>0.001472</td>\n",
       "      <td>(home_construction)</td>\n",
       "    </tr>\n",
       "    <tr>\n",
       "      <th>29</th>\n",
       "      <td>0.001234</td>\n",
       "      <td>(audio)</td>\n",
       "    </tr>\n",
       "    <tr>\n",
       "      <th>30</th>\n",
       "      <td>0.001068</td>\n",
       "      <td>(toys, computers_accessories)</td>\n",
       "    </tr>\n",
       "    <tr>\n",
       "      <th>31</th>\n",
       "      <td>0.000974</td>\n",
       "      <td>(market_place)</td>\n",
       "    </tr>\n",
       "    <tr>\n",
       "      <th>32</th>\n",
       "      <td>0.000964</td>\n",
       "      <td>(books_technical)</td>\n",
       "    </tr>\n",
       "    <tr>\n",
       "      <th>33</th>\n",
       "      <td>0.000943</td>\n",
       "      <td>(books_general_interest)</td>\n",
       "    </tr>\n",
       "  </tbody>\n",
       "</table>\n",
       "</div>"
      ],
      "text/plain": [
       "     support                           itemsets\n",
       "0   0.756181                             (toys)\n",
       "1   0.028934                    (health_beauty)\n",
       "2   0.023999                   (bed_bath_table)\n",
       "3   0.021107                   (sports_leisure)\n",
       "4   0.019562            (computers_accessories)\n",
       "5   0.017841                  (furniture_decor)\n",
       "6   0.015187                    (watches_gifts)\n",
       "7   0.014928                       (housewares)\n",
       "8   0.011124                        (telephony)\n",
       "9   0.010253                             (auto)\n",
       "10  0.009693                       (cool_stuff)\n",
       "11  0.008522                     (garden_tools)\n",
       "12  0.007744                        (perfumery)\n",
       "13  0.007267                             (baby)\n",
       "14  0.006842                      (electronics)\n",
       "15  0.005878                       (stationery)\n",
       "16  0.005059                 (office_furniture)\n",
       "17  0.004758                         (pet_shop)\n",
       "18  0.004188         (fashion_bags_accessories)\n",
       "19  0.003359                          (Unknown)\n",
       "20  0.003017             (toys, bed_bath_table)\n",
       "21  0.002457                  (home_appliances)\n",
       "22  0.002167  (construction_tools_construction)\n",
       "23  0.002022              (luggage_accessories)\n",
       "24  0.001928                   (consoles_games)\n",
       "25  0.001845              (musical_instruments)\n",
       "26  0.001586            (toys, furniture_decor)\n",
       "27  0.001482                 (small_appliances)\n",
       "28  0.001472                (home_construction)\n",
       "29  0.001234                            (audio)\n",
       "30  0.001068      (toys, computers_accessories)\n",
       "31  0.000974                     (market_place)\n",
       "32  0.000964                  (books_technical)\n",
       "33  0.000943           (books_general_interest)"
      ]
     },
     "execution_count": 81,
     "metadata": {},
     "output_type": "execute_result"
    }
   ],
   "source": [
    "# Apply Apriori\n",
    "freqItemSets = apriori(ordCatBasket, min_support=0.0009, use_colnames=True)\n",
    "freqItemSets.sort_values(by='support', ascending=False, inplace=True, ignore_index=True)\n",
    "freqItemSets"
   ]
  },
  {
   "cell_type": "code",
   "execution_count": 82,
   "id": "87166fef-e76b-449e-b2af-bd77c890d87b",
   "metadata": {},
   "outputs": [
    {
     "name": "stdout",
     "output_type": "stream",
     "text": [
      "Top Product Combinations Frequently Bought Together:\n"
     ]
    },
    {
     "data": {
      "text/html": [
       "<div>\n",
       "<style scoped>\n",
       "    .dataframe tbody tr th:only-of-type {\n",
       "        vertical-align: middle;\n",
       "    }\n",
       "\n",
       "    .dataframe tbody tr th {\n",
       "        vertical-align: top;\n",
       "    }\n",
       "\n",
       "    .dataframe thead th {\n",
       "        text-align: right;\n",
       "    }\n",
       "</style>\n",
       "<table border=\"1\" class=\"dataframe\">\n",
       "  <thead>\n",
       "    <tr style=\"text-align: right;\">\n",
       "      <th></th>\n",
       "      <th>antecedents</th>\n",
       "      <th>consequents</th>\n",
       "      <th>support</th>\n",
       "      <th>confidence</th>\n",
       "      <th>lift</th>\n",
       "    </tr>\n",
       "  </thead>\n",
       "  <tbody>\n",
       "    <tr>\n",
       "      <th>0</th>\n",
       "      <td>(toys)</td>\n",
       "      <td>(bed_bath_table)</td>\n",
       "      <td>0.003017</td>\n",
       "      <td>0.003989</td>\n",
       "      <td>0.166233</td>\n",
       "    </tr>\n",
       "    <tr>\n",
       "      <th>1</th>\n",
       "      <td>(bed_bath_table)</td>\n",
       "      <td>(toys)</td>\n",
       "      <td>0.003017</td>\n",
       "      <td>0.125702</td>\n",
       "      <td>0.166233</td>\n",
       "    </tr>\n",
       "    <tr>\n",
       "      <th>2</th>\n",
       "      <td>(toys)</td>\n",
       "      <td>(furniture_decor)</td>\n",
       "      <td>0.001586</td>\n",
       "      <td>0.002098</td>\n",
       "      <td>0.117567</td>\n",
       "    </tr>\n",
       "    <tr>\n",
       "      <th>3</th>\n",
       "      <td>(furniture_decor)</td>\n",
       "      <td>(toys)</td>\n",
       "      <td>0.001586</td>\n",
       "      <td>0.088902</td>\n",
       "      <td>0.117567</td>\n",
       "    </tr>\n",
       "    <tr>\n",
       "      <th>4</th>\n",
       "      <td>(computers_accessories)</td>\n",
       "      <td>(toys)</td>\n",
       "      <td>0.001068</td>\n",
       "      <td>0.054584</td>\n",
       "      <td>0.072184</td>\n",
       "    </tr>\n",
       "    <tr>\n",
       "      <th>5</th>\n",
       "      <td>(toys)</td>\n",
       "      <td>(computers_accessories)</td>\n",
       "      <td>0.001068</td>\n",
       "      <td>0.001412</td>\n",
       "      <td>0.072184</td>\n",
       "    </tr>\n",
       "  </tbody>\n",
       "</table>\n",
       "</div>"
      ],
      "text/plain": [
       "               antecedents              consequents   support  confidence  \\\n",
       "0                   (toys)         (bed_bath_table)  0.003017    0.003989   \n",
       "1         (bed_bath_table)                   (toys)  0.003017    0.125702   \n",
       "2                   (toys)        (furniture_decor)  0.001586    0.002098   \n",
       "3        (furniture_decor)                   (toys)  0.001586    0.088902   \n",
       "4  (computers_accessories)                   (toys)  0.001068    0.054584   \n",
       "5                   (toys)  (computers_accessories)  0.001068    0.001412   \n",
       "\n",
       "       lift  \n",
       "0  0.166233  \n",
       "1  0.166233  \n",
       "2  0.117567  \n",
       "3  0.117567  \n",
       "4  0.072184  \n",
       "5  0.072184  "
      ]
     },
     "execution_count": 82,
     "metadata": {},
     "output_type": "execute_result"
    }
   ],
   "source": [
    "# Association rules\n",
    "rules = association_rules(freqItemSets, metric=\"lift\", min_threshold=-1)\n",
    "rules.sort_values(by='lift', ascending=False, inplace=True, ignore_index=True)\n",
    "rules\n",
    "\n",
    "print(\"Top Product Combinations Frequently Bought Together:\")\n",
    "rules[['antecedents','consequents','support','confidence','lift']].head(10)"
   ]
  },
  {
   "cell_type": "code",
   "execution_count": 83,
   "id": "6c6a04a6-ec6d-48d1-a383-e30eda695acb",
   "metadata": {},
   "outputs": [],
   "source": [
    "# With a support threshold as low as 0.0009, there are 34 frequently ordered itemsets.\n",
    "# Only 2 itemsets [(toys, furniture_decor) and (toys, computers_accessories)] have 2 items each.\n",
    "# In the end, there are a few associations found.\n",
    "# However, highest support, confidence and lift are approximately 0.003, 0.004 and 0.166 respectively."
   ]
  },
  {
   "cell_type": "markdown",
   "id": "0c59b631-468f-48a1-b8b5-69f27c3b088b",
   "metadata": {
    "jp-MarkdownHeadingCollapsed": true
   },
   "source": [
    "### Reduce Inventory"
   ]
  },
  {
   "cell_type": "code",
   "execution_count": 84,
   "id": "e9ac4e9c-aad4-4ce7-aacd-0f22b8155112",
   "metadata": {},
   "outputs": [
    {
     "name": "stdout",
     "output_type": "stream",
     "text": [
      "Categories recommended for reduction (low revenue, high SKU count):\n"
     ]
    },
    {
     "data": {
      "text/html": [
       "<div>\n",
       "<style scoped>\n",
       "    .dataframe tbody tr th:only-of-type {\n",
       "        vertical-align: middle;\n",
       "    }\n",
       "\n",
       "    .dataframe tbody tr th {\n",
       "        vertical-align: top;\n",
       "    }\n",
       "\n",
       "    .dataframe thead th {\n",
       "        text-align: right;\n",
       "    }\n",
       "</style>\n",
       "<table border=\"1\" class=\"dataframe\">\n",
       "  <thead>\n",
       "    <tr style=\"text-align: right;\">\n",
       "      <th></th>\n",
       "      <th>product_category_name</th>\n",
       "      <th>total_revenue_per_category</th>\n",
       "      <th>uniqueSKUs</th>\n",
       "      <th>revenue_per_sku</th>\n",
       "    </tr>\n",
       "  </thead>\n",
       "  <tbody>\n",
       "    <tr>\n",
       "      <th>11</th>\n",
       "      <td>books_technical</td>\n",
       "      <td>7304.58</td>\n",
       "      <td>33</td>\n",
       "      <td>221.350909</td>\n",
       "    </tr>\n",
       "    <tr>\n",
       "      <th>31</th>\n",
       "      <td>fashion_shoes</td>\n",
       "      <td>6394.29</td>\n",
       "      <td>47</td>\n",
       "      <td>136.048723</td>\n",
       "    </tr>\n",
       "    <tr>\n",
       "      <th>62</th>\n",
       "      <td>signaling_and_security</td>\n",
       "      <td>4356.80</td>\n",
       "      <td>30</td>\n",
       "      <td>145.226667</td>\n",
       "    </tr>\n",
       "  </tbody>\n",
       "</table>\n",
       "</div>"
      ],
      "text/plain": [
       "     product_category_name  total_revenue_per_category  uniqueSKUs  \\\n",
       "11         books_technical                     7304.58          33   \n",
       "31           fashion_shoes                     6394.29          47   \n",
       "62  signaling_and_security                     4356.80          30   \n",
       "\n",
       "    revenue_per_sku  \n",
       "11       221.350909  \n",
       "31       136.048723  \n",
       "62       145.226667  "
      ]
     },
     "execution_count": 84,
     "metadata": {},
     "output_type": "execute_result"
    }
   ],
   "source": [
    "# Revenue contribution by category\n",
    "catContrib = (retail.groupby('product_category_name')['revenue']\n",
    "                                .sum()\n",
    "                                .reset_index(name='total_revenue_per_category'))\n",
    "\n",
    "# Category depth (unique SKUs)\n",
    "catDepth = (retail.groupby('product_category_name')['product_id']\n",
    "                    .nunique()\n",
    "                    .sort_values(ascending=False)\n",
    "                    .reset_index(name='uniqueSKUs'))\n",
    "\n",
    "# Merge both\n",
    "catEvaluation = pd.merge(catContrib, catDepth, on='product_category_name')\n",
    "\n",
    "# Revenue per SKU → efficiency measure\n",
    "catEvaluation['revenue_per_sku'] = catEvaluation['total_revenue_per_category'] / catEvaluation['uniqueSKUs']\n",
    "\n",
    "# Low-revenue, high-SKU categories (inefficient inventory)\n",
    "lowValueCats = catEvaluation[\n",
    "                (catEvaluation['total_revenue_per_category'] < catEvaluation['total_revenue_per_category'].median()) &\n",
    "                (catEvaluation['uniqueSKUs'] > catEvaluation['uniqueSKUs'].median())]\n",
    "\n",
    "print(\"Categories recommended for reduction (low revenue, high SKU count):\")\n",
    "lowValueCats"
   ]
  },
  {
   "cell_type": "code",
   "execution_count": 85,
   "id": "2a5cdf64-0057-4a19-8bfd-1c1d8981f928",
   "metadata": {},
   "outputs": [],
   "source": [
    "# Categories such as books_technical, fashion_shoes etc contribute low revenue than median revenue across categories.\n",
    "# Number of SKUs in these categories are higher than median number of SKUs across categories.\n",
    "# Such SKUs in the mentioned categories are the potential candidates for reduction in OList's inventory."
   ]
  },
  {
   "cell_type": "code",
   "execution_count": 86,
   "id": "dc2df035-3a06-4367-b14f-cb5c81ce1eee",
   "metadata": {},
   "outputs": [],
   "source": [
    "########################################################################"
   ]
  },
  {
   "cell_type": "markdown",
   "id": "42a7d03a-ba1c-46cd-b01c-6115d7643f57",
   "metadata": {},
   "source": [
    "## Export cleaned/preprocessed dataset for Tableau Visualization & Dashboarding"
   ]
  },
  {
   "cell_type": "code",
   "execution_count": 87,
   "id": "eabe326b-0bb7-4dac-b3fc-3991810a52a4",
   "metadata": {},
   "outputs": [],
   "source": [
    "retail.to_excel(excel_writer='retail_preprocessed.xlsx', sheet_name='Cleaned_Table', freeze_panes=(1,1), index=False)"
   ]
  },
  {
   "cell_type": "code",
   "execution_count": 90,
   "id": "e2717240-a4c4-4d03-8b6b-2bab8306cc61",
   "metadata": {},
   "outputs": [],
   "source": [
    "rules[['antecedents','consequents','support','confidence','lift']].to_excel(excel_writer=\"Market_Basket_Analysis_Rules.xlsx\", index=False)"
   ]
  },
  {
   "cell_type": "code",
   "execution_count": 88,
   "id": "e2019c50-daf6-4d45-9b94-574882f5c418",
   "metadata": {},
   "outputs": [],
   "source": [
    "########################################################################"
   ]
  }
 ],
 "metadata": {
  "kernelspec": {
   "display_name": "Python 3 (ipykernel)",
   "language": "python",
   "name": "python3"
  },
  "language_info": {
   "codemirror_mode": {
    "name": "ipython",
    "version": 3
   },
   "file_extension": ".py",
   "mimetype": "text/x-python",
   "name": "python",
   "nbconvert_exporter": "python",
   "pygments_lexer": "ipython3",
   "version": "3.12.3"
  }
 },
 "nbformat": 4,
 "nbformat_minor": 5
}
